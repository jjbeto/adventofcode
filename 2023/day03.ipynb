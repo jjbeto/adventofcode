{
 "cells": [
  {
   "cell_type": "markdown",
   "source": [
    "[Day 03](https://adventofcode.com/2023/day/3)\n",
    "\n",
    "### --- Part One & Two ---"
   ],
   "metadata": {
    "collapsed": false
   }
  },
  {
   "cell_type": "code",
   "execution_count": 1,
   "outputs": [
    {
     "name": "stdout",
     "output_type": "stream",
     "text": [
      "Answer 1: 554003\n",
      "Answer 2: 87263515\n"
     ]
    }
   ],
   "source": [
    "from collections import defaultdict\n",
    "\n",
    "import utils\n",
    "\n",
    "lines = open('day03.txt').read().splitlines()\n",
    "graph = utils.positional_squared_graph(len(lines))\n",
    "total = 0\n",
    "gears = defaultdict(list)\n",
    "num = ''\n",
    "neighbours = set()\n",
    "for x, line in enumerate(lines):\n",
    "    _y = 0\n",
    "    for y, col in enumerate(line):\n",
    "        if y < _y:\n",
    "            continue\n",
    "        _y = y\n",
    "        while True:\n",
    "            if _y == len(line) or not line[min(_y, len(line) - 1)].isnumeric():\n",
    "                for nx, ny in neighbours:\n",
    "                    elem = lines[nx][ny]\n",
    "                    if not elem.isnumeric() and elem != '.' and num != '':\n",
    "                        if elem == '*':\n",
    "                            gears[(nx, ny)].append(int(num))\n",
    "                        total += int(num)\n",
    "                        break\n",
    "                num, neighbours = '', set()\n",
    "                break\n",
    "            else:\n",
    "                num += line[_y]\n",
    "                neighbours.update(graph[(x, _y)])\n",
    "            _y += 1\n",
    "\n",
    "total_ratio = sum([each[0] * each[1] for each in gears.values() if len(each) == 2])\n",
    "\n",
    "print(f'Answer 1: {total}')\n",
    "print(f'Answer 2: {total_ratio}')"
   ],
   "metadata": {
    "collapsed": false,
    "ExecuteTime": {
     "end_time": "2023-12-03T11:51:29.707038Z",
     "start_time": "2023-12-03T11:51:29.586735Z"
    }
   }
  }
 ],
 "metadata": {
  "kernelspec": {
   "display_name": "Python 3",
   "language": "python",
   "name": "python3"
  },
  "language_info": {
   "codemirror_mode": {
    "name": "ipython",
    "version": 2
   },
   "file_extension": ".py",
   "mimetype": "text/x-python",
   "name": "python",
   "nbconvert_exporter": "python",
   "pygments_lexer": "ipython2",
   "version": "2.7.6"
  }
 },
 "nbformat": 4,
 "nbformat_minor": 0
}
