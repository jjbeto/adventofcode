{
 "cells": [
  {
   "cell_type": "markdown",
   "source": [
    "[Day 04](https://adventofcode.com/2023/day/4)\n",
    "\n",
    "### --- Part One & Two ---"
   ],
   "metadata": {
    "collapsed": false
   }
  },
  {
   "cell_type": "code",
   "execution_count": 1,
   "outputs": [
    {
     "name": "stdout",
     "output_type": "stream",
     "text": [
      "Answer 1: 32609\n",
      "Answer 2: 14624680\n"
     ]
    }
   ],
   "source": [
    "from collections import defaultdict\n",
    "\n",
    "raw = open('day04.txt').read().replace('  ', ' ')\n",
    "total = 0\n",
    "match = defaultdict(int)\n",
    "for i, line in enumerate(raw.splitlines()):\n",
    "    lists = line.split(': ')[1].split(' | ')\n",
    "    winning, have = lists[0].split(' '), lists[1].split(' ')\n",
    "    common = set(winning).intersection(have)\n",
    "    match[i + 1] = len(common)\n",
    "    if common:\n",
    "        total += 2 ** (len(common) - 1)\n",
    "\n",
    "pile = defaultdict(int)\n",
    "for i, n in match.items():\n",
    "    pile[i] += 1\n",
    "    for copy in range(i + 1, i + 1 + n):\n",
    "        pile[copy] += pile[i]\n",
    "\n",
    "print(f'Answer 1: {total}')\n",
    "print(f'Answer 2: {sum(pile.values())}')"
   ],
   "metadata": {
    "collapsed": false,
    "ExecuteTime": {
     "end_time": "2023-12-04T14:15:23.382798Z",
     "start_time": "2023-12-04T14:15:23.369579Z"
    }
   }
  }
 ],
 "metadata": {
  "kernelspec": {
   "display_name": "Python 3",
   "language": "python",
   "name": "python3"
  },
  "language_info": {
   "codemirror_mode": {
    "name": "ipython",
    "version": 2
   },
   "file_extension": ".py",
   "mimetype": "text/x-python",
   "name": "python",
   "nbconvert_exporter": "python",
   "pygments_lexer": "ipython2",
   "version": "2.7.6"
  }
 },
 "nbformat": 4,
 "nbformat_minor": 0
}
