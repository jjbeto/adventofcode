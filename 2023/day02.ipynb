{
 "cells": [
  {
   "cell_type": "markdown",
   "source": [
    "[Day 02](https://adventofcode.com/2023/day/2)\n",
    "\n",
    "### --- Part One ---"
   ],
   "metadata": {
    "collapsed": false
   }
  },
  {
   "cell_type": "code",
   "execution_count": 1,
   "outputs": [
    {
     "name": "stdout",
     "output_type": "stream",
     "text": [
      "Answer: 2204\n"
     ]
    }
   ],
   "source": [
    "def solution1(data):\n",
    "    total = 0\n",
    "    for i, line in enumerate(data.splitlines()):\n",
    "        games = [g.split(', ') for g in line.split(': ')[1].split('; ')]\n",
    "        possible = True\n",
    "        for game in games:\n",
    "            for g in [_g.split(' ') for _g in game]:\n",
    "                k, v = g[1], int(g[0])\n",
    "                possible = (k == 'red' and v <= 12) or (k == 'green' and v <= 13) or (k == 'blue' and v <= 14)\n",
    "                if not possible:\n",
    "                    break\n",
    "            else:\n",
    "                continue\n",
    "            break\n",
    "        if possible:\n",
    "            total += int(i) + 1\n",
    "    return total\n",
    "\n",
    "\n",
    "raw = open('day02.txt').read()\n",
    "print(f'Answer: {solution1(raw)}')"
   ],
   "metadata": {
    "collapsed": false,
    "ExecuteTime": {
     "end_time": "2023-12-02T09:07:12.909558Z",
     "start_time": "2023-12-02T09:07:12.895652Z"
    }
   }
  },
  {
   "cell_type": "markdown",
   "source": [
    "### --- Part Two ---"
   ],
   "metadata": {
    "collapsed": false
   }
  },
  {
   "cell_type": "code",
   "execution_count": 2,
   "outputs": [
    {
     "name": "stdout",
     "output_type": "stream",
     "text": [
      "Answer: 71036\n"
     ]
    }
   ],
   "source": [
    "def solution2(data):\n",
    "    total = 0\n",
    "    for line in data.splitlines():\n",
    "        games = [g.split(', ') for g in line.split(': ')[1].split('; ')]\n",
    "        r, g, b = 0, 0, 0\n",
    "        for game in games:\n",
    "            for e in [_g.split(' ') for _g in game]:\n",
    "                k, v = e[1], int(e[0])\n",
    "                if k == 'red' and v > r:\n",
    "                    r = v\n",
    "                elif k == 'green' and v > g:\n",
    "                    g = v\n",
    "                elif k == 'blue' and v > b:\n",
    "                    b = v\n",
    "        total += r * g * b\n",
    "    return total\n",
    "\n",
    "\n",
    "raw = open('day02.txt').read()\n",
    "print(f'Answer: {solution2(raw)}')"
   ],
   "metadata": {
    "collapsed": false,
    "pycharm": {
     "name": "#%%\n"
    },
    "ExecuteTime": {
     "end_time": "2023-12-02T09:07:14.439173Z",
     "start_time": "2023-12-02T09:07:14.419182Z"
    }
   }
  }
 ],
 "metadata": {
  "kernelspec": {
   "display_name": "Python 3",
   "language": "python",
   "name": "python3"
  },
  "language_info": {
   "codemirror_mode": {
    "name": "ipython",
    "version": 2
   },
   "file_extension": ".py",
   "mimetype": "text/x-python",
   "name": "python",
   "nbconvert_exporter": "python",
   "pygments_lexer": "ipython2",
   "version": "2.7.6"
  }
 },
 "nbformat": 4,
 "nbformat_minor": 0
}
