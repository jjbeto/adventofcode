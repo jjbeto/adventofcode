{
 "cells": [
  {
   "cell_type": "markdown",
   "metadata": {
    "collapsed": true,
    "pycharm": {
     "name": "#%% md\n"
    }
   },
   "source": [
    "[Day 01](https://adventofcode.com/2021/day/1)\n",
    "\n",
    "### --- Part One ---"
   ]
  },
  {
   "cell_type": "code",
   "source": [
    "data = open('data.txt')\n",
    "lines = [line for line in data.read().splitlines()]\n",
    "\n",
    "def get_calibrations():\n",
    "    calibrations = []\n",
    "    for line in lines:\n",
    "        c1 = ''\n",
    "        c2 = ''\n",
    "        for c in line:\n",
    "            if c.isnumeric():\n",
    "                if c1 == '':\n",
    "                    c1 = c\n",
    "                else:\n",
    "                    c2 = c\n",
    "        if c2 == '':\n",
    "            c2 = c1\n",
    "        calibrations.append(int(c1 + c2))\n",
    "    return calibrations\n",
    "\n",
    "print(f'Answer: {sum(get_calibrations())}')"
   ],
   "metadata": {
    "collapsed": false,
    "pycharm": {
     "name": "#%%\n"
    },
    "ExecuteTime": {
     "end_time": "2023-12-01T09:21:07.582718Z",
     "start_time": "2023-12-01T09:21:07.557504Z"
    }
   },
   "execution_count": 3,
   "outputs": [
    {
     "name": "stdout",
     "output_type": "stream",
     "text": [
      "Answer: 55172\n"
     ]
    }
   ]
  },
  {
   "cell_type": "markdown",
   "source": [
    "### --- Part Two ---"
   ],
   "metadata": {
    "collapsed": false
   }
  },
  {
   "cell_type": "code",
   "execution_count": 4,
   "outputs": [
    {
     "name": "stdout",
     "output_type": "stream",
     "text": [
      "Answer: 54925\n"
     ]
    }
   ],
   "source": [
    "def to_digits(raw):\n",
    "    for k, v in {\n",
    "        'oneight': '18',\n",
    "        'zerone': '01',\n",
    "        'twone': '21',\n",
    "        'nineight': '98',\n",
    "        'threeight': '38',\n",
    "        'fiveight': '58',\n",
    "        'eightwo': '82',\n",
    "        'eighthree': '83',\n",
    "        'one': '1', 'two': '2', 'three': '3', 'four': '4', 'five': '5',\n",
    "        'six': '6', 'seven': '7', 'eight': '8', 'nine': '9', 'zero': '0'\n",
    "    }.items():\n",
    "        raw = raw.replace(k, v)\n",
    "    return raw\n",
    "\n",
    "\n",
    "data = open('data.txt')\n",
    "lines = [to_digits(line) for line in data.read().splitlines()]\n",
    "\n",
    "print(f'Answer: {sum(get_calibrations())}')"
   ],
   "metadata": {
    "collapsed": false,
    "pycharm": {
     "name": "#%%\n"
    },
    "ExecuteTime": {
     "end_time": "2023-12-01T09:22:55.054045Z",
     "start_time": "2023-12-01T09:22:55.034398Z"
    }
   }
  },
  {
   "cell_type": "code",
   "execution_count": null,
   "outputs": [],
   "source": [],
   "metadata": {
    "collapsed": false
   }
  }
 ],
 "metadata": {
  "kernelspec": {
   "display_name": "Python 3",
   "language": "python",
   "name": "python3"
  },
  "language_info": {
   "codemirror_mode": {
    "name": "ipython",
    "version": 2
   },
   "file_extension": ".py",
   "mimetype": "text/x-python",
   "name": "python",
   "nbconvert_exporter": "python",
   "pygments_lexer": "ipython2",
   "version": "2.7.6"
  }
 },
 "nbformat": 4,
 "nbformat_minor": 0
}
