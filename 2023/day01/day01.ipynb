{
 "cells": [
  {
   "cell_type": "code",
   "execution_count": 1,
   "outputs": [],
   "source": [
    "import sys\n",
    "sys.path.append('..')\n",
    "import utils"
   ],
   "metadata": {
    "collapsed": false,
    "ExecuteTime": {
     "end_time": "2023-12-01T21:52:01.741499Z",
     "start_time": "2023-12-01T21:52:01.736613Z"
    }
   }
  },
  {
   "cell_type": "markdown",
   "source": [
    "[Day 01](https://adventofcode.com/2023/day/1)\n",
    "\n",
    "### --- Part One ---"
   ],
   "metadata": {
    "collapsed": false
   }
  },
  {
   "cell_type": "code",
   "execution_count": 2,
   "outputs": [
    {
     "name": "stdout",
     "output_type": "stream",
     "text": [
      "Answer: 55172\n"
     ]
    }
   ],
   "source": [
    "def calibration(data):\n",
    "    total = 0\n",
    "    for line in data.splitlines():\n",
    "        first = utils.first_numeric(line)\n",
    "        last = utils.first_numeric(line[::-1])\n",
    "        total += int(first + last)\n",
    "    return total\n",
    "\n",
    "\n",
    "raw = open('data.txt').read()\n",
    "print(f'Answer: {calibration(raw)}')"
   ],
   "metadata": {
    "collapsed": false,
    "ExecuteTime": {
     "end_time": "2023-12-01T21:52:03.235704Z",
     "start_time": "2023-12-01T21:52:03.205968Z"
    }
   }
  },
  {
   "cell_type": "markdown",
   "source": [
    "### --- Part Two ---"
   ],
   "metadata": {
    "collapsed": false
   }
  },
  {
   "cell_type": "code",
   "execution_count": 3,
   "outputs": [
    {
     "name": "stdout",
     "output_type": "stream",
     "text": [
      "Answer: 54925\n"
     ]
    }
   ],
   "source": [
    "def to_digits(data):\n",
    "    dictionary = {\n",
    "        'one': 'o1e', 'two': 't2o', 'three': 't3e', 'four': 'f4r', 'five': 'f5e',\n",
    "        'six': 's6x', 'seven': 's7n', 'eight': 'e8t', 'nine': 'n9e', 'zero': 'z0o'\n",
    "    }\n",
    "    for k, v in dictionary.items():\n",
    "        data = data.replace(k, v)\n",
    "    return data\n",
    "\n",
    "\n",
    "raw = to_digits(open('data.txt').read())\n",
    "\n",
    "print(f'Answer: {calibration(raw)}')"
   ],
   "metadata": {
    "collapsed": false,
    "pycharm": {
     "name": "#%%\n"
    },
    "ExecuteTime": {
     "end_time": "2023-12-01T21:52:04.650985Z",
     "start_time": "2023-12-01T21:52:04.618091Z"
    }
   }
  }
 ],
 "metadata": {
  "kernelspec": {
   "display_name": "Python 3",
   "language": "python",
   "name": "python3"
  },
  "language_info": {
   "codemirror_mode": {
    "name": "ipython",
    "version": 2
   },
   "file_extension": ".py",
   "mimetype": "text/x-python",
   "name": "python",
   "nbconvert_exporter": "python",
   "pygments_lexer": "ipython2",
   "version": "2.7.6"
  }
 },
 "nbformat": 4,
 "nbformat_minor": 0
}
