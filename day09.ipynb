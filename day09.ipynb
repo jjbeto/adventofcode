{
 "cells": [
  {
   "cell_type": "markdown",
   "metadata": {
    "collapsed": true,
    "pycharm": {
     "name": "#%% md\n"
    }
   },
   "source": [
    "[Day 09](https://adventofcode.com/2020/day/9)\n",
    "\n",
    "### --- Part One ---"
   ]
  },
  {
   "cell_type": "code",
   "execution_count": 1,
   "outputs": [
    {
     "name": "stdout",
     "output_type": "stream",
     "text": [
      "Answer: 57195069\n"
     ]
    }
   ],
   "source": [
    "from itertools import combinations\n",
    "\n",
    "numbers = [int(n) for n in open('day09.data').read().splitlines()]\n",
    "preamble = 25\n",
    "\n",
    "target = None\n",
    "for index in range(preamble, len(numbers)):\n",
    "    target = numbers[index]\n",
    "    _preamble_set = set(numbers[index - preamble:index])\n",
    "    _possibilities = [p for p in _preamble_set if abs(target - p) in _preamble_set]\n",
    "    _combinations = list(combinations(_possibilities, 2))\n",
    "    if not any([sum(pair) == target for pair in _combinations]):\n",
    "        break\n",
    "\n",
    "print(f'Answer: {target}')"
   ],
   "metadata": {
    "collapsed": false,
    "pycharm": {
     "name": "#%%\n"
    }
   }
  },
  {
   "cell_type": "markdown",
   "source": [
    "### --- Part Two ---"
   ],
   "metadata": {
    "collapsed": false
   }
  },
  {
   "cell_type": "code",
   "execution_count": 2,
   "outputs": [
    {
     "name": "stdout",
     "output_type": "stream",
     "text": [
      "Answer V1: 7409241\n"
     ]
    }
   ],
   "source": [
    "def find_weakness_v1():\n",
    "    subset = []\n",
    "    for n in numbers:\n",
    "        subset.append(n)\n",
    "        while sum(subset) > target:\n",
    "            subset.pop(0)\n",
    "        if sum(subset) == target:\n",
    "            break\n",
    "    return min(subset) + max(subset)\n",
    "\n",
    "print(f'Answer V1: {find_weakness_v1()}')"
   ],
   "metadata": {
    "collapsed": false,
    "pycharm": {
     "name": "#%%\n"
    }
   }
  },
  {
   "cell_type": "markdown",
   "source": [
    "Then discussing with [cmears](https://gitlab.com/cmears) he gave me a nice idea for linear execution for part 2. And thx to [GoossensMichael](https://github.com/GoossensMichael) for review!\n",
    "\n",
    "Translating to Python 🔥"
   ],
   "metadata": {
    "collapsed": false
   }
  },
  {
   "cell_type": "code",
   "source": [
    "def find_weakness_v2():\n",
    "    subset = []\n",
    "    subtotal = 0\n",
    "    for n in numbers:\n",
    "        subset.append(n)\n",
    "        subtotal += n\n",
    "        if subtotal > target:\n",
    "            removed = 0\n",
    "            for s in subset:\n",
    "                removed += subset.pop(0)\n",
    "                if subtotal - removed <= target:\n",
    "                    break\n",
    "            subtotal -= removed\n",
    "        if subtotal == target:\n",
    "            break\n",
    "    return min(subset) + max(subset)\n",
    "\n",
    "print(f'Answer V2: {find_weakness_v2()}')"
   ],
   "metadata": {
    "collapsed": false,
    "pycharm": {
     "name": "#%%\n"
    }
   },
   "execution_count": 3,
   "outputs": [
    {
     "name": "stdout",
     "output_type": "stream",
     "text": [
      "Answer V2: 7409241\n"
     ]
    }
   ]
  }
 ],
 "metadata": {
  "kernelspec": {
   "display_name": "Python 3",
   "language": "python",
   "name": "python3"
  },
  "language_info": {
   "codemirror_mode": {
    "name": "ipython",
    "version": 2
   },
   "file_extension": ".py",
   "mimetype": "text/x-python",
   "name": "python",
   "nbconvert_exporter": "python",
   "pygments_lexer": "ipython2",
   "version": "2.7.6"
  }
 },
 "nbformat": 4,
 "nbformat_minor": 0
}