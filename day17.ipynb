{
 "cells": [
  {
   "cell_type": "markdown",
   "metadata": {
    "collapsed": true,
    "pycharm": {
     "name": "#%% md\n"
    }
   },
   "source": [
    "[Day 17](https://adventofcode.com/2020/day/17)\n",
    "\n",
    "### --- Part One ---"
   ]
  },
  {
   "cell_type": "code",
   "execution_count": 1,
   "outputs": [
    {
     "name": "stdout",
     "output_type": "stream",
     "text": [
      "Answer: 255\n"
     ]
    }
   ],
   "source": [
    "def find_neighbors(coordinate):\n",
    "    if len(coordinate) == 3:\n",
    "        neighbors = set([(coordinate[0] + _x, coordinate[1] + _y, coordinate[2] + _z)\n",
    "                         for _x in [-1, 0, +1]\n",
    "                         for _y in [-1, 0, +1]\n",
    "                         for _z in [-1, 0, +1]])\n",
    "    else:\n",
    "        neighbors = set([(coordinate[0] + _x, coordinate[1] + _y, coordinate[2] + _z, coordinate[3] + _w)\n",
    "                         for _x in [-1, 0, +1]\n",
    "                         for _y in [-1, 0, +1]\n",
    "                         for _z in [-1, 0, +1]\n",
    "                         for _w in [-1, 0, +1]])\n",
    "    neighbors.remove(coordinate)\n",
    "    return neighbors\n",
    "\n",
    "def run(coordinates):\n",
    "    for _ in range(6):\n",
    "        active = set()\n",
    "        neighbors = set()\n",
    "        for coordinate in coordinates:\n",
    "            _neighbors = find_neighbors(coordinate)\n",
    "            neighbors.update(_neighbors)\n",
    "            if 2 <= len(_neighbors.intersection(coordinates)) <= 3:\n",
    "                active.add(coordinate)\n",
    "        for coordinate in neighbors - coordinates:\n",
    "            if len(find_neighbors(coordinate).intersection(coordinates)) == 3:\n",
    "                active.add(coordinate)\n",
    "\n",
    "        coordinates = active\n",
    "    return len(coordinates)\n",
    "\n",
    "data = '''####.#..\n",
    ".......#\n",
    "#..#####\n",
    ".....##.\n",
    "##...###\n",
    "#..#.#.#\n",
    ".##...#.\n",
    "#...##..'''\n",
    "\n",
    "coordinates_3d = set((x, y, 0)\n",
    "                     for y, line in enumerate(data.splitlines())\n",
    "                     for x, value in enumerate(line) if value == '#')\n",
    "print(f\"Answer: {run(coordinates_3d)}\")"
   ],
   "metadata": {
    "collapsed": false,
    "pycharm": {
     "name": "#%%\n"
    }
   }
  },
  {
   "cell_type": "markdown",
   "source": [
    "### --- Part Two ---"
   ],
   "metadata": {
    "collapsed": false
   }
  },
  {
   "cell_type": "code",
   "execution_count": 2,
   "outputs": [
    {
     "name": "stdout",
     "output_type": "stream",
     "text": [
      "Answer: 2340\n"
     ]
    }
   ],
   "source": [
    "coordinates_4d = set((x, y, 0, 0)\n",
    "                     for y, line in enumerate(data.splitlines())\n",
    "                     for x, value in enumerate(line) if value == '#')\n",
    "print(f\"Answer: {run(coordinates_4d)}\")"
   ],
   "metadata": {
    "collapsed": false,
    "pycharm": {
     "name": "#%%\n"
    }
   }
  }
 ],
 "metadata": {
  "kernelspec": {
   "display_name": "Python 3",
   "language": "python",
   "name": "python3"
  },
  "language_info": {
   "codemirror_mode": {
    "name": "ipython",
    "version": 2
   },
   "file_extension": ".py",
   "mimetype": "text/x-python",
   "name": "python",
   "nbconvert_exporter": "python",
   "pygments_lexer": "ipython2",
   "version": "2.7.6"
  }
 },
 "nbformat": 4,
 "nbformat_minor": 0
}