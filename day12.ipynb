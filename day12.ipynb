{
 "cells": [
  {
   "cell_type": "markdown",
   "metadata": {
    "collapsed": true,
    "pycharm": {
     "name": "#%% md\n"
    }
   },
   "source": [
    "[Day 12](https://adventofcode.com/2020/day/12)\n",
    "\n",
    "### --- Part One ---"
   ]
  },
  {
   "cell_type": "code",
   "execution_count": 1,
   "outputs": [
    {
     "name": "stdout",
     "output_type": "stream",
     "text": [
      "Answer: 1133\n"
     ]
    }
   ],
   "source": [
    "lines = open('day12.data').read().splitlines()\n",
    "factor_x = {'E': +1, 'W': -1}\n",
    "factor_y = {'N': +1, 'S': -1}\n",
    "\n",
    "def part_1():\n",
    "    ship_x, ship_y = 0, 0\n",
    "    facing_x, facing_y = 1, 0\n",
    "    for action, n in [(line[0], int(line[1:])) for line in lines]:\n",
    "        if action in factor_x:\n",
    "            ship_x += n * factor_x[action]\n",
    "        elif action in factor_y:\n",
    "            ship_y += n * factor_y[action]\n",
    "        elif action == 'F':\n",
    "            ship_x += n * facing_x\n",
    "            ship_y += n * facing_y\n",
    "        else:\n",
    "            for _ in range(n // 90):\n",
    "                facing_x, facing_y = (-facing_y, facing_x) if action == 'L' else (facing_y, -facing_x)\n",
    "\n",
    "    return abs(ship_x) + abs(ship_y)\n",
    "\n",
    "print(f'Answer: {part_1()}')"
   ],
   "metadata": {
    "collapsed": false,
    "pycharm": {
     "name": "#%%\n"
    }
   }
  },
  {
   "cell_type": "markdown",
   "source": [
    "### --- Part Two ---"
   ],
   "metadata": {
    "collapsed": false
   }
  },
  {
   "cell_type": "code",
   "execution_count": 2,
   "outputs": [
    {
     "name": "stdout",
     "output_type": "stream",
     "text": [
      "Answer: 61053\n"
     ]
    }
   ],
   "source": [
    "def part_2():\n",
    "    ship_x, ship_y = 0, 0\n",
    "    waypoint_x, waypoint_y = 10, 1\n",
    "    for action, n in [(line[0], int(line[1:])) for line in lines]:\n",
    "        if action in factor_x:\n",
    "            waypoint_x += n * factor_x[action]\n",
    "        elif action in factor_y:\n",
    "            waypoint_y += n * factor_y[action]\n",
    "        elif action == 'F':\n",
    "            ship_x += n * waypoint_x\n",
    "            ship_y += n * waypoint_y\n",
    "        else:\n",
    "            for _ in range(n // 90):\n",
    "                waypoint_x, waypoint_y = (-waypoint_y, waypoint_x) if action == 'L' else (waypoint_y, -waypoint_x)\n",
    "\n",
    "    return abs(ship_x) + abs(ship_y)\n",
    "\n",
    "print(f'Answer: {part_2()}')"
   ],
   "metadata": {
    "collapsed": false,
    "pycharm": {
     "name": "#%%\n"
    }
   }
  }
 ],
 "metadata": {
  "kernelspec": {
   "display_name": "Python 3",
   "language": "python",
   "name": "python3"
  },
  "language_info": {
   "codemirror_mode": {
    "name": "ipython",
    "version": 2
   },
   "file_extension": ".py",
   "mimetype": "text/x-python",
   "name": "python",
   "nbconvert_exporter": "python",
   "pygments_lexer": "ipython2",
   "version": "2.7.6"
  }
 },
 "nbformat": 4,
 "nbformat_minor": 0
}