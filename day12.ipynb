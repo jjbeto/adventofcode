{
 "cells": [
  {
   "cell_type": "markdown",
   "metadata": {
    "collapsed": true,
    "pycharm": {
     "name": "#%% md\n"
    }
   },
   "source": [
    "### Day 12: Rain Risk\n",
    "\n",
    "### --- Part One ---\n",
    "\n",
    "Your ferry made decent progress toward the island, but the storm came in faster than anyone expected. The ferry needs to take **evasive actions**!\n",
    "\n",
    "Unfortunately, the ship's navigation computer seems to be malfunctioning; rather than giving a route directly to safety, it produced extremely circuitous instructions. When the captain uses the PA system to ask if anyone can help, you quickly volunteer.\n",
    "\n",
    "The navigation instructions (your puzzle input) consists of a sequence of single-character **actions** paired with integer input **values**. After staring at them for a few minutes, you work out what they probably mean:\n",
    "\n",
    "- Action `N` means to move **north** by the given value.\n",
    "- Action `S` means to move **south** by the given value.\n",
    "- Action `E` means to move **east** by the given value.\n",
    "- Action `W` means to move **west** by the given value.\n",
    "- Action `L` means to turn **left** the given number of degrees.\n",
    "- Action `R` means to turn **right** the given number of degrees.\n",
    "- Action `F` means to move **forward** by the given value in the direction the ship is currently facing.\n",
    "\n",
    "The ship starts by facing **east**. Only the `L` and `R` actions change the direction the ship is facing. (That is, if the ship is facing east and the next instruction is `N10`, the ship would move north 10 units, but would still move east if the following action were `F`.)\n",
    "\n",
    "For example:\n",
    "\n",
    "```\n",
    "F10\n",
    "N3\n",
    "F7\n",
    "R90\n",
    "F11\n",
    "```\n",
    "\n",
    "These instructions would be handled as follows:\n",
    "\n",
    "- `F10` would move the ship 10 units east (because the ship starts by facing east) to **east 10, north 0**.\n",
    "- `N3` would move the ship 3 units north to **east 10, north 3**.\n",
    "- `F7` would move the ship another 7 units east (because the ship is still facing east) to **east 17, north 3**.\n",
    "- `R90` would cause the ship to turn right by 90 degrees and face south; it remains at **east 17, north 3**.\n",
    "- `F11` would move the ship 11 units south to **east 17, south 8**.\n",
    "\n",
    "At the end of these instructions, the ship's Manhattan distance (sum of the absolute values of its east/west position and its north/south position) from its starting position is **17 + 8 = 25**.\n",
    "\n",
    "Figure out where the navigation instructions lead. **What is the Manhattan distance between that location and the ship's starting position?**"
   ]
  },
  {
   "cell_type": "code",
   "execution_count": 1,
   "outputs": [
    {
     "name": "stdout",
     "output_type": "stream",
     "text": [
      "Answer: 1133\n"
     ]
    }
   ],
   "source": [
    "lines = open('day12.data').read().splitlines()\n",
    "factor_x = {'E': +1, 'W': -1}\n",
    "factor_y = {'N': +1, 'S': -1}\n",
    "\n",
    "def part_1():\n",
    "    ship_x, ship_y = 0, 0\n",
    "    facing_x, facing_y = 1, 0\n",
    "    for action, n in [(line[0], int(line[1:])) for line in lines]:\n",
    "        if action in factor_x:\n",
    "            ship_x += n * factor_x[action]\n",
    "        elif action in factor_y:\n",
    "            ship_y += n * factor_y[action]\n",
    "        elif action == 'F':\n",
    "            ship_x += n * facing_x\n",
    "            ship_y += n * facing_y\n",
    "        else:\n",
    "            for _ in range(n // 90):\n",
    "                facing_x, facing_y = (-facing_y, facing_x) if action == 'L' else (facing_y, -facing_x)\n",
    "\n",
    "    return abs(ship_x) + abs(ship_y)\n",
    "\n",
    "print(f'Answer: {part_1()}')"
   ],
   "metadata": {
    "collapsed": false,
    "pycharm": {
     "name": "#%%\n"
    }
   }
  },
  {
   "cell_type": "markdown",
   "source": [
    "### --- Part Two ---\n",
    "\n",
    "Before you can give the destination to the captain, you realize that the actual action meanings were printed on the back of the instructions the whole time.\n",
    "\n",
    "Almost all of the actions indicate how to move a **waypoint** which is relative to the ship's position:\n",
    "\n",
    "- Action `N` means to move the waypoint **north** by the given value.\n",
    "- Action `S` means to move the waypoint **south** by the given value.\n",
    "- Action `E` means to move the waypoint **east** by the given value.\n",
    "- Action `W` means to move the waypoint **west** by the given value.\n",
    "- Action `L` means to rotate the waypoint around the ship **left** (**counter-clockwise**) the given number of degrees.\n",
    "- Action `R` means to rotate the waypoint around the ship **right** (**clockwise**) the given number of degrees.\n",
    "- Action `F` means to move **forward** to the waypoint a number of times equal to the given value.\n",
    "\n",
    "The waypoint starts **10 units east and 1 unit north** relative to the ship. The waypoint is relative to the ship; that is, if the ship moves, the waypoint moves with it.\n",
    "\n",
    "For example, using the same instructions as above:\n",
    "\n",
    "- `F10` moves the ship to the waypoint 10 times (a total of **100 units east and 10 units north**), leaving the ship at **east 100, north 10**. The waypoint stays 10 units east and 1 unit north of the ship.\n",
    "- `N3` moves the waypoint 3 units north to **10 units east and 4 units north of the ship**. The ship remains at **east 100, north 10**.\n",
    "- `F7` moves the ship to the waypoint 7 times (a total of **70 units east and 28 units north**), leaving the ship at **east 170, north 38**. The waypoint stays 10 units east and 4 units north of the ship.\n",
    "- `R90` rotates the waypoint around the ship clockwise 90 degrees, moving it to **4 units east and 10 units south of the ship**. The ship remains at **east 170, north 38**.\n",
    "- `F11` moves the ship to the waypoint 11 times (a total of **44 units east and 110 units south**), leaving the ship at **east 214, south 72**. The waypoint stays 4 units east and 10 units south of the ship.\n",
    "\n",
    "After these operations, the ship's Manhattan distance from its starting position is **214 + 72 = 286**.\n",
    "\n",
    "Figure out where the navigation instructions actually lead. **What is the Manhattan distance between that location and the ship's starting position?**"
   ],
   "metadata": {
    "collapsed": false
   }
  },
  {
   "cell_type": "code",
   "execution_count": 2,
   "outputs": [
    {
     "name": "stdout",
     "output_type": "stream",
     "text": [
      "Answer: 61053\n"
     ]
    }
   ],
   "source": [
    "def part_2():\n",
    "    ship_x, ship_y = 0, 0\n",
    "    waypoint_x, waypoint_y = 10, 1\n",
    "    for action, n in [(line[0], int(line[1:])) for line in lines]:\n",
    "        if action in factor_x:\n",
    "            waypoint_x += n * factor_x[action]\n",
    "        elif action in factor_y:\n",
    "            waypoint_y += n * factor_y[action]\n",
    "        elif action == 'F':\n",
    "            ship_x += n * waypoint_x\n",
    "            ship_y += n * waypoint_y\n",
    "        else:\n",
    "            for _ in range(n // 90):\n",
    "                waypoint_x, waypoint_y = (-waypoint_y, waypoint_x) if action == 'L' else (waypoint_y, -waypoint_x)\n",
    "\n",
    "    return abs(ship_x) + abs(ship_y)\n",
    "\n",
    "print(f'Answer: {part_2()}')"
   ],
   "metadata": {
    "collapsed": false,
    "pycharm": {
     "name": "#%%\n"
    }
   }
  }
 ],
 "metadata": {
  "kernelspec": {
   "display_name": "Python 3",
   "language": "python",
   "name": "python3"
  },
  "language_info": {
   "codemirror_mode": {
    "name": "ipython",
    "version": 2
   },
   "file_extension": ".py",
   "mimetype": "text/x-python",
   "name": "python",
   "nbconvert_exporter": "python",
   "pygments_lexer": "ipython2",
   "version": "2.7.6"
  }
 },
 "nbformat": 4,
 "nbformat_minor": 0
}