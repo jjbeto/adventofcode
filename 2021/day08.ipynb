{
 "cells": [
  {
   "cell_type": "markdown",
   "metadata": {
    "collapsed": true,
    "pycharm": {
     "name": "#%% md\n"
    }
   },
   "source": [
    "[Day 08](https://adventofcode.com/2021/day/8)\n",
    "\n",
    "### --- Part One ---"
   ]
  },
  {
   "cell_type": "code",
   "source": [
    "def part1(lines):\n",
    "    display = []\n",
    "    for line in lines:\n",
    "        [display.append(d) for d in line.split(' | ')[1].split(' ') if len(d) in [2, 4, 3, 7]]\n",
    "    return len(display)\n",
    "\n",
    "\n",
    "p1 = part1(list([n for n in open('day08.test').read().splitlines()]))\n",
    "print(f'test1: {p1} - {p1 == 26}')\n",
    "p1 = part1(list([n for n in open('day08.data').read().splitlines()]))\n",
    "print(f'real1: {p1} - {p1 == 284}')\n",
    "\n",
    "print(f'Answer: {p1}')"
   ],
   "metadata": {
    "collapsed": false,
    "pycharm": {
     "name": "#%%\n"
    }
   },
   "execution_count": 1,
   "outputs": [
    {
     "name": "stdout",
     "output_type": "stream",
     "text": [
      "test1: 26 - True\n",
      "real1: 284 - True\n",
      "Answer: 284\n"
     ]
    }
   ]
  },
  {
   "cell_type": "markdown",
   "source": [
    "### --- Part Two ---"
   ],
   "metadata": {
    "collapsed": false
   }
  },
  {
   "cell_type": "code",
   "execution_count": 2,
   "outputs": [
    {
     "name": "stdout",
     "output_type": "stream",
     "text": [
      "test1: 61229 - True\n",
      "part2: 973499 - True\n",
      "Answer: 973499\n"
     ]
    }
   ],
   "source": [
    "def part2(lines):\n",
    "    lines = [line for line in lines]\n",
    "    displays = []\n",
    "    for line in lines:\n",
    "        unknown = []\n",
    "        known = [None] * 10\n",
    "        for each in line.split(' | ')[0].split(' '):\n",
    "            val, size = set(each), len(each)\n",
    "            if size == 2:\n",
    "                known[1] = val\n",
    "            elif size == 4:\n",
    "                known[4] = val\n",
    "            elif size == 3:\n",
    "                known[7] = val\n",
    "            else:\n",
    "                unknown.append(val)\n",
    "\n",
    "        known[8] = set('abcdefg')\n",
    "\n",
    "        for u in [_u for _u in unknown if len(_u) == 5]:\n",
    "            if known[7].issubset(u):\n",
    "                known[3] = u\n",
    "            else:\n",
    "                remain = u - known[4]\n",
    "                if len(remain) == 2:\n",
    "                    known[5] = u\n",
    "                else:\n",
    "                    known[2] = u\n",
    "\n",
    "        for u in [_u for _u in unknown if len(_u) == 6]:\n",
    "            if not known[7].issubset(u):\n",
    "                known[6] = u\n",
    "            elif known[3].issubset(u):\n",
    "                known[9] = u\n",
    "            else:\n",
    "                known[0] = u\n",
    "\n",
    "        outputs = [known.index(set(each)) for each in line.split(' | ')[1].split(' ')]\n",
    "        displays.append(int(''.join([str(i) for i in outputs])))\n",
    "    return sum(displays)\n",
    "\n",
    "p2 = part2(list([n for n in open('day08.test').read().splitlines()]))\n",
    "print(f'test1: {p2} - {p2 == 61229}')\n",
    "p2 = part2(list([n for n in open('day08.data').read().splitlines()]))\n",
    "print(f'part2: {p2} - {p2 == 973499}')\n",
    "\n",
    "print(f'Answer: {p2}')"
   ],
   "metadata": {
    "collapsed": false,
    "pycharm": {
     "name": "#%%\n"
    }
   }
  }
 ],
 "metadata": {
  "kernelspec": {
   "display_name": "Python 3",
   "language": "python",
   "name": "python3"
  },
  "language_info": {
   "codemirror_mode": {
    "name": "ipython",
    "version": 2
   },
   "file_extension": ".py",
   "mimetype": "text/x-python",
   "name": "python",
   "nbconvert_exporter": "python",
   "pygments_lexer": "ipython2",
   "version": "2.7.6"
  }
 },
 "nbformat": 4,
 "nbformat_minor": 0
}