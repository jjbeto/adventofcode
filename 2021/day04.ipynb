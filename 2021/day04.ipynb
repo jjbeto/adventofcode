{
 "cells": [
  {
   "cell_type": "markdown",
   "metadata": {
    "collapsed": true,
    "pycharm": {
     "name": "#%% md\n"
    }
   },
   "source": [
    "[Day 04](https://adventofcode.com/2021/day/4)\n",
    "\n",
    "### --- Part One ---"
   ]
  },
  {
   "cell_type": "code",
   "source": [
    "data = open('day04.data')\n",
    "# data = open('day04.test')\n",
    "lines = list([n for n in data.read().splitlines()])\n",
    "\n",
    "execution = [int(n) for n in lines[0].split(',')]\n",
    "boards = []\n",
    "\n",
    "board = []\n",
    "for i in range(1, len(lines)):\n",
    "    if lines[i] == '':\n",
    "        if board:\n",
    "            boards.append(board)\n",
    "        board = []\n",
    "        continue\n",
    "    board.append([int(n) for n in lines[i].split(' ') if n])\n",
    "boards.append(board)  # last board\n",
    "\n",
    "boards_cols = []\n",
    "for board in boards:\n",
    "    v_board = []\n",
    "    for line in board:\n",
    "        for col in range(5):\n",
    "            if len(v_board) == col:\n",
    "                v_board.append([])\n",
    "            v_board[col].append(line[col])\n",
    "    boards_cols.append(v_board)\n",
    "\n",
    "# each board consists of a group af all its cols and lines\n",
    "[[boards[i].append(column) for column in board_col] for i, board_col in enumerate(boards_cols)]\n",
    "\n",
    "def calc(board, grant_last, grant_list):\n",
    "    return grant_last * sum(set(x for x in [s for sublist in board for s in sublist] if x not in grant_list))\n",
    "\n",
    "def part1():\n",
    "    granted = []\n",
    "    for e in execution:\n",
    "        granted.append(e)\n",
    "        for _board in boards:\n",
    "            for row_or_col in _board:\n",
    "                if set(row_or_col).issubset(granted):\n",
    "                    return calc(_board, e, granted)\n",
    "\n",
    "print(f'Answer: {part1()}')"
   ],
   "metadata": {
    "collapsed": false,
    "pycharm": {
     "name": "#%%\n"
    }
   },
   "execution_count": 1,
   "outputs": [
    {
     "name": "stdout",
     "output_type": "stream",
     "text": [
      "Answer: 2745\n"
     ]
    }
   ]
  },
  {
   "cell_type": "markdown",
   "source": [
    "### --- Part Two ---"
   ],
   "metadata": {
    "collapsed": false
   }
  },
  {
   "cell_type": "code",
   "execution_count": 2,
   "outputs": [
    {
     "name": "stdout",
     "output_type": "stream",
     "text": [
      "Answer: 6594\n"
     ]
    }
   ],
   "source": [
    "def part2():\n",
    "    granted, winners, n_boards = set(), set(), len(boards)\n",
    "    for e in execution:\n",
    "        granted.add(e)\n",
    "        for i, board in enumerate(boards):\n",
    "            if i in winners:\n",
    "                continue\n",
    "            for row_or_col in board:\n",
    "                if all(elem in granted for elem in row_or_col):\n",
    "                    winners.add(i)\n",
    "                    if len(winners) == n_boards:\n",
    "                        return calc(board, e, granted)\n",
    "    return None\n",
    "\n",
    "print(f'Answer: {part2()}')"
   ],
   "metadata": {
    "collapsed": false,
    "pycharm": {
     "name": "#%%\n"
    }
   }
  }
 ],
 "metadata": {
  "kernelspec": {
   "display_name": "Python 3",
   "language": "python",
   "name": "python3"
  },
  "language_info": {
   "codemirror_mode": {
    "name": "ipython",
    "version": 2
   },
   "file_extension": ".py",
   "mimetype": "text/x-python",
   "name": "python",
   "nbconvert_exporter": "python",
   "pygments_lexer": "ipython2",
   "version": "2.7.6"
  }
 },
 "nbformat": 4,
 "nbformat_minor": 0
}