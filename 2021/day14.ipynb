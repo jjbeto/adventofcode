{
 "cells": [
  {
   "cell_type": "markdown",
   "metadata": {
    "collapsed": true,
    "pycharm": {
     "name": "#%% md\n"
    }
   },
   "source": [
    "[Day 14](https://adventofcode.com/2021/day/14)"
   ]
  },
  {
   "cell_type": "code",
   "source": [
    "from collections import Counter\n",
    "\n",
    "test = list([n for n in open('day14.test').read().splitlines()])\n",
    "data = list([n for n in open('day14.data').read().splitlines()])\n",
    "\n",
    "def solve(lines, steps):\n",
    "    template = lines[0]\n",
    "    rules = {lines[i].split(' -> ')[0]: lines[i].split(' -> ')[1] for i in range(2, len(lines))}\n",
    "\n",
    "    char_count = Counter(template)\n",
    "    pair_count = Counter(template[i:i + 2] for i in range(len(template) - 1))\n",
    "\n",
    "    for step in range(steps):\n",
    "        new_count = Counter()\n",
    "        for pair, num in pair_count.items():\n",
    "            if pair in rules:\n",
    "                x, y = pair\n",
    "                c = rules[pair]\n",
    "                new_count[x + c] += num\n",
    "                new_count[c + y] += num\n",
    "                char_count[c] += num\n",
    "            else:\n",
    "                new_count[pair] = num\n",
    "        pair_count = new_count\n",
    "\n",
    "    return max(char_count.values()) - min(char_count.values())\n",
    "\n",
    "\n",
    "p1 = solve(test, 10)\n",
    "print(f'test1: {p1} - {p1 == 1588}')\n",
    "p1 = solve(data, 10)\n",
    "print(f'real1: {p1} - {p1 == 2549}')\n",
    "\n",
    "p2 = solve(test, 40)\n",
    "print(f'test1: {p2} - {p2 == 2188189693529}')\n",
    "p2 = solve(data, 40)\n",
    "print(f'part2: {p2} - {p2 == 2516901104210}')"
   ],
   "metadata": {
    "collapsed": false,
    "pycharm": {
     "name": "#%%\n"
    }
   },
   "execution_count": 1,
   "outputs": [
    {
     "name": "stdout",
     "output_type": "stream",
     "text": [
      "test1: 1588 - True\n",
      "real1: 2549 - True\n",
      "test1: 2188189693529 - True\n",
      "part2: 2516901104210 - True\n"
     ]
    }
   ]
  }
 ],
 "metadata": {
  "kernelspec": {
   "display_name": "Python 3",
   "language": "python",
   "name": "python3"
  },
  "language_info": {
   "codemirror_mode": {
    "name": "ipython",
    "version": 2
   },
   "file_extension": ".py",
   "mimetype": "text/x-python",
   "name": "python",
   "nbconvert_exporter": "python",
   "pygments_lexer": "ipython2",
   "version": "2.7.6"
  }
 },
 "nbformat": 4,
 "nbformat_minor": 0
}