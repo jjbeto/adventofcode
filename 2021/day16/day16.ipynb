{
 "cells": [
  {
   "cell_type": "markdown",
   "metadata": {
    "collapsed": true,
    "pycharm": {
     "name": "#%% md\n"
    }
   },
   "source": [
    "[Day 16](https://adventofcode.com/2021/day/16)\n",
    "\n",
    "### --- Part One ---"
   ]
  },
  {
   "cell_type": "code",
   "source": [
    "def parser(binary, track_version=[]):\n",
    "    version = int(binary[0:3], 2)\n",
    "    track_version.append(version)\n",
    "    type_id = int(binary[3:6], 2)\n",
    "    if type_id == 4:\n",
    "        chunks, chunk, n = '', binary[6:11], 11\n",
    "        while True:\n",
    "            chunks += chunk[1:]\n",
    "            if chunk.startswith('0'):\n",
    "                break\n",
    "            chunk = binary[n:n + 5]\n",
    "            n += 5\n",
    "        remaining = binary[n:] if binary[n:] and int(binary[n:], 2) > 0 else None\n",
    "        value = int(chunks, 2)\n",
    "    else:\n",
    "        if binary[6:7] == '0':\n",
    "            length = int(binary[7:7 + 15], 2)\n",
    "            sub_pack_bin = binary[7 + 15:7 + 15 + length]\n",
    "            chunk, sub_remaining = parser(sub_pack_bin, track_version)\n",
    "            value = [chunk]\n",
    "            while sub_remaining:\n",
    "                chunk, sub_remaining = parser(sub_remaining, track_version)\n",
    "                value.append(chunk)\n",
    "            remaining = binary[7 + 15 + length:]\n",
    "        else:\n",
    "            length = int(binary[7:7 + 11], 2)\n",
    "            chunk, remaining = parser(binary[7 + 11:], track_version)\n",
    "            value = [chunk]\n",
    "            while len(value) < length:\n",
    "                chunk, remaining = parser(remaining, track_version)\n",
    "                value.append(chunk)\n",
    "\n",
    "    return (version, type_id, value), remaining\n",
    "\n",
    "\n",
    "def part1(text):\n",
    "    binary = bin(int('1' + text, 16))[3:]\n",
    "    track_version = []\n",
    "    chunks, _ = parser(binary, track_version)\n",
    "    return sum(track_version)\n",
    "\n",
    "\n",
    "ex1 = part1('D2FE28')\n",
    "ex2 = part1('38006F45291200')\n",
    "ex3 = part1('EE00D40C823060')\n",
    "\n",
    "p1 = part1('8A004A801A8002F478')\n",
    "print(f'test1: {p1} - {p1 == 16}')\n",
    "p1 = part1('620080001611562C8802118E34')\n",
    "print(f'test2: {p1} - {p1 == 12}')\n",
    "p1 = part1('C0015000016115A2E0802F182340')\n",
    "print(f'test3: {p1} - {p1 == 23}')\n",
    "p1 = part1('A0016C880162017C3686B18A3D4780')\n",
    "print(f'test4: {p1} - {p1 == 31}')\n",
    "\n",
    "data = open('day16.data').read()\n",
    "\n",
    "p1 = part1(data)\n",
    "print(f'real1: {p1} - {p1 == 866}')\n",
    "\n",
    "print(f'Answer: {p1}')"
   ],
   "metadata": {
    "collapsed": false,
    "pycharm": {
     "name": "#%%\n"
    }
   },
   "execution_count": 1,
   "outputs": [
    {
     "name": "stdout",
     "output_type": "stream",
     "text": [
      "test1: 16 - True\n",
      "test2: 12 - True\n",
      "test3: 23 - True\n",
      "test4: 31 - True\n",
      "real1: 866 - True\n",
      "Answer: 866\n"
     ]
    }
   ]
  },
  {
   "cell_type": "markdown",
   "source": [
    "### --- Part Two ---"
   ],
   "metadata": {
    "collapsed": false
   }
  },
  {
   "cell_type": "code",
   "execution_count": 2,
   "outputs": [
    {
     "name": "stdout",
     "output_type": "stream",
     "text": [
      "test1: 3 - True\n",
      "test1: 54 - True\n",
      "test1: 7 - True\n",
      "test1: 9 - True\n",
      "test1: 1 - True\n",
      "test1: 0 - True\n",
      "test1: 0 - True\n",
      "test1: 1 - True\n",
      "part2: 1392637195518 - True\n",
      "Answer: 1392637195518\n"
     ]
    }
   ],
   "source": [
    "import math\n",
    "\n",
    "def execute(chunk):\n",
    "    _, t, val = chunk\n",
    "    if t == 4:\n",
    "        return val\n",
    "    if type(val) == list:\n",
    "        val = [execute(v) for v in val]\n",
    "    if t == 0:\n",
    "        return sum(val)\n",
    "    if t == 1:\n",
    "        return math.prod(val)\n",
    "    if t == 2:\n",
    "        return min(val)\n",
    "    if t == 3:\n",
    "        return max(val)\n",
    "    if t == 5:\n",
    "        return 1 if val[0] > val[1] else 0\n",
    "    if t == 6:\n",
    "        return 1 if val[0] < val[1] else 0\n",
    "    if t == 7:\n",
    "        return 1 if val[0] == val[1] else 0\n",
    "\n",
    "\n",
    "def part2(text):\n",
    "    binary = bin(int('1' + text, 16))[3:]\n",
    "    chunks, _ = parser(binary)\n",
    "    return execute(chunks)\n",
    "\n",
    "\n",
    "p2 = part2('C200B40A82')\n",
    "print(f'test1: {p2} - {p2 == 3}')\n",
    "p2 = part2('04005AC33890')\n",
    "print(f'test1: {p2} - {p2 == 54}')\n",
    "p2 = part2('880086C3E88112')\n",
    "print(f'test1: {p2} - {p2 == 7}')\n",
    "p2 = part2('CE00C43D881120')\n",
    "print(f'test1: {p2} - {p2 == 9}')\n",
    "p2 = part2('D8005AC2A8F0')\n",
    "print(f'test1: {p2} - {p2 == 1}')\n",
    "p2 = part2('F600BC2D8F')\n",
    "print(f'test1: {p2} - {p2 == 0}')\n",
    "p2 = part2('9C005AC2F8F0')\n",
    "print(f'test1: {p2} - {p2 == 0}')\n",
    "p2 = part2('9C0141080250320F1802104A08')\n",
    "print(f'test1: {p2} - {p2 == 1}')\n",
    "p2 = part2(data)\n",
    "print(f'part2: {p2} - {p2 == 1392637195518}')\n",
    "\n",
    "print(f'Answer: {p2}')"
   ],
   "metadata": {
    "collapsed": false,
    "pycharm": {
     "name": "#%%\n"
    }
   }
  }
 ],
 "metadata": {
  "kernelspec": {
   "display_name": "Python 3",
   "language": "python",
   "name": "python3"
  },
  "language_info": {
   "codemirror_mode": {
    "name": "ipython",
    "version": 2
   },
   "file_extension": ".py",
   "mimetype": "text/x-python",
   "name": "python",
   "nbconvert_exporter": "python",
   "pygments_lexer": "ipython2",
   "version": "2.7.6"
  }
 },
 "nbformat": 4,
 "nbformat_minor": 0
}