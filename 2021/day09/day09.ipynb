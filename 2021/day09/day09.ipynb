{
 "cells": [
  {
   "cell_type": "markdown",
   "metadata": {
    "collapsed": true,
    "pycharm": {
     "name": "#%% md\n"
    }
   },
   "source": [
    "[Day 09](https://adventofcode.com/2021/day/9)\n",
    "\n",
    "### --- Part One ---"
   ]
  },
  {
   "cell_type": "code",
   "source": [
    "test = list([n for n in open('day09.test').read().splitlines()])\n",
    "data = list([n for n in open('day09.data').read().splitlines()])\n",
    "\n",
    "def adjacent(matrix, x, y):\n",
    "    adj = {}\n",
    "    if x > 0:\n",
    "        adj[(x - 1, y)] = int(matrix[x - 1][y])\n",
    "    if x + 1 < len(matrix):\n",
    "        adj[(x + 1, y)] = int(matrix[x + 1][y])\n",
    "    if y > 0:\n",
    "        adj[(x, y - 1)] = int(matrix[x][y - 1])\n",
    "    if y + 1 < len(matrix[0]):\n",
    "        adj[(x, y + 1)] = int(matrix[x][y + 1])\n",
    "    return adj\n",
    "\n",
    "def part1(lines):\n",
    "    lows = {}\n",
    "    for x in range(len(lines)):\n",
    "        for y in range(len(lines[0])):\n",
    "            pos = int(lines[x][y])\n",
    "            adj = adjacent(lines, x, y)\n",
    "            if pos < min(adj.values()):\n",
    "                lows[(x, y)] = int(pos)\n",
    "    return sum(lows.values()) + len(lows), lows\n",
    "\n",
    "p1, lows_t = part1(test)\n",
    "print(f'test1: {p1} - {p1 == 15}')\n",
    "p1, lows_d = part1(data)\n",
    "print(f'real1: {p1} - {p1 == 560}')\n",
    "\n",
    "print(f'Answer: {p1}')"
   ],
   "metadata": {
    "collapsed": false,
    "pycharm": {
     "name": "#%%\n"
    }
   },
   "execution_count": 1,
   "outputs": [
    {
     "name": "stdout",
     "output_type": "stream",
     "text": [
      "test1: 15 - True\n",
      "real1: 560 - True\n",
      "Answer: 560\n"
     ]
    }
   ]
  },
  {
   "cell_type": "markdown",
   "source": [
    "### --- Part Two ---"
   ],
   "metadata": {
    "collapsed": false
   }
  },
  {
   "cell_type": "code",
   "execution_count": 2,
   "outputs": [
    {
     "name": "stdout",
     "output_type": "stream",
     "text": [
      "test1: 1134 - True\n",
      "part2: 959136 - True\n",
      "Answer: 959136\n"
     ]
    }
   ],
   "source": [
    "from functools import reduce\n",
    "\n",
    "def part2(lines, lows):\n",
    "    def basin(matrix, x, y, target=None):\n",
    "        if target is None:\n",
    "            target = {(x, y): int(matrix[x][y])}\n",
    "        adj = {k: v for k, v in adjacent(matrix, x, y).items() if v != 9 and k not in target.keys()}\n",
    "        if adj:\n",
    "            target.update(adj)\n",
    "            [basin(matrix, _x, _y, target) for _x, _y in adj.keys()]\n",
    "        return target\n",
    "\n",
    "    basins = [basin(lines, x, y) for x, y in lows.keys()]\n",
    "    return reduce(lambda a, b: a * b, [len(b) for b in sorted(basins, key=len)[-3:]])\n",
    "\n",
    "p2 = part2(test, lows_t)\n",
    "print(f'test1: {p2} - {p2 == 1134}')\n",
    "p2 = part2(data, lows_d)\n",
    "print(f'part2: {p2} - {p2 == 959136}')\n",
    "\n",
    "print(f'Answer: {p2}')"
   ],
   "metadata": {
    "collapsed": false,
    "pycharm": {
     "name": "#%%\n"
    }
   }
  }
 ],
 "metadata": {
  "kernelspec": {
   "display_name": "Python 3",
   "language": "python",
   "name": "python3"
  },
  "language_info": {
   "codemirror_mode": {
    "name": "ipython",
    "version": 2
   },
   "file_extension": ".py",
   "mimetype": "text/x-python",
   "name": "python",
   "nbconvert_exporter": "python",
   "pygments_lexer": "ipython2",
   "version": "2.7.6"
  }
 },
 "nbformat": 4,
 "nbformat_minor": 0
}