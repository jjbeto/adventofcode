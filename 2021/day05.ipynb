{
 "cells": [
  {
   "cell_type": "markdown",
   "metadata": {
    "collapsed": true,
    "pycharm": {
     "name": "#%% md\n"
    }
   },
   "source": [
    "[Day 05](https://adventofcode.com/2021/day/5)\n",
    "\n",
    "### --- Part One ---"
   ]
  },
  {
   "cell_type": "code",
   "source": [
    "def load_points(lines):\n",
    "    \"\"\"return dimension and coordinates\"\"\"\n",
    "    _points = []\n",
    "    max_x, max_y = 0, 0\n",
    "    for i, line in enumerate(lines):\n",
    "        _points.insert(i, ())\n",
    "        for p in [_p for _p in line.split(' -> ')]:\n",
    "            s = p.split(',')\n",
    "            _x, _y = int(s[0]), int(s[1])\n",
    "            max_x = _x if _x > max_x else max_x\n",
    "            max_y = _y if _y > max_y else max_y\n",
    "            _points[i] += (_x, _y)\n",
    "    return (max_x + 1, max_y + 1), _points\n",
    "\n",
    "def bresenham_algo(x0, y0, x1, y1):\n",
    "    dx = abs(x1 - x0)\n",
    "    dy = abs(y1 - y0)\n",
    "    x, y = x0, y0\n",
    "    x_inc = -1 if x0 > x1 else 1\n",
    "    y_inc = -1 if y0 > y1 else 1\n",
    "    line = []\n",
    "    if dx > dy:\n",
    "        while x != x1:\n",
    "            line.append((x, y))\n",
    "            x += x_inc\n",
    "    elif dx < dy:\n",
    "        while y != y1:\n",
    "            line.append((x, y))\n",
    "            y += y_inc\n",
    "    else:\n",
    "        while x != x1:\n",
    "            line.append((x, y))\n",
    "            x += x_inc\n",
    "            y += y_inc\n",
    "    line.append((x, y))\n",
    "    return line\n",
    "\n",
    "def part1(lines):\n",
    "    dim, points = load_points(lines)\n",
    "    matrix = [[0 for _ in range(dim[1])] for _ in range(dim[0])]\n",
    "    for x0, y0, x1, y1 in points:\n",
    "        if y0 == y1 or x0 == x1:\n",
    "            for x, y in bresenham_algo(x0, y0, x1, y1):\n",
    "                matrix[x][y] += 1\n",
    "    return sum([1 for sublist in matrix for item in sublist if item > 1])\n",
    "\n",
    "p1 = part1(list([n for n in open('day05.test').read().splitlines()]))\n",
    "print(f'test1: {p1} - {p1 == 5}')\n",
    "p1 = part1(list([n for n in open('day05.data').read().splitlines()]))\n",
    "print(f'real1: {p1} - {p1 == 7380}')\n",
    "\n",
    "print(f'Answer: {p1}')"
   ],
   "metadata": {
    "collapsed": false,
    "pycharm": {
     "name": "#%%\n"
    }
   },
   "execution_count": 1,
   "outputs": [
    {
     "name": "stdout",
     "output_type": "stream",
     "text": [
      "test1: 5 - True\n",
      "real1: 7380 - True\n",
      "Answer: 7380\n"
     ]
    }
   ]
  },
  {
   "cell_type": "markdown",
   "source": [
    "### --- Part Two ---"
   ],
   "metadata": {
    "collapsed": false
   }
  },
  {
   "cell_type": "code",
   "execution_count": 2,
   "outputs": [
    {
     "name": "stdout",
     "output_type": "stream",
     "text": [
      "test2: 12 - True\n",
      "part2: 21373 - True\n",
      "Answer: 21373\n"
     ]
    }
   ],
   "source": [
    "def part2(lines):\n",
    "    dim, points = load_points(lines)\n",
    "    matrix = [[0 for _ in range(dim[1])] for _ in range(dim[0])]\n",
    "    for x0, y0, x1, y1 in points:\n",
    "        for x, y in bresenham_algo(x0, y0, x1, y1):\n",
    "            matrix[x][y] += 1\n",
    "    return sum([1 for sublist in matrix for item in sublist if item > 1])\n",
    "\n",
    "p2 = part2(list([n for n in open('day05.test').read().splitlines()]))\n",
    "print(f'test2: {p2} - {p2 == 12}')\n",
    "p2 = part2(list([n for n in open('day05.data').read().splitlines()]))\n",
    "print(f'part2: {p2} - {p2 == 21373}')\n",
    "\n",
    "print(f'Answer: {p2}')"
   ],
   "metadata": {
    "collapsed": false,
    "pycharm": {
     "name": "#%%\n"
    }
   }
  }
 ],
 "metadata": {
  "kernelspec": {
   "display_name": "Python 3",
   "language": "python",
   "name": "python3"
  },
  "language_info": {
   "codemirror_mode": {
    "name": "ipython",
    "version": 2
   },
   "file_extension": ".py",
   "mimetype": "text/x-python",
   "name": "python",
   "nbconvert_exporter": "python",
   "pygments_lexer": "ipython2",
   "version": "2.7.6"
  }
 },
 "nbformat": 4,
 "nbformat_minor": 0
}