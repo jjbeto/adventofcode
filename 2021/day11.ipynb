{
 "cells": [
  {
   "cell_type": "markdown",
   "metadata": {
    "collapsed": true,
    "pycharm": {
     "name": "#%% md\n"
    }
   },
   "source": [
    "[Day 11](https://adventofcode.com/2021/day/11)\n",
    "\n",
    "### --- Part One ---"
   ]
  },
  {
   "cell_type": "code",
   "source": [
    "test = list([n for n in open('day11.test').read().splitlines()])\n",
    "data = list([n for n in open('day11.data').read().splitlines()])\n",
    "\n",
    "def adjacent(matrix, _x, _y):\n",
    "    has_left = _x > 0\n",
    "    has_right = _x + 1 < len(matrix)\n",
    "    has_top = _y > 0\n",
    "    has_bottom = _y + 1 < len(matrix[0])\n",
    "\n",
    "    adj = {}\n",
    "    if has_left:\n",
    "        adj[(_x - 1, _y)] = int(matrix[_x - 1][_y])\n",
    "    if has_right:\n",
    "        adj[(_x + 1, _y)] = int(matrix[_x + 1][_y])\n",
    "    if has_top:\n",
    "        adj[(_x, _y - 1)] = int(matrix[_x][_y - 1])\n",
    "    if has_bottom:\n",
    "        adj[(_x, _y + 1)] = int(matrix[_x][_y + 1])\n",
    "    if has_top and has_left:\n",
    "        adj[(_x - 1, _y - 1)] = int(matrix[_x - 1][_y - 1])\n",
    "    if has_top and has_right:\n",
    "        adj[(_x + 1, _y - 1)] = int(matrix[_x + 1][_y - 1])\n",
    "    if has_bottom and has_left:\n",
    "        adj[(_x - 1, _y + 1)] = int(matrix[_x - 1][_y + 1])\n",
    "    if has_bottom and has_right:\n",
    "        adj[(_x + 1, _y + 1)] = int(matrix[_x + 1][_y + 1])\n",
    "    return adj\n",
    "\n",
    "def forward(_x, _y, flashed, matrix):\n",
    "    if (_x, _y) not in flashed:\n",
    "        matrix[_x][_y] += 1\n",
    "    if matrix[_x][_y] > 9:\n",
    "        matrix[_x][_y] = 0\n",
    "        flashed.append((_x, _y))\n",
    "        adj = adjacent(matrix, _x, _y)\n",
    "        [forward(*x_y, flashed, matrix) for x_y in [(a_x, a_y) for a_x, a_y in adj if (a_x, a_y) not in flashed]]\n",
    "\n",
    "def part1(lines):\n",
    "    matrix = [[int(i) for i in line] for line in lines]\n",
    "    flashes, len_x, len_y = 0, len(matrix), len(matrix[0])\n",
    "    for step in range(100):\n",
    "        flashed = []\n",
    "        for x in range(len_x):\n",
    "            for y in range(len_y):\n",
    "                forward(x, y, flashed, matrix)\n",
    "        flashes += len(flashed)\n",
    "    return flashes\n",
    "\n",
    "p1 = part1(test)\n",
    "print(f'test1: {p1} - {p1 == 1656}')\n",
    "p1 = part1(data)\n",
    "print(f'real1: {p1} - {p1 == 1705}')\n",
    "\n",
    "print(f'Answer: {p1}')"
   ],
   "metadata": {
    "collapsed": false,
    "pycharm": {
     "name": "#%%\n"
    }
   },
   "execution_count": 1,
   "outputs": [
    {
     "name": "stdout",
     "output_type": "stream",
     "text": [
      "test1: 1656 - True\n",
      "real1: 1705 - True\n",
      "Answer: 1705\n"
     ]
    }
   ]
  },
  {
   "cell_type": "markdown",
   "source": [
    "### --- Part Two ---"
   ],
   "metadata": {
    "collapsed": false
   }
  },
  {
   "cell_type": "code",
   "execution_count": 2,
   "outputs": [
    {
     "name": "stdout",
     "output_type": "stream",
     "text": [
      "test1: 195 - True\n",
      "part2: 265 - True\n",
      "Answer: 265\n"
     ]
    }
   ],
   "source": [
    "def part2(lines):\n",
    "    matrix = [[int(i) for i in line] for line in lines]\n",
    "    step, len_x, len_y = 0, len(matrix), len(matrix[0])\n",
    "    while sum(sum(i) for i in matrix):\n",
    "        flashed = []\n",
    "        for x in range(len_x):\n",
    "            for y in range(len_y):\n",
    "                forward(x, y, flashed, matrix)\n",
    "        step += 1\n",
    "    return step\n",
    "\n",
    "p2 = part2(test)\n",
    "print(f'test1: {p2} - {p2 == 195}')\n",
    "p2 = part2(data)\n",
    "print(f'part2: {p2} - {p2 == 265}')\n",
    "\n",
    "print(f'Answer: {p2}')"
   ],
   "metadata": {
    "collapsed": false,
    "pycharm": {
     "name": "#%%\n"
    }
   }
  }
 ],
 "metadata": {
  "kernelspec": {
   "display_name": "Python 3",
   "language": "python",
   "name": "python3"
  },
  "language_info": {
   "codemirror_mode": {
    "name": "ipython",
    "version": 2
   },
   "file_extension": ".py",
   "mimetype": "text/x-python",
   "name": "python",
   "nbconvert_exporter": "python",
   "pygments_lexer": "ipython2",
   "version": "2.7.6"
  }
 },
 "nbformat": 4,
 "nbformat_minor": 0
}