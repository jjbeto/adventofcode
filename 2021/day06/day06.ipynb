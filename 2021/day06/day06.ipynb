{
 "cells": [
  {
   "cell_type": "markdown",
   "metadata": {
    "collapsed": true,
    "pycharm": {
     "name": "#%% md\n"
    }
   },
   "source": [
    "[Day 06](https://adventofcode.com/2021/day/6)\n",
    "\n",
    "### --- Part One ---"
   ]
  },
  {
   "cell_type": "code",
   "source": [
    "def part1(spawn, days):\n",
    "    spawn = [int(c) for c in spawn]\n",
    "    for d in range(days):\n",
    "        zeros = spawn.count(0)\n",
    "        spawn = [6 if x == 0 else x - 1 for x in spawn]\n",
    "        if zeros:\n",
    "            spawn += [8] * zeros\n",
    "    return len(spawn)\n",
    "\n",
    "p1 = part1(open('day06.test').read().replace(',', ''), 80)\n",
    "print(f'test1: {p1} - {p1 == 5934}')\n",
    "p1 = part1(open('day06.data').read().replace(',', ''), 80)\n",
    "print(f'real1: {p1} - {p1 == 372984}')\n",
    "\n",
    "print(f'Answer: {p1}')"
   ],
   "metadata": {
    "collapsed": false,
    "pycharm": {
     "name": "#%%\n"
    }
   },
   "execution_count": 1,
   "outputs": [
    {
     "name": "stdout",
     "output_type": "stream",
     "text": [
      "test1: 5934 - True\n",
      "real1: 372984 - True\n",
      "Answer: 372984\n"
     ]
    }
   ]
  },
  {
   "cell_type": "markdown",
   "source": [
    "### --- Part Two ---"
   ],
   "metadata": {
    "collapsed": false
   }
  },
  {
   "cell_type": "code",
   "execution_count": 2,
   "outputs": [
    {
     "name": "stdout",
     "output_type": "stream",
     "text": [
      "test1: 26984457539 - True\n",
      "part2: 1681503251694 - True\n",
      "Answer: 1681503251694\n"
     ]
    }
   ],
   "source": [
    "def part2(spawn, days):\n",
    "    _spawn = [0] * 9\n",
    "    for s in [int(c) for c in spawn]:\n",
    "        _spawn[s] += 1\n",
    "\n",
    "    def increase():\n",
    "        _new = _spawn.pop(0)\n",
    "        _spawn[6] += _new\n",
    "        _spawn.append(_new)\n",
    "\n",
    "    [increase() for _ in range(days)]\n",
    "    return sum(_spawn)\n",
    "\n",
    "p2 = part2(open('day06.test').read().replace(',', ''), 256)\n",
    "print(f'test1: {p2} - {p2 == 26984457539}')\n",
    "p2 = part2(open('day06.data').read().replace(',', ''), 256)\n",
    "print(f'part2: {p2} - {p2 == 1681503251694}')\n",
    "\n",
    "print(f'Answer: {p2}')"
   ],
   "metadata": {
    "collapsed": false,
    "pycharm": {
     "name": "#%%\n"
    }
   }
  }
 ],
 "metadata": {
  "kernelspec": {
   "display_name": "Python 3",
   "language": "python",
   "name": "python3"
  },
  "language_info": {
   "codemirror_mode": {
    "name": "ipython",
    "version": 2
   },
   "file_extension": ".py",
   "mimetype": "text/x-python",
   "name": "python",
   "nbconvert_exporter": "python",
   "pygments_lexer": "ipython2",
   "version": "2.7.6"
  }
 },
 "nbformat": 4,
 "nbformat_minor": 0
}