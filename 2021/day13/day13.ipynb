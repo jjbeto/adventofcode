{
 "cells": [
  {
   "cell_type": "markdown",
   "metadata": {
    "collapsed": true,
    "pycharm": {
     "name": "#%% md\n"
    }
   },
   "source": [
    "[Day 13](https://adventofcode.com/2021/day/13)"
   ]
  },
  {
   "cell_type": "code",
   "source": [
    "test = list([n for n in open('day13.test').read().splitlines()])\n",
    "data = list([n for n in open('day13.data').read().splitlines()])\n",
    "\n",
    "def solve(lines):\n",
    "    coordinates, folds = [], []\n",
    "    max_x, max_y = 0, 0\n",
    "    for line in lines:\n",
    "        if not line.startswith('fold') and line:\n",
    "            x, y = map(int, line.split(','))\n",
    "            coordinates.append((x, y))\n",
    "            max_x = x if x > max_x else max_x\n",
    "            max_y = y if y > max_y else max_y\n",
    "        elif line:\n",
    "            folds.append((line.split('=')[0][-1], int(line.split('=')[1])))\n",
    "\n",
    "    matrix = []\n",
    "    for _ in range(max_y + 1):\n",
    "        matrix.append([0 for _ in range(max_x + 1)])\n",
    "    for x, y in coordinates:\n",
    "        matrix[y][x] = 1\n",
    "\n",
    "    for key, target in folds:\n",
    "        target_y = len(matrix)\n",
    "        target_x = len(matrix[0])\n",
    "        if key == 'y':\n",
    "            _y = target - 1\n",
    "            for y in range(target + 1, target_y):\n",
    "                for x in range(target_x):\n",
    "                    if _y >= 0:\n",
    "                        matrix[_y][x] |= matrix[y][x]\n",
    "                _y -= 1\n",
    "            matrix = matrix[:target]\n",
    "        else:\n",
    "            _x = target - 1\n",
    "            for x in range(target + 1, target_x):\n",
    "                for y in range(target_y):\n",
    "                    if _x >= 0:\n",
    "                        matrix[y][_x] |= matrix[y][x]\n",
    "                _x -= 1\n",
    "            matrix = [m[:target] for m in matrix]\n",
    "\n",
    "        instruction = '\\n'.join([''.join(['.' if each == 0 else '#' for each in row]) for row in matrix])\n",
    "        print(f'({key},{target}) -> {instruction.count(\"#\")}')\n",
    "\n",
    "    return instruction\n",
    "\n",
    "print(solve(data))"
   ],
   "metadata": {
    "collapsed": false,
    "pycharm": {
     "name": "#%%\n"
    }
   },
   "execution_count": 1,
   "outputs": [
    {
     "name": "stdout",
     "output_type": "stream",
     "text": [
      "(x,655) -> 618\n",
      "(y,447) -> 532\n",
      "(x,327) -> 446\n",
      "(y,223) -> 373\n",
      "(x,163) -> 315\n",
      "(y,111) -> 269\n",
      "(x,81) -> 227\n",
      "(y,55) -> 189\n",
      "(x,40) -> 152\n",
      "(y,27) -> 131\n",
      "(y,13) -> 111\n",
      "(y,6) -> 98\n",
      ".##..#....###..####.#..#.####.#..#.#..#.\n",
      "#..#.#....#..#.#....#.#..#....#.#..#..#.\n",
      "#..#.#....#..#.###..##...###..##...#..#.\n",
      "####.#....###..#....#.#..#....#.#..#..#.\n",
      "#..#.#....#.#..#....#.#..#....#.#..#..#.\n",
      "#..#.####.#..#.####.#..#.#....#..#..##..\n"
     ]
    }
   ]
  }
 ],
 "metadata": {
  "kernelspec": {
   "display_name": "Python 3",
   "language": "python",
   "name": "python3"
  },
  "language_info": {
   "codemirror_mode": {
    "name": "ipython",
    "version": 2
   },
   "file_extension": ".py",
   "mimetype": "text/x-python",
   "name": "python",
   "nbconvert_exporter": "python",
   "pygments_lexer": "ipython2",
   "version": "2.7.6"
  }
 },
 "nbformat": 4,
 "nbformat_minor": 0
}