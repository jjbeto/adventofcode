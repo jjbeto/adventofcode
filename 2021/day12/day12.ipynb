{
 "cells": [
  {
   "cell_type": "markdown",
   "metadata": {
    "collapsed": true,
    "pycharm": {
     "name": "#%% md\n"
    }
   },
   "source": [
    "[Day 12](https://adventofcode.com/2021/day/12)\n",
    "\n",
    "### --- Part One ---"
   ]
  },
  {
   "cell_type": "code",
   "source": [
    "from collections import defaultdict\n",
    "\n",
    "test = list([n for n in open('day12.test').read().splitlines()])\n",
    "data = list([n for n in open('day12.data').read().splitlines()])\n",
    "\n",
    "def part1(lines):\n",
    "    graph = defaultdict(list)\n",
    "\n",
    "    for each in lines:\n",
    "        a_b = each.split('-')\n",
    "        graph[a_b[0]].append(a_b[1])\n",
    "        graph[a_b[1]].append(a_b[0])\n",
    "\n",
    "    def find_path(origin, dest, path, paths):\n",
    "        path.append(origin)\n",
    "        if origin == dest:\n",
    "            paths.append(path.copy())\n",
    "        else:\n",
    "            for edge in [e for e in graph[origin] if e.isupper() or e not in path + ['start']]:\n",
    "                paths = find_path(edge, dest, path, paths)\n",
    "        path.pop()\n",
    "        return paths\n",
    "\n",
    "    return len(find_path('start', 'end', [], []))\n",
    "\n",
    "p1 = part1(test)\n",
    "print(f'test1: {p1} - {p1 == 226}')\n",
    "p1 = part1(data)\n",
    "print(f'real1: {p1} - {p1 == 3000}')\n",
    "\n",
    "print(f'Answer: {p1}')"
   ],
   "metadata": {
    "collapsed": false,
    "pycharm": {
     "name": "#%%\n"
    }
   },
   "execution_count": 1,
   "outputs": [
    {
     "name": "stdout",
     "output_type": "stream",
     "text": [
      "test1: 226 - True\n",
      "real1: 3000 - True\n",
      "Answer: 3000\n"
     ]
    }
   ]
  },
  {
   "cell_type": "markdown",
   "source": [
    "### --- Part Two ---"
   ],
   "metadata": {
    "collapsed": false
   }
  },
  {
   "cell_type": "code",
   "execution_count": 2,
   "outputs": [
    {
     "name": "stdout",
     "output_type": "stream",
     "text": [
      "test1: 3509 - True\n",
      "part2: 74222 - True\n",
      "Answer: 74222\n"
     ]
    }
   ],
   "source": [
    "def part2(lines):\n",
    "    graph = defaultdict(list)\n",
    "\n",
    "    for each in lines:\n",
    "        a_b = each.split('-')\n",
    "        graph[a_b[0]].append(a_b[1])\n",
    "        graph[a_b[1]].append(a_b[0])\n",
    "\n",
    "    def find_path(origin, dest, path, paths, memory):\n",
    "        path.append(origin)\n",
    "        memory[origin] += 0 if origin.isupper() else 1\n",
    "        if origin == dest:\n",
    "            paths.append(path.copy())\n",
    "        else:\n",
    "            for edge in graph[origin]:\n",
    "                if edge == 'start' or max(memory.values()) == 2 and memory[edge] >= 1:\n",
    "                    continue\n",
    "                paths, memory = find_path(edge, dest, path, paths, memory)\n",
    "        memory[path.pop()] -= 1\n",
    "        return paths, memory\n",
    "\n",
    "    possibilities, _ = find_path('start', 'end', [], [], defaultdict(int))\n",
    "    return len(possibilities)\n",
    "\n",
    "p2 = part2(test)\n",
    "print(f'test1: {p2} - {p2 == 3509}')\n",
    "p2 = part2(data)\n",
    "print(f'part2: {p2} - {p2 == 74222}')\n",
    "\n",
    "print(f'Answer: {p2}')"
   ],
   "metadata": {
    "collapsed": false,
    "pycharm": {
     "name": "#%%\n"
    }
   }
  }
 ],
 "metadata": {
  "kernelspec": {
   "display_name": "Python 3",
   "language": "python",
   "name": "python3"
  },
  "language_info": {
   "codemirror_mode": {
    "name": "ipython",
    "version": 2
   },
   "file_extension": ".py",
   "mimetype": "text/x-python",
   "name": "python",
   "nbconvert_exporter": "python",
   "pygments_lexer": "ipython2",
   "version": "2.7.6"
  }
 },
 "nbformat": 4,
 "nbformat_minor": 0
}