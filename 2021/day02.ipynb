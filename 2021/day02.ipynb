{
 "cells": [
  {
   "cell_type": "markdown",
   "metadata": {
    "collapsed": true,
    "pycharm": {
     "name": "#%% md\n"
    }
   },
   "source": [
    "[Day 02](https://adventofcode.com/2021/day/2)\n",
    "\n",
    "### --- Part One ---"
   ]
  },
  {
   "cell_type": "code",
   "source": [
    "data = open('day02.data')\n",
    "lines = [line.split(' ') for line in data.read().splitlines()]\n",
    "\n",
    "def part1(commands):\n",
    "    horizontal, depth = 0, 0\n",
    "    for command, move in commands:\n",
    "        _move = int(move)\n",
    "        if command == 'up':\n",
    "            depth -= _move\n",
    "        elif command == 'down':\n",
    "            depth += _move\n",
    "        elif command == 'forward':\n",
    "            horizontal += _move\n",
    "    return horizontal * depth\n",
    "\n",
    "print(f'Answer: {part1(lines)}')"
   ],
   "metadata": {
    "collapsed": false,
    "pycharm": {
     "name": "#%%\n"
    }
   },
   "execution_count": 1,
   "outputs": [
    {
     "name": "stdout",
     "output_type": "stream",
     "text": [
      "Answer: 1693300\n"
     ]
    }
   ]
  },
  {
   "cell_type": "markdown",
   "source": [
    "### --- Part Two ---"
   ],
   "metadata": {
    "collapsed": false
   }
  },
  {
   "cell_type": "code",
   "execution_count": 2,
   "outputs": [
    {
     "name": "stdout",
     "output_type": "stream",
     "text": [
      "Answer: 1857958050\n"
     ]
    }
   ],
   "source": [
    "def part2(commands):\n",
    "    horizontal, depth, aim = 0, 0, 0\n",
    "    for command, move in commands:\n",
    "        _move = int(move)\n",
    "        if command == 'up':\n",
    "            aim -= _move\n",
    "        elif command == 'down':\n",
    "            aim += _move\n",
    "        elif command == 'forward':\n",
    "            horizontal += _move\n",
    "            if aim != 0:\n",
    "                depth += aim * _move\n",
    "    return horizontal * depth\n",
    "\n",
    "print(f'Answer: {part2(lines)}')"
   ],
   "metadata": {
    "collapsed": false,
    "pycharm": {
     "name": "#%%\n"
    }
   }
  }
 ],
 "metadata": {
  "kernelspec": {
   "display_name": "Python 3",
   "language": "python",
   "name": "python3"
  },
  "language_info": {
   "codemirror_mode": {
    "name": "ipython",
    "version": 2
   },
   "file_extension": ".py",
   "mimetype": "text/x-python",
   "name": "python",
   "nbconvert_exporter": "python",
   "pygments_lexer": "ipython2",
   "version": "2.7.6"
  }
 },
 "nbformat": 4,
 "nbformat_minor": 0
}