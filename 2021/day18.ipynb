{
 "cells": [
  {
   "cell_type": "markdown",
   "metadata": {
    "collapsed": true,
    "pycharm": {
     "name": "#%% md\n"
    }
   },
   "source": [
    "[Day 18](https://adventofcode.com/2021/day/18)\n",
    "\n",
    "### --- Part One ---"
   ]
  },
  {
   "cell_type": "code",
   "source": [
    "def map_text(text):\n",
    "    _cur, _max, _index = 0, 0, -1\n",
    "    numbers = {}\n",
    "    for i in range(len(text)):\n",
    "        if text[i] == '[':\n",
    "            _cur += 1\n",
    "            if _cur > _max:\n",
    "                _max = _cur\n",
    "                _index = i\n",
    "        elif text[i] == ']':\n",
    "            _cur -= 1\n",
    "        elif text[i].isnumeric():\n",
    "            if i - 1 in numbers:\n",
    "                numbers[i - 1] = int(f'{numbers[i - 1]}{text[i]}')\n",
    "            else:\n",
    "                numbers[i] = int(text[i])\n",
    "    return _max, _index, numbers\n",
    "\n",
    "def explode(text, _max, _index, _numbers):\n",
    "    _index_end = text.find(']', _index)\n",
    "    x, y = map(int, text[_index + 1:_index_end].split(','))\n",
    "\n",
    "    def __change(_target, _delta):\n",
    "        _len = len(f'{_numbers[_target]}')\n",
    "        _new = _numbers[_target] + _delta\n",
    "        return f'{text[:_target]}{_new}{text[_target + _len:]}'\n",
    "\n",
    "    right = min([n for n in _numbers.keys() if n > _index_end], default=None)\n",
    "    text = __change(right, y) if right is not None else text\n",
    "\n",
    "    left = max([n for n in _numbers.keys() if n < _index], default=None)\n",
    "    text = __change(left, x) if left is not None else text\n",
    "\n",
    "    diff = len(f'{_numbers[left] + x}') - len(f'{_numbers[left]}') if left else 0\n",
    "\n",
    "    return f'{text[:_index + diff]}0{text[_index_end + 1 + diff:]}'\n",
    "\n",
    "def split(text, _numbers):\n",
    "    for i, v in ((_i, _v) for _i, _v in _numbers.items() if _v > 9):\n",
    "        _len = len(f'{v}')\n",
    "        return f'{text[:i]}[{v // 2},{(v // 2) + (v % 2)}]{text[i + _len:]}'\n",
    "\n",
    "def magnitude(value):\n",
    "    _listing = []\n",
    "    if isinstance(value, str):\n",
    "        exec(f'_listing.append({value})')\n",
    "        _listing = _listing[0]\n",
    "    elif isinstance(value, int):\n",
    "        return value\n",
    "    else:\n",
    "        _listing = value\n",
    "\n",
    "    return 3 * magnitude(_listing[0]) + 2 * magnitude(_listing[1])\n",
    "\n",
    "def calculate(text):\n",
    "    while True:\n",
    "        _max, _index, _numbers = map_text(text)\n",
    "        if _max > 4:\n",
    "            text = explode(text, _max, _index, _numbers)\n",
    "        elif max(_numbers.values()) > 9:\n",
    "            text = split(text, _numbers)\n",
    "        else:\n",
    "            return text\n",
    "\n",
    "def part1(lines):\n",
    "    text = calculate(f'[{lines[0]},{lines[1]}]')\n",
    "    if len(lines) > 2:\n",
    "        for i in range(2, len(lines)):\n",
    "            text = calculate(f'[{text},{lines[i]}]')\n",
    "    return magnitude(text)\n",
    "\n",
    "test = list([n for n in open('day18.test').read().splitlines()])\n",
    "data = list([n for n in open('day18.data').read().splitlines()])\n",
    "\n",
    "p1 = part1(test)\n",
    "print(f'test1: {p1} - {p1 == 4140}')\n",
    "p1 = part1(data)\n",
    "print(f'test1: {p1} - {p1 == 4417}')\n",
    "\n",
    "print(f'Answer: {p1}')"
   ],
   "metadata": {
    "collapsed": false,
    "pycharm": {
     "name": "#%%\n"
    }
   },
   "execution_count": 1,
   "outputs": [
    {
     "name": "stdout",
     "output_type": "stream",
     "text": [
      "test1: 4140 - True\n",
      "test1: 4417 - True\n",
      "Answer: 4417\n"
     ]
    }
   ]
  },
  {
   "cell_type": "markdown",
   "source": [
    "### --- Part Two ---"
   ],
   "metadata": {
    "collapsed": false
   }
  },
  {
   "cell_type": "code",
   "execution_count": 2,
   "outputs": [
    {
     "name": "stdout",
     "output_type": "stream",
     "text": [
      "test1: 3993 - True\n",
      "test1: 4796 - True\n",
      "Answer: 4796\n"
     ]
    }
   ],
   "source": [
    "def part2(lines):\n",
    "    magnitudes = {}\n",
    "    for i in range(len(lines)):\n",
    "        for j in range(len(lines)):\n",
    "            if i == j:\n",
    "                continue\n",
    "            magnitudes[(i, j)] = part1([lines[i], lines[j]])\n",
    "    return max(magnitudes.values())\n",
    "\n",
    "p2 = part2(test)\n",
    "print(f'test1: {p2} - {p2 == 3993}')\n",
    "p2 = part2(data)\n",
    "print(f'test1: {p2} - {p2 == 4796}')\n",
    "\n",
    "print(f'Answer: {p2}')"
   ],
   "metadata": {
    "collapsed": false,
    "pycharm": {
     "name": "#%%\n"
    }
   }
  }
 ],
 "metadata": {
  "kernelspec": {
   "display_name": "Python 3",
   "language": "python",
   "name": "python3"
  },
  "language_info": {
   "codemirror_mode": {
    "name": "ipython",
    "version": 2
   },
   "file_extension": ".py",
   "mimetype": "text/x-python",
   "name": "python",
   "nbconvert_exporter": "python",
   "pygments_lexer": "ipython2",
   "version": "2.7.6"
  }
 },
 "nbformat": 4,
 "nbformat_minor": 0
}