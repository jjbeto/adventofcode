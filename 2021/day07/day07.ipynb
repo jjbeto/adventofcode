{
 "cells": [
  {
   "cell_type": "markdown",
   "metadata": {
    "collapsed": true,
    "pycharm": {
     "name": "#%% md\n"
    }
   },
   "source": [
    "[Day 07](https://adventofcode.com/2021/day/7)\n",
    "\n",
    "### --- Part One ---"
   ]
  },
  {
   "cell_type": "code",
   "source": [
    "def part1(lines):\n",
    "    counts = list(set((x, lines.count(x)) for x in lines))\n",
    "    return min([sum(abs(x - target) * y for x, y in counts) for target in range(min(lines), max(lines))])\n",
    "\n",
    "p1 = part1(list([int(n) for n in open('day07.test').read().split(',')]))\n",
    "print(f'test1: {p1} - {p1 == 37}')\n",
    "p1 = part1(list([int(n) for n in open('day07.data').read().split(',')]))\n",
    "print(f'real1: {p1} - {p1 == 336721}')\n",
    "\n",
    "print(f'Answer: {p1}')"
   ],
   "metadata": {
    "collapsed": false,
    "pycharm": {
     "name": "#%%\n"
    }
   },
   "execution_count": 1,
   "outputs": [
    {
     "name": "stdout",
     "output_type": "stream",
     "text": [
      "test1: 37 - True\n",
      "real1: 336721 - True\n",
      "Answer: 336721\n"
     ]
    }
   ]
  },
  {
   "cell_type": "markdown",
   "source": [
    "### --- Part Two ---"
   ],
   "metadata": {
    "collapsed": false
   }
  },
  {
   "cell_type": "code",
   "execution_count": 2,
   "outputs": [
    {
     "name": "stdout",
     "output_type": "stream",
     "text": [
      "test1: 168 - True\n",
      "part2: 91638945 - True\n",
      "Answer: 91638945\n"
     ]
    }
   ],
   "source": [
    "def part2(lines):\n",
    "    def total(n):\n",
    "        return n * (n + 1) // 2\n",
    "\n",
    "    counts = list(set((x, lines.count(x)) for x in lines))\n",
    "    return min([\n",
    "        sum(total(abs(x - target)) * y for x, y in counts)\n",
    "        for target in range(min(lines), max(lines))\n",
    "    ])\n",
    "\n",
    "p2 = part2(list([int(n) for n in open('day07.test').read().split(',')]))\n",
    "print(f'test1: {p2} - {p2 == 168}')\n",
    "p2 = part2(list([int(n) for n in open('day07.data').read().split(',')]))\n",
    "print(f'part2: {p2} - {p2 == 91638945}')\n",
    "\n",
    "print(f'Answer: {p2}')"
   ],
   "metadata": {
    "collapsed": false,
    "pycharm": {
     "name": "#%%\n"
    }
   }
  }
 ],
 "metadata": {
  "kernelspec": {
   "display_name": "Python 3",
   "language": "python",
   "name": "python3"
  },
  "language_info": {
   "codemirror_mode": {
    "name": "ipython",
    "version": 2
   },
   "file_extension": ".py",
   "mimetype": "text/x-python",
   "name": "python",
   "nbconvert_exporter": "python",
   "pygments_lexer": "ipython2",
   "version": "2.7.6"
  }
 },
 "nbformat": 4,
 "nbformat_minor": 0
}