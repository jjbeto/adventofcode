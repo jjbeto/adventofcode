{
 "cells": [
  {
   "cell_type": "markdown",
   "metadata": {
    "collapsed": true,
    "pycharm": {
     "name": "#%% md\n"
    }
   },
   "source": [
    "[Day 03](https://adventofcode.com/2021/day/3)\n",
    "\n",
    "### --- Part One ---"
   ]
  },
  {
   "cell_type": "code",
   "source": [
    "data = open('day03.data')\n",
    "# data = open('day03.test')\n",
    "lines = list([n for n in data.read().splitlines()])\n",
    "n_cols = len(lines[0])\n",
    "\n",
    "def to_columns(_lines):\n",
    "    columns = []\n",
    "    n_lines = len(_lines)\n",
    "    for c in range(n_cols):\n",
    "        columns.append('')\n",
    "        for i in range(n_lines):\n",
    "            columns[c] += _lines[i][c]\n",
    "    return columns, n_lines\n",
    "\n",
    "def part1():\n",
    "    gama, epsilon = '', ''\n",
    "    columns, n_lines = to_columns(lines)\n",
    "    for col in columns:\n",
    "        if col.count('1') > n_lines / 2:\n",
    "            gama += '1'\n",
    "            epsilon += '0'\n",
    "        else:\n",
    "            gama += '0'\n",
    "            epsilon += '1'\n",
    "    gama = int(gama, 2)\n",
    "    epsilon = int(epsilon, 2)\n",
    "    return gama * epsilon\n",
    "\n",
    "print(f'Answer: {part1()}')"
   ],
   "metadata": {
    "collapsed": false,
    "pycharm": {
     "name": "#%%\n"
    }
   },
   "execution_count": 1,
   "outputs": [
    {
     "name": "stdout",
     "output_type": "stream",
     "text": [
      "Answer: 2003336\n"
     ]
    }
   ]
  },
  {
   "cell_type": "markdown",
   "source": [
    "### --- Part Two ---"
   ],
   "metadata": {
    "collapsed": false,
    "pycharm": {
     "name": "#%% md\n"
    }
   }
  },
  {
   "cell_type": "code",
   "execution_count": 2,
   "outputs": [
    {
     "name": "stdout",
     "output_type": "stream",
     "text": [
      "Answer: 1877139\n"
     ]
    }
   ],
   "source": [
    "def rating(param):\n",
    "    filtered = lines.copy()\n",
    "    prefix = ''\n",
    "    for i in range(n_cols):\n",
    "        columns, n_lines = to_columns(filtered)\n",
    "        if param == 'oxygen':\n",
    "            prefix += '1' if columns[i].count('1') >= n_lines / 2 else '0'\n",
    "        elif param == 'co2':\n",
    "            prefix += '0' if columns[i].count('0') <= n_lines / 2 else '1'\n",
    "        filtered = [f for f in filtered if f.startswith(prefix)]\n",
    "        if len(filtered) == 1:\n",
    "            break\n",
    "    return int(filtered[0], 2)\n",
    "\n",
    "\n",
    "def part2():\n",
    "    return rating(\"oxygen\") * rating(\"co2\")\n",
    "\n",
    "print(f'Answer: {part2()}')"
   ],
   "metadata": {
    "collapsed": false,
    "pycharm": {
     "name": "#%%\n"
    }
   }
  }
 ],
 "metadata": {
  "kernelspec": {
   "display_name": "Python 3",
   "language": "python",
   "name": "python3"
  },
  "language_info": {
   "codemirror_mode": {
    "name": "ipython",
    "version": 2
   },
   "file_extension": ".py",
   "mimetype": "text/x-python",
   "name": "python",
   "nbconvert_exporter": "python",
   "pygments_lexer": "ipython2",
   "version": "2.7.6"
  }
 },
 "nbformat": 4,
 "nbformat_minor": 0
}