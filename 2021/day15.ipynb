{
 "cells": [
  {
   "cell_type": "markdown",
   "metadata": {
    "collapsed": true,
    "pycharm": {
     "name": "#%% md\n"
    }
   },
   "source": [
    "[Day 15](https://adventofcode.com/2021/day/15)\n",
    "\n",
    "### --- Part One ---"
   ]
  },
  {
   "cell_type": "code",
   "source": [
    "from queue import PriorityQueue\n",
    "\n",
    "test = list([n for n in open('day15.test').read().splitlines()])\n",
    "data = list([n for n in open('day15.data').read().splitlines()])\n",
    "\n",
    "def part1(lines):\n",
    "    risks = [list(map(int, line.strip())) for line in lines]\n",
    "    paths = [[float('inf')] * len(line) for line in lines]\n",
    "    paths[0][0] = 0\n",
    "    square_size = len(paths)\n",
    "\n",
    "    queue = PriorityQueue()\n",
    "    queue.put((0, 0, 0))  # risk, x, y\n",
    "    while not queue.empty():\n",
    "        total, x, y = queue.get()\n",
    "        for edge_x, edge_y in [(x - 1, y), (x + 1, y), (x, y - 1), (x, y + 1)]:\n",
    "            if 0 <= edge_x < square_size and 0 <= edge_y < square_size:\n",
    "                edge_value = total + risks[edge_y][edge_x]\n",
    "                if edge_value < paths[edge_y][edge_x]:\n",
    "                    paths[edge_y][edge_x] = edge_value\n",
    "                    queue.put((edge_value, edge_x, edge_y))\n",
    "    return paths[len(paths) - 1][len(paths[0]) - 1]\n",
    "\n",
    "p1 = part1(test)\n",
    "print(f'test1: {p1} - {p1 == 40}')\n",
    "p1 = part1(data)\n",
    "print(f'real1: {p1} - {p1 == 595}')\n",
    "\n",
    "print(f'Answer: {p1}')"
   ],
   "metadata": {
    "collapsed": false,
    "pycharm": {
     "name": "#%%\n"
    }
   },
   "execution_count": 1,
   "outputs": [
    {
     "name": "stdout",
     "output_type": "stream",
     "text": [
      "test1: 40 - True\n",
      "real1: 595 - True\n",
      "Answer: 595\n"
     ]
    }
   ]
  },
  {
   "cell_type": "markdown",
   "source": [
    "### --- Part Two ---"
   ],
   "metadata": {
    "collapsed": false
   }
  },
  {
   "cell_type": "code",
   "execution_count": 2,
   "outputs": [
    {
     "name": "stdout",
     "output_type": "stream",
     "text": [
      "test1: 315 - True\n",
      "part2: 2914 - True\n",
      "Answer: 2914\n"
     ]
    }
   ],
   "source": [
    "def part2(lines):\n",
    "    def rotate(text):\n",
    "        return ''.join(f'{int(t) + 1}' if int(t) < 9 else '1' for t in text)\n",
    "\n",
    "    big_picture = lines.copy()\n",
    "    tile = lines.copy()\n",
    "    for _ in range(4):\n",
    "        for i, line in enumerate(tile):\n",
    "            tile[i] = rotate(line)\n",
    "            big_picture[i] += tile[i]\n",
    "\n",
    "    shadow_picture = big_picture.copy()\n",
    "    for _ in range(4):\n",
    "        for i, line in enumerate(shadow_picture):\n",
    "            shadow_picture[i] = rotate(line)\n",
    "            big_picture.append(shadow_picture[i])\n",
    "\n",
    "    return part1(big_picture)\n",
    "\n",
    "p2 = part2(test)\n",
    "print(f'test1: {p2} - {p2 == 315}')\n",
    "p2 = part2(data)\n",
    "print(f'part2: {p2} - {p2 == 2914}')\n",
    "\n",
    "print(f'Answer: {p2}')"
   ],
   "metadata": {
    "collapsed": false,
    "pycharm": {
     "name": "#%%\n"
    }
   }
  }
 ],
 "metadata": {
  "kernelspec": {
   "display_name": "Python 3",
   "language": "python",
   "name": "python3"
  },
  "language_info": {
   "codemirror_mode": {
    "name": "ipython",
    "version": 2
   },
   "file_extension": ".py",
   "mimetype": "text/x-python",
   "name": "python",
   "nbconvert_exporter": "python",
   "pygments_lexer": "ipython2",
   "version": "2.7.6"
  }
 },
 "nbformat": 4,
 "nbformat_minor": 0
}