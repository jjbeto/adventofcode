{
 "cells": [
  {
   "cell_type": "markdown",
   "metadata": {
    "collapsed": true,
    "pycharm": {
     "name": "#%% md\n"
    }
   },
   "source": [
    "[Day 10](https://adventofcode.com/2021/day/10)\n",
    "\n",
    "### --- Part One ---"
   ]
  },
  {
   "cell_type": "code",
   "source": [
    "import queue\n",
    "\n",
    "test = list([n for n in open('day10.test').read().splitlines()])\n",
    "data = list([n for n in open('day10.data').read().splitlines()])\n",
    "mapping = {')': '(', ']': '[', '}': '{', '>': '<'}\n",
    "\n",
    "def part1(lines):\n",
    "    total = {')': 0, ']': 0, '}': 0, '>': 0}\n",
    "    corrupted = []\n",
    "    for i, line in enumerate(lines):\n",
    "        chunks = queue.LifoQueue()\n",
    "        for each in line:\n",
    "            if each in mapping.values():\n",
    "                chunks.put(each)\n",
    "            else:\n",
    "                if mapping[each] != chunks.get():\n",
    "                    total[each] += 1\n",
    "                    corrupted.append(i)\n",
    "                    break\n",
    "    return sum([total[')'] * 3, total[']'] * 57, total['}'] * 1197, total['>'] * 25137]), corrupted\n",
    "\n",
    "p1, corrupted_t = part1(test)\n",
    "print(f'test1: {p1} - {p1 == 26397}')\n",
    "p1, corrupted_d = part1(data)\n",
    "print(f'real1: {p1} - {p1 == 323613}')\n",
    "\n",
    "print(f'Answer: {p1}')"
   ],
   "metadata": {
    "collapsed": false,
    "pycharm": {
     "name": "#%%\n"
    }
   },
   "execution_count": 1,
   "outputs": [
    {
     "name": "stdout",
     "output_type": "stream",
     "text": [
      "test1: 26397 - True\n",
      "real1: 323613 - True\n",
      "Answer: 323613\n"
     ]
    }
   ]
  },
  {
   "cell_type": "markdown",
   "source": [
    "### --- Part Two ---"
   ],
   "metadata": {
    "collapsed": false
   }
  },
  {
   "cell_type": "code",
   "execution_count": 2,
   "outputs": [
    {
     "name": "stdout",
     "output_type": "stream",
     "text": [
      "test1: 288957 - True\n",
      "part2: 3103006161 - True\n",
      "Answer: 3103006161\n"
     ]
    }
   ],
   "source": [
    "def part2(lines, corrupted_indexes):\n",
    "    autocomplete = []\n",
    "    for line in [l for i, l in enumerate(lines) if i not in corrupted_indexes]:\n",
    "        chunks = queue.LifoQueue()\n",
    "        [chunks.put(each) if each in mapping.values() else chunks.get() for each in line]\n",
    "\n",
    "        values = []\n",
    "        while not chunks.empty():\n",
    "            last = chunks.get()\n",
    "            if last == '(':\n",
    "                values.append(1)\n",
    "            elif last == '[':\n",
    "                values.append(2)\n",
    "            elif last == '{':\n",
    "                values.append(3)\n",
    "            else:\n",
    "                values.append(4)\n",
    "        autocomplete.append(values)\n",
    "\n",
    "    scores = []\n",
    "    for line in autocomplete:\n",
    "        score = 0\n",
    "        for value in line:\n",
    "            score = score * 5 + value\n",
    "        scores.append(score)\n",
    "    return sorted(scores)[len(scores) // 2]\n",
    "\n",
    "p2 = part2(test, corrupted_t)\n",
    "print(f'test1: {p2} - {p2 == 288957}')\n",
    "p2 = part2(data, corrupted_d)\n",
    "print(f'part2: {p2} - {p2 == 3103006161}')\n",
    "\n",
    "print(f'Answer: {p2}')"
   ],
   "metadata": {
    "collapsed": false,
    "pycharm": {
     "name": "#%%\n"
    }
   }
  }
 ],
 "metadata": {
  "kernelspec": {
   "display_name": "Python 3",
   "language": "python",
   "name": "python3"
  },
  "language_info": {
   "codemirror_mode": {
    "name": "ipython",
    "version": 2
   },
   "file_extension": ".py",
   "mimetype": "text/x-python",
   "name": "python",
   "nbconvert_exporter": "python",
   "pygments_lexer": "ipython2",
   "version": "2.7.6"
  }
 },
 "nbformat": 4,
 "nbformat_minor": 0
}