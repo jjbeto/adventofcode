{
 "cells": [
  {
   "cell_type": "markdown",
   "metadata": {
    "collapsed": true,
    "pycharm": {
     "name": "#%% md\n"
    }
   },
   "source": [
    "[Day 02](https://adventofcode.com/2020/day/2)\n",
    "\n",
    "### --- Part One ---"
   ]
  },
  {
   "cell_type": "code",
   "execution_count": null,
   "outputs": [],
   "source": [
    "import re\n",
    "\n",
    "pattern = re.compile(r\"^(\\d+)-(\\d+) (\\w): (\\w+)$\")\n",
    "lines = open('day02.data').read().splitlines()"
   ],
   "metadata": {
    "collapsed": false,
    "pycharm": {
     "name": "#%%\n"
    }
   }
  },
  {
   "cell_type": "markdown",
   "source": [
    "Now we can follow search for password following the rule:"
   ],
   "metadata": {
    "collapsed": false
   }
  },
  {
   "cell_type": "code",
   "execution_count": 29,
   "outputs": [
    {
     "name": "stdout",
     "output_type": "stream",
     "text": [
      "Answer: 622\n"
     ]
    }
   ],
   "source": [
    "passwords_accepted = 0\n",
    "for line in lines:\n",
    "    matching = pattern.match(line)\n",
    "    if matching:\n",
    "        minimum, maximum, allowed_char, password = matching.groups()\n",
    "        if int(minimum) <= password.count(allowed_char) <= int(maximum):\n",
    "            passwords_accepted += 1\n",
    "print(f'Answer: {passwords_accepted}')"
   ],
   "metadata": {
    "collapsed": false,
    "pycharm": {
     "name": "#%%\n"
    }
   }
  },
  {
   "cell_type": "markdown",
   "source": [
    "### --- Part Two ---"
   ],
   "metadata": {
    "collapsed": false
   }
  },
  {
   "cell_type": "code",
   "execution_count": 30,
   "outputs": [
    {
     "name": "stdout",
     "output_type": "stream",
     "text": [
      "Answer: 263\n"
     ]
    }
   ],
   "source": [
    "passwords_accepted = 0\n",
    "for line in lines:\n",
    "    matching = pattern.match(line)\n",
    "    if matching:\n",
    "        pos1, pos2, allowed_char, password = matching.groups()\n",
    "        on_pos1 = password[int(pos1) - 1] == allowed_char\n",
    "        on_pos2 = password[int(pos2) - 1] == allowed_char\n",
    "        if (on_pos1 and not on_pos2) or (not on_pos1 and on_pos2):\n",
    "            passwords_accepted += 1\n",
    "print(f'Answer: {passwords_accepted}')"
   ],
   "metadata": {
    "collapsed": false,
    "pycharm": {
     "name": "#%%\n"
    }
   }
  }
 ],
 "metadata": {
  "kernelspec": {
   "display_name": "Python 3",
   "language": "python",
   "name": "python3"
  },
  "language_info": {
   "codemirror_mode": {
    "name": "ipython",
    "version": 2
   },
   "file_extension": ".py",
   "mimetype": "text/x-python",
   "name": "python",
   "nbconvert_exporter": "python",
   "pygments_lexer": "ipython2",
   "version": "2.7.6"
  }
 },
 "nbformat": 4,
 "nbformat_minor": 0
}