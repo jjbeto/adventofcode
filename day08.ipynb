{
 "cells": [
  {
   "cell_type": "markdown",
   "metadata": {
    "collapsed": true,
    "pycharm": {
     "name": "#%% md\n"
    }
   },
   "source": [
    "[Day 08](https://adventofcode.com/2020/day/8)\n",
    "\n",
    "### --- Part One ---"
   ]
  },
  {
   "cell_type": "code",
   "execution_count": 1,
   "outputs": [
    {
     "name": "stdout",
     "output_type": "stream",
     "text": [
      "Answer: 1521\n"
     ]
    }
   ],
   "source": [
    "lines = open('day08.data').read().splitlines()\n",
    "\n",
    "\n",
    "def fix_loop_v1():\n",
    "    index = 0\n",
    "    visited = []\n",
    "    accumulator = 0\n",
    "    for _ in range(len(lines)):\n",
    "        if index in visited:\n",
    "            break\n",
    "\n",
    "        instruction = lines[index].split(' ')\n",
    "        visited.append(index)\n",
    "\n",
    "        accumulator += int(instruction[1]) if instruction[0] == 'acc' else 0\n",
    "        index += int(instruction[1]) if instruction[0] == 'jmp' else 1\n",
    "    return accumulator\n",
    "\n",
    "\n",
    "print(f'Answer: {fix_loop_v1()}')\n"
   ],
   "metadata": {
    "collapsed": false,
    "pycharm": {
     "name": "#%%\n"
    }
   }
  },
  {
   "cell_type": "markdown",
   "source": [
    "### --- Part Two ---"
   ],
   "metadata": {
    "collapsed": false
   }
  },
  {
   "cell_type": "code",
   "execution_count": 2,
   "outputs": [
    {
     "name": "stdout",
     "output_type": "stream",
     "text": [
      "switch [jmp->nop] at 2\n",
      "switch [jmp->nop] at 334\n",
      "switch [nop->jmp] at 408\n",
      "switch [jmp->nop] at 410\n",
      "switch [jmp->nop] at 111\n",
      "switch [nop->jmp] at 469\n",
      "switch [jmp->nop] at 471\n",
      "switch [nop->jmp] at 174\n",
      "switch [jmp->nop] at 175\n",
      "switch [jmp->nop] at 435\n",
      "switch [jmp->nop] at 202\n",
      "switch [jmp->nop] at 390\n",
      "switch [jmp->nop] at 392\n",
      "switch [nop->jmp] at 303\n",
      "switch [nop->jmp] at 304\n",
      "switch [jmp->nop] at 305\n",
      "switch [jmp->nop] at 273\n",
      "switch [nop->jmp] at 104\n",
      "switch [jmp->nop] at 107\n",
      "switch [jmp->nop] at 77\n",
      "switch [nop->jmp] at 544\n",
      "switch [nop->jmp] at 545\n",
      "switch [jmp->nop] at 546\n",
      "switch [nop->jmp] at 248\n",
      "switch [nop->jmp] at 249\n",
      "switch [nop->jmp] at 250\n",
      "switch [jmp->nop] at 251\n",
      "switch [jmp->nop] at 510\n",
      "switch [nop->jmp] at 135\n",
      "switch [nop->jmp] at 136\n",
      "switch [jmp->nop] at 138\n",
      "switch [nop->jmp] at 4\n",
      "switch [jmp->nop] at 6\n",
      "switch [jmp->nop] at 459\n",
      "switch [jmp->nop] at 69\n",
      "switch [jmp->nop] at 72\n",
      "switch [jmp->nop] at 581\n",
      "switch [jmp->nop] at 327\n",
      "Answer: 1016\n"
     ]
    }
   ],
   "source": [
    "def fix_loop_v2():\n",
    "    index = 0\n",
    "    switch = []\n",
    "    accumulator = 0\n",
    "    while index < len(lines):\n",
    "        index = 0\n",
    "        visited = []\n",
    "        accumulator = 0\n",
    "        switched = False\n",
    "        for _ in range(len(lines)):\n",
    "            if index >= len(lines) or index in visited:\n",
    "                break\n",
    "            instruction = lines[index].split(' ')\n",
    "            visited.append(index)\n",
    "            accumulator += int(instruction[1]) if instruction[0] == 'acc' else 0\n",
    "            if instruction[0] != 'acc' and index not in switch and not switched:\n",
    "                print(f'switch [{\"jmp->nop\" if instruction[0] == \"jmp\" else \"nop->jmp\"}] at {index}')\n",
    "                instruction[0] = 'nop' if instruction[0] == 'jmp' else 'jmp'\n",
    "                switch.append(index)\n",
    "                switched = True\n",
    "            index += int(instruction[1]) if instruction[0] == 'jmp' else 1\n",
    "    return accumulator\n",
    "\n",
    "\n",
    "print(f'Answer: {fix_loop_v2()}')"
   ],
   "metadata": {
    "collapsed": false,
    "pycharm": {
     "name": "#%%\n"
    }
   }
  }
 ],
 "metadata": {
  "kernelspec": {
   "display_name": "Python 3",
   "language": "python",
   "name": "python3"
  },
  "language_info": {
   "codemirror_mode": {
    "name": "ipython",
    "version": 2
   },
   "file_extension": ".py",
   "mimetype": "text/x-python",
   "name": "python",
   "nbconvert_exporter": "python",
   "pygments_lexer": "ipython2",
   "version": "2.7.6"
  }
 },
 "nbformat": 4,
 "nbformat_minor": 0
}