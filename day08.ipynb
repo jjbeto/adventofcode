{
 "cells": [
  {
   "cell_type": "markdown",
   "metadata": {
    "collapsed": true,
    "pycharm": {
     "name": "#%% md\n"
    }
   },
   "source": [
    "### Day 8: Handheld Halting\n",
    "\n",
    "### --- Part One ---\n",
    "\n",
    "Your flight to the major airline hub reaches cruising altitude without incident. While you consider checking the in-flight menu for one of those drinks that come with a little umbrella, you are interrupted by the kid sitting next to you.\n",
    "\n",
    "Their handheld game console won't turn on! They ask if you can take a look.\n",
    "\n",
    "You narrow the problem down to a strange **infinite loop** in the boot code (your puzzle input) of the device. You should be able to fix it, but first you need to be able to run the code in isolation.\n",
    "\n",
    "The boot code is represented as a text file with one **instruction** per line of text. Each instruction consists of an **operation** (`acc`, `jmp`, or `nop`) and an **argument** (a signed number like `+4` or `-20`).\n",
    "\n",
    "- `acc` increases or decreases a single global value called the **accumulator** by the value given in the argument. For example, `acc +7` would increase the accumulator by 7. The accumulator starts at `0`. After an `acc` instruction, the instruction immediately below it is executed next.\n",
    "- `jmp` **jumps** to a new instruction relative to itself. The next instruction to execute is found using the argument as an **offset** from the `jmp` instruction; for example, `jmp +2` would skip the next instruction, `jmp +1` would continue to the instruction immediately below it, and `jmp -20` would cause the instruction 20 lines above to be executed next.\n",
    "- `nop` stands for **No OPeration** - it does nothing. The instruction immediately below it is executed next.\n",
    "\n",
    "For example, consider the following program:\n",
    "\n",
    "```\n",
    "nop +0\n",
    "acc +1\n",
    "jmp +4\n",
    "acc +3\n",
    "jmp -3\n",
    "acc -99\n",
    "acc +1\n",
    "jmp -4\n",
    "acc +6\n",
    "```\n",
    "\n",
    "These instructions are visited in this order:\n",
    "\n",
    "```\n",
    "nop +0  | 1\n",
    "acc +1  | 2, 8(!)\n",
    "jmp +4  | 3\n",
    "acc +3  | 6\n",
    "jmp -3  | 7\n",
    "acc -99 |\n",
    "acc +1  | 4\n",
    "jmp -4  | 5\n",
    "acc +6  |\n",
    "```\n",
    "\n",
    "First, the `nop +0` does nothing. Then, the accumulator is increased from 0 to 1 (`acc +1`) and `jmp +4` sets the next instruction to the other `acc +1` near the bottom. After it increases the accumulator from 1 to 2, `jmp -4` executes, setting the next instruction to the only `acc +3`. It sets the accumulator to 5, and `jmp -3` causes the program to continue back at the first `acc +1`.\n",
    "\n",
    "This is an **infinite loop**: with this sequence of jumps, the program will run forever. The moment the program tries to run any instruction a second time, you know it will never terminate.\n",
    "\n",
    "Immediately **before** the program would run an instruction a second time, the value in the accumulator is `5`.\n",
    "\n",
    "Run your copy of the boot code. Immediately before any instruction is executed a second time, **what value is in the accumulator?**"
   ]
  },
  {
   "cell_type": "code",
   "execution_count": 1,
   "outputs": [
    {
     "name": "stdout",
     "output_type": "stream",
     "text": [
      "Answer: 1521\n"
     ]
    }
   ],
   "source": [
    "lines = open('day08.data').read().splitlines()\n",
    "\n",
    "\n",
    "def fix_loop_v1():\n",
    "    index = 0\n",
    "    visited = []\n",
    "    accumulator = 0\n",
    "    for _ in range(len(lines)):\n",
    "        if index in visited:\n",
    "            break\n",
    "\n",
    "        instruction = lines[index].split(' ')\n",
    "        visited.append(index)\n",
    "\n",
    "        accumulator += int(instruction[1]) if instruction[0] == 'acc' else 0\n",
    "        index += int(instruction[1]) if instruction[0] == 'jmp' else 1\n",
    "    return accumulator\n",
    "\n",
    "\n",
    "print(f'Answer: {fix_loop_v1()}')\n"
   ],
   "metadata": {
    "collapsed": false,
    "pycharm": {
     "name": "#%%\n"
    }
   }
  },
  {
   "cell_type": "markdown",
   "source": [
    "### --- Part Two ---\n",
    "\n",
    "After some careful analysis, you believe that **exactly one instruction is corrupted**.\n",
    "\n",
    "Somewhere in the program, **either** a `jmp` is supposed to be a `nop`, **or** a `nop` is supposed to be a `jmp`. (No `acc` instructions were harmed in the corruption of this boot code.)\n",
    "\n",
    "The program is supposed to terminate by **attempting to execute an instruction immediately after the last instruction in the file**. By changing exactly one `jmp` or `nop`, you can repair the boot code and make it terminate correctly.\n",
    "\n",
    "For example, consider the same program from above:\n",
    "\n",
    "```\n",
    "nop +0\n",
    "acc +1\n",
    "jmp +4\n",
    "acc +3\n",
    "jmp -3\n",
    "acc -99\n",
    "acc +1\n",
    "jmp -4\n",
    "acc +6\n",
    "```\n",
    "\n",
    "If you change the first instruction from `nop +0` to `jmp +0`, it would create a single-instruction infinite loop, never leaving that instruction. If you change almost any of the `jmp` instructions, the program will still eventually find another `jmp` instruction and loop forever.\n",
    "\n",
    "However, if you change the second-to-last instruction (from `jmp -4` to `nop -4`), the program terminates! The instructions are visited in this order:\n",
    "\n",
    "```\n",
    "nop +0  | 1\n",
    "acc +1  | 2\n",
    "jmp +4  | 3\n",
    "acc +3  |\n",
    "jmp -3  |\n",
    "acc -99 |\n",
    "acc +1  | 4\n",
    "nop -4  | 5 (!)\n",
    "acc +6  | 6\n",
    "```\n",
    "\n",
    "After the last instruction (`acc +6`), the program terminates by attempting to run the instruction below the last instruction in the file. With this change, after the program terminates, the accumulator contains the value **8** (`acc +1`, `acc +1`, `acc +6`).\n",
    "\n",
    "Fix the program so that it terminates normally by changing exactly one `jmp` (to `nop`) or `nop` (to `jmp`). **What is the value of the accumulator after the program terminates?**"
   ],
   "metadata": {
    "collapsed": false
   }
  },
  {
   "cell_type": "code",
   "execution_count": 2,
   "outputs": [
    {
     "name": "stdout",
     "output_type": "stream",
     "text": [
      "switch [jmp->nop] at 2\n",
      "switch [jmp->nop] at 334\n",
      "switch [nop->jmp] at 408\n",
      "switch [jmp->nop] at 410\n",
      "switch [jmp->nop] at 111\n",
      "switch [nop->jmp] at 469\n",
      "switch [jmp->nop] at 471\n",
      "switch [nop->jmp] at 174\n",
      "switch [jmp->nop] at 175\n",
      "switch [jmp->nop] at 435\n",
      "switch [jmp->nop] at 202\n",
      "switch [jmp->nop] at 390\n",
      "switch [jmp->nop] at 392\n",
      "switch [nop->jmp] at 303\n",
      "switch [nop->jmp] at 304\n",
      "switch [jmp->nop] at 305\n",
      "switch [jmp->nop] at 273\n",
      "switch [nop->jmp] at 104\n",
      "switch [jmp->nop] at 107\n",
      "switch [jmp->nop] at 77\n",
      "switch [nop->jmp] at 544\n",
      "switch [nop->jmp] at 545\n",
      "switch [jmp->nop] at 546\n",
      "switch [nop->jmp] at 248\n",
      "switch [nop->jmp] at 249\n",
      "switch [nop->jmp] at 250\n",
      "switch [jmp->nop] at 251\n",
      "switch [jmp->nop] at 510\n",
      "switch [nop->jmp] at 135\n",
      "switch [nop->jmp] at 136\n",
      "switch [jmp->nop] at 138\n",
      "switch [nop->jmp] at 4\n",
      "switch [jmp->nop] at 6\n",
      "switch [jmp->nop] at 459\n",
      "switch [jmp->nop] at 69\n",
      "switch [jmp->nop] at 72\n",
      "switch [jmp->nop] at 581\n",
      "switch [jmp->nop] at 327\n",
      "Answer: 1016\n"
     ]
    }
   ],
   "source": [
    "def fix_loop_v2():\n",
    "    index = 0\n",
    "    switch = []\n",
    "    accumulator = 0\n",
    "    while index < len(lines):\n",
    "        index = 0\n",
    "        visited = []\n",
    "        accumulator = 0\n",
    "        switched = False\n",
    "        for _ in range(len(lines)):\n",
    "            if index >= len(lines) or index in visited:\n",
    "                break\n",
    "            instruction = lines[index].split(' ')\n",
    "            visited.append(index)\n",
    "            accumulator += int(instruction[1]) if instruction[0] == 'acc' else 0\n",
    "            if instruction[0] != 'acc' and index not in switch and not switched:\n",
    "                print(f'switch [{\"jmp->nop\" if instruction[0] == \"jmp\" else \"nop->jmp\"}] at {index}')\n",
    "                instruction[0] = 'nop' if instruction[0] == 'jmp' else 'jmp'\n",
    "                switch.append(index)\n",
    "                switched = True\n",
    "            index += int(instruction[1]) if instruction[0] == 'jmp' else 1\n",
    "    return accumulator\n",
    "\n",
    "\n",
    "print(f'Answer: {fix_loop_v2()}')"
   ],
   "metadata": {
    "collapsed": false,
    "pycharm": {
     "name": "#%%\n"
    }
   }
  }
 ],
 "metadata": {
  "kernelspec": {
   "display_name": "Python 3",
   "language": "python",
   "name": "python3"
  },
  "language_info": {
   "codemirror_mode": {
    "name": "ipython",
    "version": 2
   },
   "file_extension": ".py",
   "mimetype": "text/x-python",
   "name": "python",
   "nbconvert_exporter": "python",
   "pygments_lexer": "ipython2",
   "version": "2.7.6"
  }
 },
 "nbformat": 4,
 "nbformat_minor": 0
}