{
 "cells": [
  {
   "cell_type": "markdown",
   "metadata": {
    "collapsed": true,
    "pycharm": {
     "name": "#%% md\n"
    }
   },
   "source": [
    "### Day 5: Binary Boarding\n",
    "\n",
    "### --- Part One ---\n",
    "\n",
    "You board your plane only to discover a new problem: you dropped your boarding pass! You aren't sure which seat is yours, and all of the flight attendants are busy with the flood of people that suddenly made it through passport control.\n",
    "\n",
    "You write a quick program to use your phone's camera to scan all of the nearby boarding passes (your puzzle input); perhaps you can find your seat through process of elimination.\n",
    "\n",
    "Instead of zones or groups, this airline uses binary space partitioning to seat people. A seat might be specified like `FBFBBFFRLR`, where `F` means \"front\", `B` means \"back\", `L` means \"left\", and `R` means \"right\".\n",
    "\n",
    "The first 7 characters will either be `F` or `B`; these specify exactly one of the **128 rows** on the plane (numbered `0` through `127`). Each letter tells you which half of a region the given seat is in. Start with the whole list of rows; the first letter indicates whether the seat is in the **front** (`0` through `63`) or the **back** (`64` through `127`). The next letter indicates which half of that region the seat is in, and so on until you're left with exactly one row.\n",
    "\n",
    "For example, consider just the first seven characters of `FBFBBFFRLR`:\n",
    "\n",
    "- Start by considering the whole range, rows `0` through `127`.\n",
    "- `F` means to take the **lower half**, keeping rows `0` through `63`.\n",
    "- `B` means to take the **upper half**, keeping rows `32` through `63`.\n",
    "- `F` means to take the **lower half**, keeping rows `32` through `47`.\n",
    "- `B` means to take the **upper half**, keeping rows `40` through `47`.\n",
    "- `B` keeps rows `44` through `47`.\n",
    "- `F` keeps rows `44` through `45`.\n",
    "- The final `F` keeps the lower of the two, **row** `44`.\n",
    "\n",
    "The last three characters will be either `L` or `R`; these specify exactly one of the **8 columns** of seats on the plane (numbered `0` through `7`). The same process as above proceeds again, this time with only three steps. `L` means to keep the **lower half**, while `R` means to keep the **upper half**.\n",
    "\n",
    "For example, consider just the last 3 characters of `FBFBBFFRLR`:\n",
    "\n",
    "- Start by considering the whole range, columns `0` through `7`.\n",
    "- `R` means to take the **upper half**, keeping columns `4` through `7`.\n",
    "- `L` means to take the **lower half**, keeping columns `4` through `5`.\n",
    "- The final `R` keeps the upper of the two, **column** `5`.\n",
    "\n",
    "So, decoding `FBFBBFFRLR` reveals that it is the seat at **row** `44`, **column** `5`.\n",
    "\n",
    "Every seat also has a unique **seat ID**: multiply the row by `8`, then add the column. In this example, the seat has ID `44 * 8 + 5 = 357`.\n",
    "\n",
    "Here are some other boarding passes:\n",
    "\n",
    "- `BFFFBBFRRR`: row `70`, column `7`, seat ID `567`.\n",
    "- `FFFBBBFRRR`: row `14`, column `7`, seat ID `119`.\n",
    "- `BBFFBBFRLL`: row `102`, column `4`, seat ID `820`.\n",
    "\n",
    "As a sanity check, look through your list of boarding passes. **What is the highest seat ID on a boarding pass?**"
   ]
  },
  {
   "cell_type": "code",
   "execution_count": 1,
   "outputs": [
    {
     "name": "stdout",
     "output_type": "stream",
     "text": [
      "Answer: 959\n"
     ]
    }
   ],
   "source": [
    "def calculate(ticket, pos: range):\n",
    "    for each in ticket:\n",
    "        half = int((pos.stop + 1 - pos.start) / 2)\n",
    "        pos = range(pos.start, pos.stop - half) if each in ['F', 'L'] else range(pos.start + half, pos.stop)\n",
    "    return pos.stop\n",
    "\n",
    "def seat_id(ticket):\n",
    "    row = calculate(ticket[:7], range(127))\n",
    "    col = calculate(ticket[7:], range(7))\n",
    "    return row * 8 + col\n",
    "\n",
    "def highest_seat_id(tickets):\n",
    "    highest_row = sorted(set([ticket[:7] for ticket in tickets]))[0]\n",
    "    highest_row_col = sorted([ticket for ticket in tickets if ticket.startswith(highest_row)], reverse=True)[0]\n",
    "    return seat_id(highest_row_col)\n",
    "\n",
    "lines = open('day05.data').read().splitlines()\n",
    "\n",
    "print(f'Answer: {highest_seat_id(lines)}')"
   ],
   "metadata": {
    "collapsed": false,
    "pycharm": {
     "name": "#%%\n"
    }
   }
  },
  {
   "cell_type": "markdown",
   "source": [
    "Then.. I was talking to some colleagues and they actually had a way better approach to calculate `seat id`!\n",
    "\n",
    "Translating to Python 🔥"
   ],
   "metadata": {
    "collapsed": false,
    "pycharm": {
     "name": "#%% md\n"
    }
   }
  },
  {
   "cell_type": "code",
   "execution_count": 2,
   "outputs": [
    {
     "data": {
      "text/plain": "357"
     },
     "execution_count": 2,
     "metadata": {},
     "output_type": "execute_result"
    }
   ],
   "source": [
    "translation = { 'F': '0', 'B': '1', 'L': '0', 'R': '1'}\n",
    "\n",
    "def seat_id_v2(ticket): return int(''.join([translation[letter] for letter in ticket]), 2)\n",
    "\n",
    "seat_id_v2('FBFBBFFRLR')"
   ],
   "metadata": {
    "collapsed": false,
    "pycharm": {
     "name": "#%%\n"
    }
   }
  },
  {
   "cell_type": "markdown",
   "source": [
    "### --- Part Two ---\n",
    "\n",
    "**Ding!** The \"fasten seat belt\" signs have turned on. Time to find your seat.\n",
    "\n",
    "It's a completely full flight, so your seat should be the only missing boarding pass in your list. However, there's a catch: some of the seats at the very front and back of the plane don't exist on this aircraft, so they'll be missing from your list as well.\n",
    "\n",
    "Your seat wasn't at the very front or back, though; the seats with IDs +1 and -1 from yours will be in your list.\n",
    "\n",
    "**What is the ID of your seat?**"
   ],
   "metadata": {
    "collapsed": false
   }
  },
  {
   "cell_type": "code",
   "execution_count": 3,
   "outputs": [
    {
     "name": "stdout",
     "output_type": "stream",
     "text": [
      "Answer: 527\n"
     ]
    }
   ],
   "source": [
    "def my_seat(tickets):\n",
    "    previous = None\n",
    "    for seat in sorted([seat_id(ticket) for ticket in tickets]):\n",
    "        current = seat\n",
    "        if not previous:\n",
    "            previous = current\n",
    "        if current - 2 == previous:\n",
    "            return current - 1\n",
    "        previous = current\n",
    "    return -1\n",
    "\n",
    "print(f'Answer: {my_seat(lines)}')"
   ],
   "metadata": {
    "collapsed": false,
    "pycharm": {
     "name": "#%%\n"
    }
   }
  },
  {
   "cell_type": "markdown",
   "source": [
    "Then again 😂.. There is a [magical](https://www.quora.com/What-is-the-summation-of-consecutive-numbers-not-starting-from-one) way to calculate it in linear way 🚀:\n",
    "\n",
    "Translating to Python 🔥"
   ],
   "metadata": {
    "collapsed": false
   }
  },
  {
   "cell_type": "code",
   "source": [
    "def my_seat_v2(tickets):\n",
    "    seats = ([seat_id(ticket) for ticket in tickets])\n",
    "    m, n = min(seats), max(seats)\n",
    "    return (m + n) * (n - m + 1) / 2 - sum(seats)\n",
    "\n",
    "print(f'Answer: {my_seat_v2(lines)}')"
   ],
   "metadata": {
    "collapsed": false,
    "pycharm": {
     "name": "#%%\n"
    }
   },
   "execution_count": 4,
   "outputs": [
    {
     "name": "stdout",
     "output_type": "stream",
     "text": [
      "Answer: 527.0\n"
     ]
    }
   ]
  },
  {
   "cell_type": "markdown",
   "source": [
    "Thanks [cmears](https://gitlab.com/cmears) and [GoossensMichael](https://github.com/GoossensMichael)."
   ],
   "metadata": {
    "collapsed": false,
    "pycharm": {
     "name": "#%% md\n"
    }
   }
  }
 ],
 "metadata": {
  "kernelspec": {
   "display_name": "Python 3",
   "language": "python",
   "name": "python3"
  },
  "language_info": {
   "codemirror_mode": {
    "name": "ipython",
    "version": 2
   },
   "file_extension": ".py",
   "mimetype": "text/x-python",
   "name": "python",
   "nbconvert_exporter": "python",
   "pygments_lexer": "ipython2",
   "version": "2.7.6"
  }
 },
 "nbformat": 4,
 "nbformat_minor": 0
}