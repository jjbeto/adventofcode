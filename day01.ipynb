{
 "cells": [
  {
   "cell_type": "markdown",
   "metadata": {
    "collapsed": true,
    "pycharm": {
     "name": "#%% md\n"
    }
   },
   "source": [
    "# Day 01\n",
    "\n",
    "### --- Part One ---\n",
    "\n",
    "Before you leave, the Elves in accounting just need you to fix your expense report (your puzzle input); apparently, something isn't quite adding up.\n",
    "Specifically, they need you to find the two entries that sum to 2020 and then multiply those two numbers together\n",
    "For example, suppose your expense report contained the following:\n",
    "\n",
    "1721\n",
    "979\n",
    "366\n",
    "299\n",
    "675\n",
    "1456\n",
    "\n",
    "In this list, the two entries that sum to 2020 are 1721 and 299. Multiplying them together produces 1721 * 299 = 514579, so the correct answer is 514579.\n",
    "Of course, your expense report is much larger. Find the two entries that sum to 2020; what do you get if you multiply them together?\n",
    "Source copied to day01.data"
   ]
  },
  {
   "cell_type": "code",
   "source": [
    "data = open('day01.data')\n",
    "numbers = list([int(n) for n in data.read().splitlines()])\n",
    "numbers.sort()\n",
    "\n",
    "\n",
    "def find_2_sum_2020():\n",
    "    for a in range(len(numbers) - 1):\n",
    "        for b in range(a + 1, len(numbers)):\n",
    "            if numbers[a] + numbers[b] == 2020:\n",
    "                return numbers[a], numbers[b]\n",
    "    return None, None\n",
    "\n",
    "x, y = find_2_sum_2020()\n",
    "print(f'tuple: {x}, {y}')\n",
    "\n",
    "result_x_y = x * y\n",
    "print(f'Answer: {result_x_y}')"
   ],
   "metadata": {
    "collapsed": false,
    "pycharm": {
     "name": "#%%\n"
    }
   },
   "execution_count": 6,
   "outputs": [
    {
     "name": "stdout",
     "output_type": "stream",
     "text": [
      "tuple: 388, 1632\n",
      "Answer: 633216\n"
     ]
    }
   ]
  },
  {
   "cell_type": "markdown",
   "source": [
    "### --- Part Two ---\n",
    "\n",
    "The Elves in accounting are thankful for your help; one of them even offers you a starfish coin they had left over from a past vacation. They offer you a second one if you can find three numbers in your expense report that meet the same criteria.\n",
    "\n",
    "Using the above example again, the three entries that sum to 2020 are 979, 366, and 675. Multiplying them together produces the answer, 241861950.\n",
    "\n",
    "In your expense report, what is the product of the three entries that sum to 2020?"
   ],
   "metadata": {
    "collapsed": false
   }
  },
  {
   "cell_type": "code",
   "execution_count": 7,
   "outputs": [
    {
     "name": "stdout",
     "output_type": "stream",
     "text": [
      "tuple: 196, 217, 1607\n",
      "Answer: 68348924\n"
     ]
    }
   ],
   "source": [
    "\n",
    "def find_3_sum_2020():\n",
    "    for a in range(len(numbers) - 2):\n",
    "        for b in range(a + 1, len(numbers) - 1):\n",
    "            for c in range(b + 1, len(numbers)):\n",
    "                if numbers[a] + numbers[b] + numbers[c] == 2020:\n",
    "                    return numbers[a], numbers[b], numbers[c]\n",
    "    return None, None, None\n",
    "\n",
    "x, y, z = find_3_sum_2020()\n",
    "print(f'tuple: {x}, {y}, {z}')\n",
    "\n",
    "result_x_y_z = x * y * z\n",
    "print(f'Answer: {result_x_y_z}')"
   ],
   "metadata": {
    "collapsed": false,
    "pycharm": {
     "name": "#%%\n"
    }
   }
  }
 ],
 "metadata": {
  "kernelspec": {
   "display_name": "Python 3",
   "language": "python",
   "name": "python3"
  },
  "language_info": {
   "codemirror_mode": {
    "name": "ipython",
    "version": 2
   },
   "file_extension": ".py",
   "mimetype": "text/x-python",
   "name": "python",
   "nbconvert_exporter": "python",
   "pygments_lexer": "ipython2",
   "version": "2.7.6"
  }
 },
 "nbformat": 4,
 "nbformat_minor": 0
}