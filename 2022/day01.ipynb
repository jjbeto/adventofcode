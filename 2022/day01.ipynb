{
 "cells": [
  {
   "cell_type": "markdown",
   "source": [
    "[Day 01](https://adventofcode.com/2022/day/1)\n",
    "\n",
    "### --- Part One ---"
   ],
   "metadata": {
    "collapsed": false
   }
  },
  {
   "cell_type": "code",
   "execution_count": 1,
   "outputs": [
    {
     "name": "stdout",
     "output_type": "stream",
     "text": [
      "Answer: 69693\n"
     ]
    }
   ],
   "source": [
    "from queue import PriorityQueue\n",
    "\n",
    "q = PriorityQueue()\n",
    "curr = 0\n",
    "for line in open('day01.txt').read().splitlines():\n",
    "    if line == '':\n",
    "        q.put(curr)\n",
    "        curr = 0\n",
    "        continue\n",
    "    curr -= int(line)\n",
    "\n",
    "_1st = -q.get()\n",
    "print(f'Answer: {_1st}')"
   ],
   "metadata": {
    "collapsed": false,
    "ExecuteTime": {
     "end_time": "2023-12-02T16:19:17.141524Z",
     "start_time": "2023-12-02T16:19:17.130240Z"
    }
   }
  },
  {
   "cell_type": "markdown",
   "source": [
    "### --- Part Two ---"
   ],
   "metadata": {
    "collapsed": false
   }
  },
  {
   "cell_type": "code",
   "execution_count": 2,
   "outputs": [
    {
     "name": "stdout",
     "output_type": "stream",
     "text": [
      "Answer: 200945\n"
     ]
    }
   ],
   "source": [
    "_2nd = -q.get()\n",
    "_3rd = -q.get()\n",
    "\n",
    "print(f'Answer: {_1st + _2nd + _3rd}')"
   ],
   "metadata": {
    "collapsed": false,
    "pycharm": {
     "name": "#%%\n"
    },
    "ExecuteTime": {
     "end_time": "2023-12-02T16:19:19.010660Z",
     "start_time": "2023-12-02T16:19:19.006176Z"
    }
   }
  }
 ],
 "metadata": {
  "kernelspec": {
   "display_name": "Python 3",
   "language": "python",
   "name": "python3"
  },
  "language_info": {
   "codemirror_mode": {
    "name": "ipython",
    "version": 2
   },
   "file_extension": ".py",
   "mimetype": "text/x-python",
   "name": "python",
   "nbconvert_exporter": "python",
   "pygments_lexer": "ipython2",
   "version": "2.7.6"
  }
 },
 "nbformat": 4,
 "nbformat_minor": 0
}
