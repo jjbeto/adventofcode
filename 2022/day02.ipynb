{
 "cells": [
  {
   "cell_type": "markdown",
   "source": [
    "[Day 02](https://adventofcode.com/2022/day/2)\n",
    "\n",
    "### --- Part One ---"
   ],
   "metadata": {
    "collapsed": false
   }
  },
  {
   "cell_type": "code",
   "execution_count": 1,
   "outputs": [
    {
     "name": "stdout",
     "output_type": "stream",
     "text": [
      "Answer: 9241\n"
     ]
    }
   ],
   "source": [
    "# outcome (0=lost, 3=draw, 6=won) + shape (1=rock, 2=paper, 3=scissors)\n",
    "score = 0  # result() + shape\n",
    "for line in open('day02.txt').read().splitlines():\n",
    "    if line == 'A X':    # rock x rock = draw\n",
    "        score += 3 + 1\n",
    "    elif line == 'A Y':  # rock x paper = won\n",
    "        score += 6 + 2\n",
    "    elif line == 'A Z':  # rock x scissors = lost\n",
    "        score += 0 + 3\n",
    "    elif line == 'B X':  # paper x rock = lost\n",
    "        score += 0 + 1\n",
    "    elif line == 'B Y':  # paper x paper = draw\n",
    "        score += 3 + 2\n",
    "    elif line == 'B Z':  # paper x scissors = won\n",
    "        score += 6 + 3\n",
    "    elif line == 'C X':  # scissors x rock = won\n",
    "        score += 6 + 1\n",
    "    elif line == 'C Y':  # scissors x paper = lost\n",
    "        score += 0 + 2\n",
    "    elif line == 'C Z':  # scissors x scissors = draw\n",
    "        score += 3 + 3\n",
    "\n",
    "print(f'Answer: {score}')"
   ],
   "metadata": {
    "collapsed": false,
    "ExecuteTime": {
     "end_time": "2023-12-02T16:47:40.861234Z",
     "start_time": "2023-12-02T16:47:40.802910Z"
    }
   }
  },
  {
   "cell_type": "markdown",
   "source": [
    "### --- Part Two ---"
   ],
   "metadata": {
    "collapsed": false
   }
  },
  {
   "cell_type": "code",
   "execution_count": 2,
   "outputs": [
    {
     "name": "stdout",
     "output_type": "stream",
     "text": [
      "Answer: 14610\n"
     ]
    }
   ],
   "source": [
    "# outcome (0=lost, 3=draw, 6=won) + shape (1=rock, 2=paper, 3=scissors)\n",
    "# needed outcome: X=lose, Y=draw, Z=win\n",
    "score = 0  # result() + shape\n",
    "for line in open('day02.txt').read().splitlines():\n",
    "    if line == 'A X':    # rock x scissors = lost\n",
    "        score += 0 + 3\n",
    "    elif line == 'A Y':  # rock x rock = draw\n",
    "        score += 3 + 1\n",
    "    elif line == 'A Z':  # rock x paper = won\n",
    "        score += 6 + 2\n",
    "    elif line == 'B X':  # paper x rock = lost\n",
    "        score += 0 + 1\n",
    "    elif line == 'B Y':  # paper x paper = draw\n",
    "        score += 3 + 2\n",
    "    elif line == 'B Z':  # paper x scissors = won\n",
    "        score += 6 + 3\n",
    "    elif line == 'C X':  # scissors x paper = lost\n",
    "        score += 0 + 2\n",
    "    elif line == 'C Y':  # scissors x scissors = draw\n",
    "        score += 3 + 3\n",
    "    elif line == 'C Z':  # scissors x rock = won\n",
    "        score += 6 + 1\n",
    "\n",
    "print(f'Answer: {score}')"
   ],
   "metadata": {
    "collapsed": false,
    "pycharm": {
     "name": "#%%\n"
    },
    "ExecuteTime": {
     "end_time": "2023-12-02T16:47:45.792783Z",
     "start_time": "2023-12-02T16:47:45.771638Z"
    }
   }
  }
 ],
 "metadata": {
  "kernelspec": {
   "display_name": "Python 3",
   "language": "python",
   "name": "python3"
  },
  "language_info": {
   "codemirror_mode": {
    "name": "ipython",
    "version": 2
   },
   "file_extension": ".py",
   "mimetype": "text/x-python",
   "name": "python",
   "nbconvert_exporter": "python",
   "pygments_lexer": "ipython2",
   "version": "2.7.6"
  }
 },
 "nbformat": 4,
 "nbformat_minor": 0
}
