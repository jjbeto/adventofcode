{
 "cells": [
  {
   "cell_type": "markdown",
   "source": [
    "[Day 03](https://adventofcode.com/2022/day/3)\n",
    "\n",
    "### --- Part One ---"
   ],
   "metadata": {
    "collapsed": false
   }
  },
  {
   "cell_type": "code",
   "execution_count": 1,
   "outputs": [
    {
     "name": "stdout",
     "output_type": "stream",
     "text": [
      "Answer: 7691\n"
     ]
    }
   ],
   "source": [
    "total = 0\n",
    "for line in open('day03.txt').read().splitlines():\n",
    "    part1, part2 = line[:len(line)//2], line[(len(line)//2):]\n",
    "    char = ord((set(part1) & set(part2)).pop())\n",
    "    # char ref: a->97 z->122 A->65 Z->90\n",
    "    if char > 96:\n",
    "        total += char - 96  # a=97 -> a=1\n",
    "    else:\n",
    "        total += char - 38  # A=65 -> A=27\n",
    "\n",
    "print(f'Answer: {total}')"
   ],
   "metadata": {
    "collapsed": false,
    "ExecuteTime": {
     "end_time": "2023-12-02T22:20:12.239249Z",
     "start_time": "2023-12-02T22:20:12.206714Z"
    }
   }
  },
  {
   "cell_type": "markdown",
   "source": [
    "### --- Part Two ---"
   ],
   "metadata": {
    "collapsed": false
   }
  },
  {
   "cell_type": "code",
   "execution_count": 2,
   "outputs": [
    {
     "name": "stdout",
     "output_type": "stream",
     "text": [
      "Answer: 2508\n"
     ]
    }
   ],
   "source": [
    "import utils\n",
    "\n",
    "total = 0\n",
    "for group in utils.list_by_group(open('day03.txt').read().splitlines(), 3):\n",
    "    # char ref: a->97 z->122 A->65 Z->90\n",
    "    char = ord((set(group[0]) & set(group[1]) & set(group[2])).pop())\n",
    "    if char > 96:\n",
    "        total += char - 96  # a=97 -> a=1\n",
    "    else:\n",
    "        total += char - 38  # A=65 -> A=27\n",
    "\n",
    "print(f'Answer: {total}')\n"
   ],
   "metadata": {
    "collapsed": false,
    "pycharm": {
     "name": "#%%\n"
    },
    "ExecuteTime": {
     "end_time": "2023-12-02T22:20:14.121026Z",
     "start_time": "2023-12-02T22:20:14.079923Z"
    }
   }
  }
 ],
 "metadata": {
  "kernelspec": {
   "display_name": "Python 3",
   "language": "python",
   "name": "python3"
  },
  "language_info": {
   "codemirror_mode": {
    "name": "ipython",
    "version": 2
   },
   "file_extension": ".py",
   "mimetype": "text/x-python",
   "name": "python",
   "nbconvert_exporter": "python",
   "pygments_lexer": "ipython2",
   "version": "2.7.6"
  }
 },
 "nbformat": 4,
 "nbformat_minor": 0
}
