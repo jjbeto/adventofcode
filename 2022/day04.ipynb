{
 "cells": [
  {
   "cell_type": "markdown",
   "source": [
    "[Day 04](https://adventofcode.com/2022/day/4)\n",
    "\n",
    "### --- Part One ---"
   ],
   "metadata": {
    "collapsed": false
   }
  },
  {
   "cell_type": "code",
   "execution_count": 1,
   "outputs": [
    {
     "name": "stdout",
     "output_type": "stream",
     "text": [
      "Answer: 509\n"
     ]
    }
   ],
   "source": [
    "import utils\n",
    "\n",
    "total = 0\n",
    "for line in open('day04.txt').read().splitlines():\n",
    "    x1, y1, x2, y2 = utils.extract_int('%-%,%-%', line)\n",
    "    if (x1 <= x2 <= y1 and x1 <= y2 <= y1) or (x2 <= x1 <= y2 and x2 <= y1 <= y2):\n",
    "        total += 1\n",
    "\n",
    "print(f'Answer: {total}')"
   ],
   "metadata": {
    "collapsed": false,
    "ExecuteTime": {
     "end_time": "2023-12-02T22:43:39.773794Z",
     "start_time": "2023-12-02T22:43:39.715889Z"
    }
   }
  },
  {
   "cell_type": "markdown",
   "source": [
    "### --- Part Two ---"
   ],
   "metadata": {
    "collapsed": false
   }
  },
  {
   "cell_type": "code",
   "execution_count": 2,
   "outputs": [
    {
     "name": "stdout",
     "output_type": "stream",
     "text": [
      "Answer: 870\n"
     ]
    }
   ],
   "source": [
    "total = 0\n",
    "for line in open('day04.txt').read().splitlines():\n",
    "    x1, y1, x2, y2 = utils.extract_int('%-%,%-%', line)\n",
    "    if x1 <= x2 <= y1 or x1 <= y2 <= y1 or x2 <= x1 <= y2 or x2 <= y1 <= y2:\n",
    "        total += 1\n",
    "\n",
    "print(f'Answer: {total}')"
   ],
   "metadata": {
    "collapsed": false,
    "pycharm": {
     "name": "#%%\n"
    },
    "ExecuteTime": {
     "end_time": "2023-12-02T22:49:49.334949Z",
     "start_time": "2023-12-02T22:49:49.277963Z"
    }
   }
  }
 ],
 "metadata": {
  "kernelspec": {
   "display_name": "Python 3",
   "language": "python",
   "name": "python3"
  },
  "language_info": {
   "codemirror_mode": {
    "name": "ipython",
    "version": 2
   },
   "file_extension": ".py",
   "mimetype": "text/x-python",
   "name": "python",
   "nbconvert_exporter": "python",
   "pygments_lexer": "ipython2",
   "version": "2.7.6"
  }
 },
 "nbformat": 4,
 "nbformat_minor": 0
}
