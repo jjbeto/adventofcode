{
 "cells": [
  {
   "cell_type": "markdown",
   "metadata": {
    "collapsed": true,
    "pycharm": {
     "name": "#%% md\n"
    }
   },
   "source": [
    "[Day 11](https://adventofcode.com/2020/day/11)\n",
    "\n",
    "### --- Part One ---"
   ]
  },
  {
   "cell_type": "code",
   "execution_count": 1,
   "outputs": [
    {
     "name": "stdout",
     "output_type": "stream",
     "text": [
      "Answer: 2438\n"
     ]
    }
   ],
   "source": [
    "import copy\n",
    "\n",
    "lines = open('day11.data').read().splitlines()\n",
    "number_of_rows = len(lines)\n",
    "number_of_cols = len(lines[0])\n",
    "\n",
    "\n",
    "def printer(seat_map):\n",
    "    [print(''.join([seat for seat in seat_row.values()])) for seat_row in seat_map]\n",
    "    print('')\n",
    "\n",
    "\n",
    "def occupied_surrounds_v1(seat_map, i, j):\n",
    "    occupied_seats = 0\n",
    "    for delta_i in [-1, 0, 1]:\n",
    "        if i + delta_i >= number_of_rows or i + delta_i < 0:\n",
    "            continue\n",
    "        for delta_j in [-1, 0, 1]:\n",
    "            if (delta_i, delta_j) != (0, 0):\n",
    "                occupied_seats += 1 if seat_map[i + delta_i].get(j + delta_j, '.') == '#' else 0\n",
    "    return occupied_seats\n",
    "\n",
    "\n",
    "def load_passengers(occupied_check_method, occupied_limit=4, report=False):\n",
    "    current_map = [dict(enumerate(row)) for row in lines]\n",
    "    target_map = copy.deepcopy(current_map)\n",
    "\n",
    "    changing_spots = True\n",
    "    while changing_spots:\n",
    "        if report:\n",
    "            printer(target_map)\n",
    "        changing_spots = False\n",
    "        for i, row in enumerate(current_map):\n",
    "            for j, col in row.items():\n",
    "                current = current_map[i].get(j, '.')\n",
    "                if current == 'L' and not occupied_check_method(current_map, i, j):\n",
    "                    target_map[i][j] = '#'\n",
    "                    changing_spots = True\n",
    "                elif current == '#' and occupied_check_method(current_map, i, j) >= occupied_limit:\n",
    "                    target_map[i][j] = 'L'\n",
    "                    changing_spots = True\n",
    "        current_map = copy.deepcopy(target_map)\n",
    "\n",
    "    count = 0\n",
    "    for row in current_map:\n",
    "        for spot in row.values():\n",
    "            if spot == '#':\n",
    "                count += 1\n",
    "    return count\n",
    "\n",
    "\n",
    "print(f'Answer: {load_passengers(occupied_surrounds_v1)}')"
   ],
   "metadata": {
    "collapsed": false,
    "pycharm": {
     "name": "#%%\n"
    }
   }
  },
  {
   "cell_type": "markdown",
   "source": [
    "### --- Part Two ---"
   ],
   "metadata": {
    "collapsed": false
   }
  },
  {
   "cell_type": "code",
   "execution_count": 2,
   "outputs": [
    {
     "name": "stdout",
     "output_type": "stream",
     "text": [
      "Answer: 2174\n"
     ]
    }
   ],
   "source": [
    "def occupied_surrounds_v2(seat_map, i, j):\n",
    "    occupied_seats = 0\n",
    "    for delta_i in [-1, 0, 1]:\n",
    "        if i + delta_i >= number_of_rows or i + delta_i < 0:\n",
    "            continue\n",
    "        for delta_j in [-1, 0, 1]:\n",
    "            if (delta_i, delta_j) == (0, 0):\n",
    "                continue\n",
    "            next_i = i + delta_i\n",
    "            next_j = j + delta_j\n",
    "            spot = seat_map[next_i].get(next_j, '.')\n",
    "            while spot != 'L':\n",
    "                if spot == '#':\n",
    "                    occupied_seats += 1\n",
    "                    break\n",
    "                next_i += delta_i\n",
    "                next_j += delta_j\n",
    "                if next_i >= number_of_rows or next_i < 0:\n",
    "                    break\n",
    "                spot = seat_map[next_i].get(next_j, 'L')\n",
    "    return occupied_seats\n",
    "\n",
    "\n",
    "print(f'Answer: {load_passengers(occupied_surrounds_v2, 5, report=False)}')"
   ],
   "metadata": {
    "collapsed": false,
    "pycharm": {
     "name": "#%%\n"
    }
   }
  },
  {
   "cell_type": "markdown",
   "source": [
    "PS.: To do this I `wanted to see` the changes to check it out whether it works or not, as the specification, thats why there is the `report` parameter.\n",
    "\n",
    "If you are interested to see it running:"
   ],
   "metadata": {
    "collapsed": false,
    "pycharm": {
     "name": "#%% md\n"
    }
   }
  },
  {
   "cell_type": "code",
   "source": [
    "first_sample = \"\"\"L.LL.LL.LL\n",
    "LLLLLLL.LL\n",
    "L.L.L..L..\n",
    "LLLL.LL.LL\n",
    "L.LL.LL.LL\n",
    "L.LLLLL.LL\n",
    "..L.L.....\n",
    "LLLLLLLLLL\n",
    "L.LLLLLL.L\n",
    "L.LLLLL.LL\"\"\"\n",
    "\n",
    "lines = first_sample.splitlines()\n",
    "number_of_rows = len(lines)\n",
    "number_of_cols = len(lines[0])\n",
    "\n",
    "print(f'Answer: {load_passengers(occupied_surrounds_v1, report=True)}')"
   ],
   "metadata": {
    "collapsed": false,
    "pycharm": {
     "name": "#%%\n"
    }
   },
   "execution_count": 3,
   "outputs": [
    {
     "name": "stdout",
     "output_type": "stream",
     "text": [
      "L.LL.LL.LL\n",
      "LLLLLLL.LL\n",
      "L.L.L..L..\n",
      "LLLL.LL.LL\n",
      "L.LL.LL.LL\n",
      "L.LLLLL.LL\n",
      "..L.L.....\n",
      "LLLLLLLLLL\n",
      "L.LLLLLL.L\n",
      "L.LLLLL.LL\n",
      "\n",
      "#.##.##.##\n",
      "#######.##\n",
      "#.#.#..#..\n",
      "####.##.##\n",
      "#.##.##.##\n",
      "#.#####.##\n",
      "..#.#.....\n",
      "##########\n",
      "#.######.#\n",
      "#.#####.##\n",
      "\n",
      "#.LL.L#.##\n",
      "#LLLLLL.L#\n",
      "L.L.L..L..\n",
      "#LLL.LL.L#\n",
      "#.LL.LL.LL\n",
      "#.LLLL#.##\n",
      "..L.L.....\n",
      "#LLLLLLLL#\n",
      "#.LLLLLL.L\n",
      "#.#LLLL.##\n",
      "\n",
      "#.##.L#.##\n",
      "#L###LL.L#\n",
      "L.#.#..#..\n",
      "#L##.##.L#\n",
      "#.##.LL.LL\n",
      "#.###L#.##\n",
      "..#.#.....\n",
      "#L######L#\n",
      "#.LL###L.L\n",
      "#.#L###.##\n",
      "\n",
      "#.#L.L#.##\n",
      "#LLL#LL.L#\n",
      "L.L.L..#..\n",
      "#LLL.##.L#\n",
      "#.LL.LL.LL\n",
      "#.LL#L#.##\n",
      "..L.L.....\n",
      "#L#LLLL#L#\n",
      "#.LLLLLL.L\n",
      "#.#L#L#.##\n",
      "\n",
      "#.#L.L#.##\n",
      "#LLL#LL.L#\n",
      "L.#.L..#..\n",
      "#L##.##.L#\n",
      "#.#L.LL.LL\n",
      "#.#L#L#.##\n",
      "..L.L.....\n",
      "#L#L##L#L#\n",
      "#.LLLLLL.L\n",
      "#.#L#L#.##\n",
      "\n",
      "Answer: 37\n"
     ]
    }
   ]
  }
 ],
 "metadata": {
  "kernelspec": {
   "display_name": "Python 3",
   "language": "python",
   "name": "python3"
  },
  "language_info": {
   "codemirror_mode": {
    "name": "ipython",
    "version": 2
   },
   "file_extension": ".py",
   "mimetype": "text/x-python",
   "name": "python",
   "nbconvert_exporter": "python",
   "pygments_lexer": "ipython2",
   "version": "2.7.6"
  }
 },
 "nbformat": 4,
 "nbformat_minor": 0
}