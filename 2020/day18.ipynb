{
 "cells": [
  {
   "cell_type": "markdown",
   "metadata": {
    "collapsed": true,
    "pycharm": {
     "name": "#%% md\n"
    }
   },
   "source": [
    "[Day 18](https://adventofcode.com/2020/day/18)\n",
    "\n",
    "### --- Part One ---"
   ]
  },
  {
   "cell_type": "code",
   "execution_count": 1,
   "outputs": [
    {
     "name": "stdout",
     "output_type": "stream",
     "text": [
      "P1(71) 71\n",
      "P1(51) 51\n",
      "P1(26) 26\n",
      "P1(437) 437\n",
      "P1(12240) 12240\n",
      "P1(13632) 13632\n",
      "Answer: 9535936849815\n"
     ]
    }
   ],
   "source": [
    "class P1:\n",
    "    def __init__(self, val): self.val = int(val)\n",
    "    def __add__(self, other): return P1(self.val + other.val)\n",
    "    def __sub__(self, other): return P1(self.val * other.val)\n",
    "    def __repr__(self): return f'P1({self.val})'\n",
    "\n",
    "\n",
    "def part_1(expression: str):\n",
    "    return eval(''.join(f'P1({each})' if each.isnumeric() else each for each in expression.replace('*', '-')))\n",
    "\n",
    "print(part_1('1 + 2 * 3 + 4 * 5 + 6'), 71)\n",
    "print(part_1('1 + (2 * 3) + (4 * (5 + 6))'), 51)\n",
    "print(part_1('2 * 3 + (4 * 5)'), 26)\n",
    "print(part_1('5 + (8 * 3 + 9 + 3 * 4 * 3)'), 437)\n",
    "print(part_1('5 * 9 * (7 * 3 * 3 + 9 * 3 + (8 + 6 * 4))'), 12240)\n",
    "print(part_1('((2 + 4 * 9) * (6 + 9 * 8 + 6) + 6) + 2 + 4 * 2'), 13632)\n",
    "\n",
    "answer_1 = sum([part_1(line).val for line in open('day18.data').read().splitlines()])\n",
    "print(f\"Answer: {answer_1}\")"
   ],
   "metadata": {
    "collapsed": false,
    "pycharm": {
     "name": "#%%\n"
    }
   }
  },
  {
   "cell_type": "markdown",
   "source": [
    "### --- Part Two ---"
   ],
   "metadata": {
    "collapsed": false
   }
  },
  {
   "cell_type": "code",
   "execution_count": 2,
   "outputs": [
    {
     "name": "stdout",
     "output_type": "stream",
     "text": [
      "P2(231) 231\n",
      "P2(51) 51\n",
      "P2(46) 46\n",
      "P2(1445) 1445\n",
      "P2(669060) 669060\n",
      "Answer: 472171581333710\n"
     ]
    }
   ],
   "source": [
    "class P2:\n",
    "    def __init__(self, val): self.val = int(val)\n",
    "    def __sub__(self, other): return P2(self.val * other.val)\n",
    "    def __truediv__(self, other): return P2(self.val + other.val)\n",
    "    def __repr__(self): return f'P2({self.val})'\n",
    "\n",
    "\n",
    "def part_2(expression: str):\n",
    "    return eval(''.join(f'P2({each})' if each.isnumeric() else each\n",
    "                        for each in expression.replace('*', '-').replace('+', '/')))\n",
    "\n",
    "\n",
    "print(part_2('1 + 2 * 3 + 4 * 5 + 6'), 231)\n",
    "print(part_2('1 + (2 * 3) + (4 * (5 + 6))'), 51)\n",
    "print(part_2('2 * 3 + (4 * 5)'), 46)\n",
    "print(part_2('5 + (8 * 3 + 9 + 3 * 4 * 3)'), 1445)\n",
    "print(part_2('5 * 9 * (7 * 3 * 3 + 9 * 3 + (8 + 6 * 4))'), 669060)\n",
    "\n",
    "answer_2 = sum([part_2(line).val for line in open('day18.data').read().splitlines()])\n",
    "print(f\"Answer: {answer_2}\")"
   ],
   "metadata": {
    "collapsed": false,
    "pycharm": {
     "name": "#%%\n"
    }
   }
  }
 ],
 "metadata": {
  "kernelspec": {
   "display_name": "Python 3",
   "language": "python",
   "name": "python3"
  },
  "language_info": {
   "codemirror_mode": {
    "name": "ipython",
    "version": 2
   },
   "file_extension": ".py",
   "mimetype": "text/x-python",
   "name": "python",
   "nbconvert_exporter": "python",
   "pygments_lexer": "ipython2",
   "version": "2.7.6"
  }
 },
 "nbformat": 4,
 "nbformat_minor": 0
}