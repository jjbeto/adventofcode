{
 "cells": [
  {
   "cell_type": "markdown",
   "metadata": {
    "collapsed": true,
    "pycharm": {
     "name": "#%% md\n"
    }
   },
   "source": [
    "[Day 13](https://adventofcode.com/2020/day/13)\n",
    "\n",
    "### --- Part One ---"
   ]
  },
  {
   "cell_type": "code",
   "execution_count": 1,
   "outputs": [
    {
     "name": "stdout",
     "output_type": "stream",
     "text": [
      "Answer: 119\n"
     ]
    }
   ],
   "source": [
    "text = open('day13.data').read()\n",
    "\n",
    "data = text.splitlines()\n",
    "timestamp = int(data[0])\n",
    "buses = [(i, int(each)) for i, each in enumerate(data[1].split(',')) if each != 'x']\n",
    "\n",
    "def part_1():\n",
    "    loop = timestamp\n",
    "    while True:\n",
    "        loop += 1\n",
    "        for _, bus in buses:\n",
    "            if loop % bus == 0:\n",
    "                return (loop - timestamp) * bus\n",
    "\n",
    "print(f'Answer: {part_1()}')"
   ],
   "metadata": {
    "collapsed": false,
    "pycharm": {
     "name": "#%%\n"
    }
   }
  },
  {
   "cell_type": "markdown",
   "source": [
    "### --- Part Two ---"
   ],
   "metadata": {
    "collapsed": false
   }
  },
  {
   "cell_type": "code",
   "execution_count": 2,
   "outputs": [
    {
     "name": "stdout",
     "output_type": "stream",
     "text": [
      "Answer: 1106724616194525\n"
     ]
    }
   ],
   "source": [
    "def part_2():\n",
    "    delta = buses[0][1]\n",
    "    loop = 0\n",
    "    for i, bus in buses[1:]:\n",
    "        while (loop + i) % bus != 0:\n",
    "            loop += delta\n",
    "        delta *= bus\n",
    "    return loop\n",
    "\n",
    "print(f'Answer: {part_2()}')"
   ],
   "metadata": {
    "collapsed": false,
    "pycharm": {
     "name": "#%%\n"
    }
   }
  }
 ],
 "metadata": {
  "kernelspec": {
   "display_name": "Python 3",
   "language": "python",
   "name": "python3"
  },
  "language_info": {
   "codemirror_mode": {
    "name": "ipython",
    "version": 2
   },
   "file_extension": ".py",
   "mimetype": "text/x-python",
   "name": "python",
   "nbconvert_exporter": "python",
   "pygments_lexer": "ipython2",
   "version": "2.7.6"
  }
 },
 "nbformat": 4,
 "nbformat_minor": 0
}