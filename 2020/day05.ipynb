{
 "cells": [
  {
   "cell_type": "markdown",
   "metadata": {
    "collapsed": true,
    "pycharm": {
     "name": "#%% md\n"
    }
   },
   "source": [
    "[Day 05](https://adventofcode.com/2020/day/5)\n",
    "\n",
    "### --- Part One ---"
   ]
  },
  {
   "cell_type": "code",
   "execution_count": 1,
   "outputs": [
    {
     "name": "stdout",
     "output_type": "stream",
     "text": [
      "Answer: 959\n"
     ]
    }
   ],
   "source": [
    "def calculate(ticket, pos: range):\n",
    "    for each in ticket:\n",
    "        half = int((pos.stop + 1 - pos.start) / 2)\n",
    "        pos = range(pos.start, pos.stop - half) if each in ['F', 'L'] else range(pos.start + half, pos.stop)\n",
    "    return pos.stop\n",
    "\n",
    "def seat_id(ticket):\n",
    "    row = calculate(ticket[:7], range(127))\n",
    "    col = calculate(ticket[7:], range(7))\n",
    "    return row * 8 + col\n",
    "\n",
    "def highest_seat_id(tickets):\n",
    "    highest_row = sorted(set([ticket[:7] for ticket in tickets]))[0]\n",
    "    highest_row_col = sorted([ticket for ticket in tickets if ticket.startswith(highest_row)], reverse=True)[0]\n",
    "    return seat_id(highest_row_col)\n",
    "\n",
    "lines = open('day05.data').read().splitlines()\n",
    "\n",
    "print(f'Answer: {highest_seat_id(lines)}')"
   ],
   "metadata": {
    "collapsed": false,
    "pycharm": {
     "name": "#%%\n"
    }
   }
  },
  {
   "cell_type": "markdown",
   "source": [
    "Then.. I was talking to some colleagues and they actually had a way better approach to calculate `seat id`!\n",
    "\n",
    "Translating to Python 🔥"
   ],
   "metadata": {
    "collapsed": false,
    "pycharm": {
     "name": "#%% md\n"
    }
   }
  },
  {
   "cell_type": "code",
   "execution_count": 2,
   "outputs": [
    {
     "data": {
      "text/plain": "357"
     },
     "execution_count": 2,
     "metadata": {},
     "output_type": "execute_result"
    }
   ],
   "source": [
    "translation = { 'F': '0', 'B': '1', 'L': '0', 'R': '1'}\n",
    "\n",
    "def seat_id_v2(ticket): return int(''.join([translation[letter] for letter in ticket]), 2)\n",
    "\n",
    "seat_id_v2('FBFBBFFRLR')"
   ],
   "metadata": {
    "collapsed": false,
    "pycharm": {
     "name": "#%%\n"
    }
   }
  },
  {
   "cell_type": "markdown",
   "source": [
    "### --- Part Two ---"
   ],
   "metadata": {
    "collapsed": false
   }
  },
  {
   "cell_type": "code",
   "execution_count": 3,
   "outputs": [
    {
     "name": "stdout",
     "output_type": "stream",
     "text": [
      "Answer: 527\n"
     ]
    }
   ],
   "source": [
    "def my_seat(tickets):\n",
    "    previous = None\n",
    "    for seat in sorted([seat_id(ticket) for ticket in tickets]):\n",
    "        current = seat\n",
    "        if not previous:\n",
    "            previous = current\n",
    "        if current - 2 == previous:\n",
    "            return current - 1\n",
    "        previous = current\n",
    "    return -1\n",
    "\n",
    "print(f'Answer: {my_seat(lines)}')"
   ],
   "metadata": {
    "collapsed": false,
    "pycharm": {
     "name": "#%%\n"
    }
   }
  },
  {
   "cell_type": "markdown",
   "source": [
    "Then again 😂.. There is a [magical](https://www.quora.com/What-is-the-summation-of-consecutive-numbers-not-starting-from-one) way to calculate it in linear way 🚀:\n",
    "\n",
    "Translating to Python 🔥"
   ],
   "metadata": {
    "collapsed": false
   }
  },
  {
   "cell_type": "code",
   "source": [
    "def my_seat_v2(tickets):\n",
    "    seats = ([seat_id(ticket) for ticket in tickets])\n",
    "    m, n = min(seats), max(seats)\n",
    "    return (m + n) * (n - m + 1) / 2 - sum(seats)\n",
    "\n",
    "print(f'Answer: {my_seat_v2(lines)}')"
   ],
   "metadata": {
    "collapsed": false,
    "pycharm": {
     "name": "#%%\n"
    }
   },
   "execution_count": 4,
   "outputs": [
    {
     "name": "stdout",
     "output_type": "stream",
     "text": [
      "Answer: 527.0\n"
     ]
    }
   ]
  },
  {
   "cell_type": "markdown",
   "source": [
    "Thanks [cmears](https://gitlab.com/cmears) and [GoossensMichael](https://github.com/GoossensMichael)."
   ],
   "metadata": {
    "collapsed": false,
    "pycharm": {
     "name": "#%% md\n"
    }
   }
  }
 ],
 "metadata": {
  "kernelspec": {
   "display_name": "Python 3",
   "language": "python",
   "name": "python3"
  },
  "language_info": {
   "codemirror_mode": {
    "name": "ipython",
    "version": 2
   },
   "file_extension": ".py",
   "mimetype": "text/x-python",
   "name": "python",
   "nbconvert_exporter": "python",
   "pygments_lexer": "ipython2",
   "version": "2.7.6"
  }
 },
 "nbformat": 4,
 "nbformat_minor": 0
}