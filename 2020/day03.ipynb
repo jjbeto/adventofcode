{
 "cells": [
  {
   "cell_type": "markdown",
   "metadata": {
    "collapsed": true,
    "pycharm": {
     "name": "#%% md\n"
    }
   },
   "source": [
    "[Day 03](https://adventofcode.com/2020/day/3)\n",
    "\n",
    "### --- Part One ---"
   ]
  },
  {
   "cell_type": "code",
   "execution_count": 1,
   "outputs": [
    {
     "name": "stdout",
     "output_type": "stream",
     "text": [
      "Answer: 268\n"
     ]
    }
   ],
   "source": [
    "lines = open('day03.data').read().splitlines()\n",
    "columns = len(lines[0])\n",
    "\n",
    "\n",
    "def search(col_delta, row_delta):\n",
    "    counter = 0\n",
    "    col = 0\n",
    "    row = 0\n",
    "    while row < len(lines):\n",
    "        if lines[row][col] == '#':\n",
    "            counter += 1\n",
    "        row += row_delta\n",
    "        col = (col + col_delta) % columns\n",
    "    return counter\n",
    "\n",
    "\n",
    "print(f'Answer: {search(3, 1)}')"
   ],
   "metadata": {
    "collapsed": false,
    "pycharm": {
     "name": "#%%\n"
    }
   }
  },
  {
   "cell_type": "markdown",
   "source": [
    "### --- Part Two ---"
   ],
   "metadata": {
    "collapsed": false
   }
  },
  {
   "cell_type": "code",
   "execution_count": 2,
   "outputs": [
    {
     "name": "stdout",
     "output_type": "stream",
     "text": [
      "Answer: 3093068400\n"
     ]
    }
   ],
   "source": [
    "print(f'Answer: {search(1, 1) * search(3, 1) * search(5, 1) * search(7, 1) * search(1, 2)}')"
   ],
   "metadata": {
    "collapsed": false,
    "pycharm": {
     "name": "#%%\n"
    }
   }
  },
  {
   "cell_type": "markdown",
   "source": [
    "An alternative solution to search by [cmears](https://gitlab.com/cmears) 🚀:\n",
    "\n",
    "Translating to Python 🔥"
   ],
   "metadata": {
    "collapsed": false
   }
  },
  {
   "cell_type": "code",
   "execution_count": 3,
   "outputs": [
    {
     "name": "stdout",
     "output_type": "stream",
     "text": [
      "Answer: 268\n"
     ]
    }
   ],
   "source": [
    "trees = [[(col, row) for col, char in enumerate(line) if char == '#'] for row, line in enumerate(lines)]\n",
    "trees = [item for sublist in trees for item in sublist]\n",
    "\n",
    "def search_v2(col, row): return [((col + index * col) % columns, index + row) for index in range(0, len(lines), row)]\n",
    "\n",
    "path = search_v2(3, 1)\n",
    "matches = [tup for tup in path if tup in trees]\n",
    "\n",
    "print(f'Answer: {len(matches)}')"
   ],
   "metadata": {
    "collapsed": false,
    "pycharm": {
     "name": "#%%\n"
    }
   }
  }
 ],
 "metadata": {
  "kernelspec": {
   "display_name": "Python 3",
   "language": "python",
   "name": "python3"
  },
  "language_info": {
   "codemirror_mode": {
    "name": "ipython",
    "version": 2
   },
   "file_extension": ".py",
   "mimetype": "text/x-python",
   "name": "python",
   "nbconvert_exporter": "python",
   "pygments_lexer": "ipython2",
   "version": "2.7.6"
  }
 },
 "nbformat": 4,
 "nbformat_minor": 0
}