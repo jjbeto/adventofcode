{
 "cells": [
  {
   "cell_type": "markdown",
   "metadata": {
    "collapsed": true,
    "pycharm": {
     "name": "#%% md\n"
    }
   },
   "source": [
    "[Day 14](https://adventofcode.com/2020/day/14)\n",
    "\n",
    "### --- Part One ---"
   ]
  },
  {
   "cell_type": "code",
   "execution_count": 1,
   "outputs": [
    {
     "name": "stdout",
     "output_type": "stream",
     "text": [
      "Answer: 5902420735773\n"
     ]
    }
   ],
   "source": [
    "from collections import defaultdict\n",
    "\n",
    "lines = open('day14.data').read().splitlines()\n",
    "\n",
    "def part_1():\n",
    "    memory = defaultdict(int)\n",
    "    for line in lines:\n",
    "        command = line.split(' = ')\n",
    "        if command[0] == 'mask':\n",
    "            mask = command[1]\n",
    "            continue\n",
    "\n",
    "        value = bin(int(command[1])).replace(\"0b\", \"\").zfill(len(mask))  # convert to binary and fill zeros\n",
    "        value_masked = ''.join([bitmask if bitmask != 'X' else value[i] for i, bitmask in enumerate(mask)])\n",
    "\n",
    "        address = int(command[0][command[0].find('[') + 1:command[0].find(']')])\n",
    "        memory[address] = int(value_masked, 2)\n",
    "    return sum(memory.values())\n",
    "\n",
    "print(f'Answer: {part_1()}')"
   ],
   "metadata": {
    "collapsed": false,
    "pycharm": {
     "name": "#%%\n"
    }
   }
  },
  {
   "cell_type": "markdown",
   "source": [
    "### --- Part Two ---"
   ],
   "metadata": {
    "collapsed": false
   }
  },
  {
   "cell_type": "code",
   "execution_count": 2,
   "outputs": [
    {
     "name": "stdout",
     "output_type": "stream",
     "text": [
      "Answer: 3801988250775\n"
     ]
    }
   ],
   "source": [
    "from itertools import product\n",
    "\n",
    "def part_2():\n",
    "    memory = defaultdict(int)\n",
    "    for line in lines:\n",
    "        command = line.split(' = ')\n",
    "        if command[0] == 'mask':\n",
    "            mask = command[1]\n",
    "            continue\n",
    "\n",
    "        address = int(command[0][command[0].find('[') + 1:command[0].find(']')])\n",
    "        address = bin(int(address)).replace(\"0b\", \"\").zfill(len(mask))  # convert to binary and fill zeros\n",
    "        address_masked = ''.join([address[i] if bitmask == '0' else '{}' if bitmask == 'X' else bitmask\n",
    "                                  for i, bitmask in enumerate(mask)])\n",
    "\n",
    "        value = int(command[1])\n",
    "        for _address in [address_masked.format(*arrange) for arrange in list(product([0, 1], repeat=mask.count('X')))]:\n",
    "            memory[int(_address, 2)] = value\n",
    "    return sum(memory.values())\n",
    "\n",
    "print(f'Answer: {part_2()}')"
   ],
   "metadata": {
    "collapsed": false,
    "pycharm": {
     "name": "#%%\n"
    }
   }
  }
 ],
 "metadata": {
  "kernelspec": {
   "display_name": "Python 3",
   "language": "python",
   "name": "python3"
  },
  "language_info": {
   "codemirror_mode": {
    "name": "ipython",
    "version": 2
   },
   "file_extension": ".py",
   "mimetype": "text/x-python",
   "name": "python",
   "nbconvert_exporter": "python",
   "pygments_lexer": "ipython2",
   "version": "2.7.6"
  }
 },
 "nbformat": 4,
 "nbformat_minor": 0
}