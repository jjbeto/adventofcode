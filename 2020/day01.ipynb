{
 "cells": [
  {
   "cell_type": "markdown",
   "metadata": {
    "collapsed": true,
    "pycharm": {
     "name": "#%% md\n"
    }
   },
   "source": [
    "[Day 01](https://adventofcode.com/2020/day/1)\n",
    "\n",
    "### --- Part One ---"
   ]
  },
  {
   "cell_type": "code",
   "source": [
    "data = open('day01.data')\n",
    "numbers = list([int(n) for n in data.read().splitlines()])\n",
    "numbers.sort()\n",
    "\n",
    "\n",
    "def find_2_sum_2020():\n",
    "    for a in range(len(numbers) - 1):\n",
    "        for b in range(a + 1, len(numbers)):\n",
    "            if numbers[a] + numbers[b] == 2020:\n",
    "                return numbers[a], numbers[b]\n",
    "    return None, None\n",
    "\n",
    "x, y = find_2_sum_2020()\n",
    "print(f'tuple: {x}, {y}')\n",
    "\n",
    "result_x_y = x * y\n",
    "print(f'Answer: {result_x_y}')"
   ],
   "metadata": {
    "collapsed": false,
    "pycharm": {
     "name": "#%%\n"
    }
   },
   "execution_count": 6,
   "outputs": [
    {
     "name": "stdout",
     "output_type": "stream",
     "text": [
      "tuple: 388, 1632\n",
      "Answer: 633216\n"
     ]
    }
   ]
  },
  {
   "cell_type": "markdown",
   "source": [
    "### --- Part Two ---"
   ],
   "metadata": {
    "collapsed": false
   }
  },
  {
   "cell_type": "code",
   "execution_count": 7,
   "outputs": [
    {
     "name": "stdout",
     "output_type": "stream",
     "text": [
      "tuple: 196, 217, 1607\n",
      "Answer: 68348924\n"
     ]
    }
   ],
   "source": [
    "\n",
    "def find_3_sum_2020():\n",
    "    for a in range(len(numbers) - 2):\n",
    "        for b in range(a + 1, len(numbers) - 1):\n",
    "            for c in range(b + 1, len(numbers)):\n",
    "                if numbers[a] + numbers[b] + numbers[c] == 2020:\n",
    "                    return numbers[a], numbers[b], numbers[c]\n",
    "    return None, None, None\n",
    "\n",
    "x, y, z = find_3_sum_2020()\n",
    "print(f'tuple: {x}, {y}, {z}')\n",
    "\n",
    "result_x_y_z = x * y * z\n",
    "print(f'Answer: {result_x_y_z}')"
   ],
   "metadata": {
    "collapsed": false,
    "pycharm": {
     "name": "#%%\n"
    }
   }
  }
 ],
 "metadata": {
  "kernelspec": {
   "display_name": "Python 3",
   "language": "python",
   "name": "python3"
  },
  "language_info": {
   "codemirror_mode": {
    "name": "ipython",
    "version": 2
   },
   "file_extension": ".py",
   "mimetype": "text/x-python",
   "name": "python",
   "nbconvert_exporter": "python",
   "pygments_lexer": "ipython2",
   "version": "2.7.6"
  }
 },
 "nbformat": 4,
 "nbformat_minor": 0
}