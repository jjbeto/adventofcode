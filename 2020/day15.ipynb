{
 "cells": [
  {
   "cell_type": "markdown",
   "metadata": {
    "collapsed": true,
    "pycharm": {
     "name": "#%% md\n"
    }
   },
   "source": [
    "[Day 15](https://adventofcode.com/2020/day/15)\n",
    "\n",
    "### --- Part One ---"
   ]
  },
  {
   "cell_type": "code",
   "execution_count": 1,
   "outputs": [
    {
     "name": "stdout",
     "output_type": "stream",
     "text": [
      "Answer: 319\n"
     ]
    }
   ],
   "source": [
    "def game(numbers, position):\n",
    "    memory = {n: i + 1 for i, n in enumerate(numbers)}\n",
    "    spoken = numbers[-1]\n",
    "    turn = len(numbers)\n",
    "\n",
    "    while turn < position:\n",
    "        previous = memory.get(spoken)\n",
    "        memory[spoken] = turn\n",
    "        spoken = turn - previous if previous else 0\n",
    "        turn += 1\n",
    "    return spoken\n",
    "\n",
    "start_numbers = [13, 16, 0, 12, 15, 1]\n",
    "\n",
    "print(f\"Answer: {game(start_numbers, 2020)}\")"
   ],
   "metadata": {
    "collapsed": false,
    "pycharm": {
     "name": "#%%\n"
    }
   }
  },
  {
   "cell_type": "markdown",
   "source": [
    "### --- Part Two ---"
   ],
   "metadata": {
    "collapsed": false
   }
  },
  {
   "cell_type": "code",
   "execution_count": 2,
   "outputs": [
    {
     "name": "stdout",
     "output_type": "stream",
     "text": [
      "Answer: 2424\n"
     ]
    }
   ],
   "source": [
    "print(f\"Answer: {game(start_numbers, 30_000_000)}\")"
   ],
   "metadata": {
    "collapsed": false,
    "pycharm": {
     "name": "#%%\n"
    }
   }
  }
 ],
 "metadata": {
  "kernelspec": {
   "display_name": "Python 3",
   "language": "python",
   "name": "python3"
  },
  "language_info": {
   "codemirror_mode": {
    "name": "ipython",
    "version": 2
   },
   "file_extension": ".py",
   "mimetype": "text/x-python",
   "name": "python",
   "nbconvert_exporter": "python",
   "pygments_lexer": "ipython2",
   "version": "2.7.6"
  }
 },
 "nbformat": 4,
 "nbformat_minor": 0
}