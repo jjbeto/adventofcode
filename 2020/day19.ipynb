{
 "cells": [
  {
   "cell_type": "markdown",
   "metadata": {
    "collapsed": true,
    "pycharm": {
     "name": "#%% md\n"
    }
   },
   "source": [
    "[Day 19](https://adventofcode.com/2020/day/19)\n",
    "\n",
    "### --- Part One ---"
   ]
  },
  {
   "cell_type": "code",
   "execution_count": 1,
   "outputs": [
    {
     "name": "stdout",
     "output_type": "stream",
     "text": [
      "Answer: 156\n"
     ]
    }
   ],
   "source": [
    "import regex\n",
    "\n",
    "\n",
    "class Solution:\n",
    "\n",
    "    def __init__(self, input_text):\n",
    "        _rules = input_text.split('\\n\\n')[0]\n",
    "        self.rules = sorted([(int(_r.split(': ')[0]), _r.split(': ')[1].replace('\"', ''))\n",
    "                             for _r in _rules.splitlines()], key=lambda e: e[0])\n",
    "        self.messages = input_text.split('\\n\\n')[1].split('\\n')\n",
    "        _regex = str(self.load_raw(0)) \\\n",
    "            .replace('\\'', '') \\\n",
    "            .replace('[', '(') \\\n",
    "            .replace(']', ')') \\\n",
    "            .replace(', ', '') \\\n",
    "            .replace('\"', '')\n",
    "        self.matcher = regex.compile(f'^{_regex}$')\n",
    "\n",
    "    def load_raw(self, i):\n",
    "        rule = next(_r for _r in self.rules if _r[0] == i)[1].split(' ')\n",
    "        raw = []\n",
    "        for _i, each in enumerate(rule):\n",
    "            if each.isdigit() and each != f'{i}':\n",
    "                raw.append(self.load_raw(int(each)))\n",
    "            # (!) next `if` solves part2\n",
    "            elif each == f'{i}':\n",
    "                if each == '8':\n",
    "                    raw.append([self.load_raw(42), '+'])\n",
    "                elif each == '11':\n",
    "                    left, right = self.load_raw(42), self.load_raw(31)\n",
    "                    raw.append(f'(?P<hacky>{left}(?P>hacky)?{right})')\n",
    "            else:\n",
    "                raw.append(each)\n",
    "        # raw = list([self.load_raw(int(each)) if each.isdigit() else each for each in rule])\n",
    "        return f\"({''.join(raw)})\" if all(isinstance(item, str) and len(item) == 1 for item in raw) else raw\n",
    "\n",
    "    def count(self):\n",
    "        return sum([1 if self.matcher.match(message) else 0 for message in self.messages])\n",
    "\n",
    "print(f\"Answer: {Solution(open('day19_1.data').read()).count()}\")"
   ],
   "metadata": {
    "collapsed": false,
    "pycharm": {
     "name": "#%%\n"
    }
   }
  },
  {
   "cell_type": "markdown",
   "source": [
    "### --- Part Two ---"
   ],
   "metadata": {
    "collapsed": false
   }
  },
  {
   "cell_type": "code",
   "execution_count": 2,
   "outputs": [
    {
     "name": "stdout",
     "output_type": "stream",
     "text": [
      "Test: 12\n",
      "Answer: 363\n"
     ]
    }
   ],
   "source": [
    "sample_p2 = '''42: 9 14 | 10 1\n",
    "9: 14 27 | 1 26\n",
    "10: 23 14 | 28 1\n",
    "1: \"a\"\n",
    "11: 42 31 | 42 11 31\n",
    "5: 1 14 | 15 1\n",
    "19: 14 1 | 14 14\n",
    "12: 24 14 | 19 1\n",
    "16: 15 1 | 14 14\n",
    "31: 14 17 | 1 13\n",
    "6: 14 14 | 1 14\n",
    "2: 1 24 | 14 4\n",
    "0: 8 11\n",
    "13: 14 3 | 1 12\n",
    "15: 1 | 14\n",
    "17: 14 2 | 1 7\n",
    "23: 25 1 | 22 14\n",
    "28: 16 1\n",
    "4: 1 1\n",
    "20: 14 14 | 1 15\n",
    "3: 5 14 | 16 1\n",
    "27: 1 6 | 14 18\n",
    "14: \"b\"\n",
    "21: 14 1 | 1 14\n",
    "25: 1 1 | 1 14\n",
    "22: 14 14\n",
    "8: 42 | 42 8\n",
    "26: 14 22 | 1 20\n",
    "18: 15 15\n",
    "7: 14 5 | 1 21\n",
    "24: 14 1\n",
    "\n",
    "abbbbbabbbaaaababbaabbbbabababbbabbbbbbabaaaa\n",
    "bbabbbbaabaabba\n",
    "babbbbaabbbbbabbbbbbaabaaabaaa\n",
    "aaabbbbbbaaaabaababaabababbabaaabbababababaaa\n",
    "bbbbbbbaaaabbbbaaabbabaaa\n",
    "bbbababbbbaaaaaaaabbababaaababaabab\n",
    "ababaaaaaabaaab\n",
    "ababaaaaabbbaba\n",
    "baabbaaaabbaaaababbaababb\n",
    "abbbbabbbbaaaababbbbbbaaaababb\n",
    "aaaaabbaabaaaaababaa\n",
    "aaaabbaaaabbaaa\n",
    "aaaabbaabbaaaaaaabbbabbbaaabbaabaaa\n",
    "babaaabbbaaabaababbaabababaaab\n",
    "aabbbbbaabbbaaaaaabbbbbababaaaaabbaaabba'''\n",
    "\n",
    "print('Test:', Solution(sample_p2).count())\n",
    "\n",
    "print(f\"Answer: {Solution(open('day19_2.data').read()).count()}\")"
   ],
   "metadata": {
    "collapsed": false,
    "pycharm": {
     "name": "#%%\n"
    }
   }
  }
 ],
 "metadata": {
  "kernelspec": {
   "display_name": "Python 3",
   "language": "python",
   "name": "python3"
  },
  "language_info": {
   "codemirror_mode": {
    "name": "ipython",
    "version": 2
   },
   "file_extension": ".py",
   "mimetype": "text/x-python",
   "name": "python",
   "nbconvert_exporter": "python",
   "pygments_lexer": "ipython2",
   "version": "2.7.6"
  }
 },
 "nbformat": 4,
 "nbformat_minor": 0
}