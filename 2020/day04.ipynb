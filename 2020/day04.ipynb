{
 "cells": [
  {
   "cell_type": "markdown",
   "metadata": {
    "collapsed": true,
    "pycharm": {
     "name": "#%% md\n"
    }
   },
   "source": [
    "[Day 04](https://adventofcode.com/2020/day/4)\n",
    "\n",
    "### --- Part One ---"
   ]
  },
  {
   "cell_type": "code",
   "execution_count": 2,
   "outputs": [
    {
     "name": "stdout",
     "output_type": "stream",
     "text": [
      "Answer: 170\n"
     ]
    }
   ],
   "source": [
    "lines = open('day04.data').read().split('\\n\\n')\n",
    "\n",
    "passports = []\n",
    "for line in lines:\n",
    "    data = {}\n",
    "    for pair in [raw.split(':') for raw in line.replace('\\n', ' ').split(' ') if raw]:\n",
    "        data[pair[0]] = pair[1]\n",
    "    passports.append(data)\n",
    "\n",
    "required = ['byr', 'iyr', 'eyr', 'hgt', 'hcl', 'ecl', 'pid']\n",
    "with_required = [each for each in passports if all(item in each.keys() for item in required)]\n",
    "\n",
    "print(f'Answer: {len(with_required)}')"
   ],
   "metadata": {
    "collapsed": false,
    "pycharm": {
     "name": "#%%\n"
    }
   }
  },
  {
   "cell_type": "markdown",
   "source": [
    "### --- Part Two ---"
   ],
   "metadata": {
    "collapsed": false
   }
  },
  {
   "cell_type": "code",
   "execution_count": 3,
   "outputs": [
    {
     "name": "stdout",
     "output_type": "stream",
     "text": [
      "Answer: 103\n"
     ]
    }
   ],
   "source": [
    "import re\n",
    "\n",
    "hgt = re.compile(r\"^([1]([5-8][0-9]|[9][0-3])cm)$|^(([5][9]|[7][0-6]|[6][0-9])in)$\")\n",
    "hcl = re.compile(r\"^#[0-9a-f]{6}$\")\n",
    "\n",
    "\n",
    "def valid_byr(raw: str): return raw.isnumeric() and 1920 <= int(raw) <= 2002\n",
    "def valid_iyr(raw: str): return raw.isnumeric() and 2010 <= int(raw) <= 2020\n",
    "def valid_eyr(raw: str): return raw.isnumeric() and 2020 <= int(raw) <= 2030\n",
    "def valid_hgt(raw: str): return True if hgt.match(raw) else False\n",
    "def valid_hcl(raw: str): return True if hcl.match(raw) else False\n",
    "def valid_ecl(raw: str): return True if raw in ['amb', 'blu', 'brn', 'gry', 'grn', 'hzl', 'oth'] else False\n",
    "def valid_pid(raw: str): return raw.isnumeric() and len(raw) == 9\n",
    "\n",
    "\n",
    "valid = [each for each in with_required\n",
    "         if valid_byr(each['byr'])\n",
    "         and valid_iyr(each['iyr'])\n",
    "         and valid_eyr(each['eyr'])\n",
    "         and valid_hgt(each['hgt'])\n",
    "         and valid_hcl(each['hcl'])\n",
    "         and valid_ecl(each['ecl'])\n",
    "         and valid_pid(each['pid'])]\n",
    "\n",
    "print(f'Answer: {len(valid)}')"
   ],
   "metadata": {
    "collapsed": false,
    "pycharm": {
     "name": "#%%\n"
    }
   }
  }
 ],
 "metadata": {
  "kernelspec": {
   "display_name": "Python 3",
   "language": "python",
   "name": "python3"
  },
  "language_info": {
   "codemirror_mode": {
    "name": "ipython",
    "version": 2
   },
   "file_extension": ".py",
   "mimetype": "text/x-python",
   "name": "python",
   "nbconvert_exporter": "python",
   "pygments_lexer": "ipython2",
   "version": "2.7.6"
  }
 },
 "nbformat": 4,
 "nbformat_minor": 0
}