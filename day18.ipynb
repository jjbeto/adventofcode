{
 "cells": [
  {
   "cell_type": "markdown",
   "metadata": {
    "collapsed": true,
    "pycharm": {
     "name": "#%% md\n"
    }
   },
   "source": [
    "### Day 18: Operation Order\n",
    "\n",
    "### --- Part One ---\n",
    "As you look out the window and notice a heavily-forested continent slowly appear over the horizon, you are interrupted by the child sitting next to you. They're curious if you could help them with their math homework.\n",
    "\n",
    "Unfortunately, it seems like this \"math\" follows different rules than you remember.\n",
    "\n",
    "The homework (your puzzle input) consists of a series of expressions that consist of addition (`+`), multiplication (`*`), and parentheses (`(...)`). Just like normal math, parentheses indicate that the expression inside must be evaluated before it can be used by the surrounding expression. Addition still finds the sum of the numbers on both sides of the operator, and multiplication still finds the product.\n",
    "\n",
    "However, the rules of **operator precedence** have changed. Rather than evaluating multiplication before addition, the operators have the **same precedence**, and are evaluated left-to-right regardless of the order in which they appear.\n",
    "\n",
    "For example, the steps to evaluate the expression `1 + 2 * 3 + 4 * 5 + 6` are as follows:\n",
    "\n",
    "```\n",
    "1 + 2 * 3 + 4 * 5 + 6\n",
    "  3   * 3 + 4 * 5 + 6\n",
    "      9   + 4 * 5 + 6\n",
    "         13   * 5 + 6\n",
    "             65   + 6\n",
    "                 71\n",
    "```\n",
    "\n",
    "Parentheses can override this order; for example, here is what happens if parentheses are added to form `1 + (2 * 3) + (4 * (5 + 6))`:\n",
    "\n",
    "```\n",
    "1 + (2 * 3) + (4 * (5 + 6))\n",
    "1 +    6    + (4 * (5 + 6))\n",
    "     7      + (4 * (5 + 6))\n",
    "     7      + (4 *   11   )\n",
    "     7      +     44\n",
    "            51\n",
    "```\n",
    "\n",
    "Here are a few more examples:\n",
    "\n",
    "- `2 * 3 + (4 * 5)` becomes **26**.\n",
    "- `5 + (8 * 3 + 9 + 3 * 4 * 3)` becomes **437**.\n",
    "- `5 * 9 * (7 * 3 * 3 + 9 * 3 + (8 + 6 * 4))` becomes **12240**.\n",
    "- `((2 + 4 * 9) * (6 + 9 * 8 + 6) + 6) + 2 + 4 * 2` becomes **13632**.\n",
    "\n",
    "Before you can help with the homework, you need to understand it yourself. **Evaluate the expression on each line of the homework; what is the sum of the resulting values?**\n"
   ]
  },
  {
   "cell_type": "code",
   "execution_count": 1,
   "outputs": [
    {
     "name": "stdout",
     "output_type": "stream",
     "text": [
      "P1(71) 71\n",
      "P1(51) 51\n",
      "P1(26) 26\n",
      "P1(437) 437\n",
      "P1(12240) 12240\n",
      "P1(13632) 13632\n",
      "Answer: 9535936849815\n"
     ]
    }
   ],
   "source": [
    "class P1:\n",
    "    def __init__(self, val): self.val = int(val)\n",
    "    def __add__(self, other): return P1(self.val + other.val)\n",
    "    def __sub__(self, other): return P1(self.val * other.val)\n",
    "    def __repr__(self): return f'P1({self.val})'\n",
    "\n",
    "\n",
    "def part_1(expression: str):\n",
    "    return eval(''.join(f'P1({each})' if each.isnumeric() else each for each in expression.replace('*', '-')))\n",
    "\n",
    "print(part_1('1 + 2 * 3 + 4 * 5 + 6'), 71)\n",
    "print(part_1('1 + (2 * 3) + (4 * (5 + 6))'), 51)\n",
    "print(part_1('2 * 3 + (4 * 5)'), 26)\n",
    "print(part_1('5 + (8 * 3 + 9 + 3 * 4 * 3)'), 437)\n",
    "print(part_1('5 * 9 * (7 * 3 * 3 + 9 * 3 + (8 + 6 * 4))'), 12240)\n",
    "print(part_1('((2 + 4 * 9) * (6 + 9 * 8 + 6) + 6) + 2 + 4 * 2'), 13632)\n",
    "\n",
    "answer_1 = sum([part_1(line).val for line in open('day18.data').read().splitlines()])\n",
    "print(f\"Answer: {answer_1}\")"
   ],
   "metadata": {
    "collapsed": false,
    "pycharm": {
     "name": "#%%\n"
    }
   }
  },
  {
   "cell_type": "markdown",
   "source": [
    "### --- Part Two ---\n",
    "\n",
    "You manage to answer the child's questions and they finish part 1 of their homework, but get stuck when they reach the next section: **advanced** math.\n",
    "\n",
    "Now, addition and multiplication have **different** precedence levels, but they're not the ones you're familiar with. Instead, addition is evaluated **before** multiplication.\n",
    "\n",
    "For example, the steps to evaluate the expression `1 + 2 * 3 + 4 * 5 + 6` are now as follows:\n",
    "\n",
    "```\n",
    "1 + 2 * 3 + 4 * 5 + 6\n",
    "  3   * 3 + 4 * 5 + 6\n",
    "  3   *   7   * 5 + 6\n",
    "  3   *   7   *  11\n",
    "     21       *  11\n",
    "         231\n",
    "```\n",
    "\n",
    "Here are the other examples from above:\n",
    "\n",
    "- `1 + (2 * 3) + (4 * (5 + 6))` still becomes **51**.\n",
    "- `2 * 3 + (4 * 5)` becomes **46**.\n",
    "- `5 + (8 * 3 + 9 + 3 * 4 * 3)` becomes **1445**.\n",
    "- `5 * 9 * (7 * 3 * 3 + 9 * 3 + (8 + 6 * 4))` becomes **669060**.\n",
    "- `((2 + 4 * 9) * (6 + 9 * 8 + 6) + 6) + 2 + 4 * 2` becomes **23340**.\n",
    "\n",
    "**What do you get if you add up the results of evaluating the homework problems using these new rules?**"
   ],
   "metadata": {
    "collapsed": false
   }
  },
  {
   "cell_type": "code",
   "execution_count": 2,
   "outputs": [
    {
     "name": "stdout",
     "output_type": "stream",
     "text": [
      "P2(231) 231\n",
      "P2(51) 51\n",
      "P2(46) 46\n",
      "P2(1445) 1445\n",
      "P2(669060) 669060\n",
      "Answer: 472171581333710\n"
     ]
    }
   ],
   "source": [
    "class P2:\n",
    "    def __init__(self, val): self.val = int(val)\n",
    "    def __sub__(self, other): return P2(self.val * other.val)\n",
    "    def __truediv__(self, other): return P2(self.val + other.val)\n",
    "    def __repr__(self): return f'P2({self.val})'\n",
    "\n",
    "\n",
    "def part_2(expression: str):\n",
    "    return eval(''.join(f'P2({each})' if each.isnumeric() else each\n",
    "                        for each in expression.replace('*', '-').replace('+', '/')))\n",
    "\n",
    "\n",
    "print(part_2('1 + 2 * 3 + 4 * 5 + 6'), 231)\n",
    "print(part_2('1 + (2 * 3) + (4 * (5 + 6))'), 51)\n",
    "print(part_2('2 * 3 + (4 * 5)'), 46)\n",
    "print(part_2('5 + (8 * 3 + 9 + 3 * 4 * 3)'), 1445)\n",
    "print(part_2('5 * 9 * (7 * 3 * 3 + 9 * 3 + (8 + 6 * 4))'), 669060)\n",
    "\n",
    "answer_2 = sum([part_2(line).val for line in open('day18.data').read().splitlines()])\n",
    "print(f\"Answer: {answer_2}\")"
   ],
   "metadata": {
    "collapsed": false,
    "pycharm": {
     "name": "#%%\n"
    }
   }
  }
 ],
 "metadata": {
  "kernelspec": {
   "display_name": "Python 3",
   "language": "python",
   "name": "python3"
  },
  "language_info": {
   "codemirror_mode": {
    "name": "ipython",
    "version": 2
   },
   "file_extension": ".py",
   "mimetype": "text/x-python",
   "name": "python",
   "nbconvert_exporter": "python",
   "pygments_lexer": "ipython2",
   "version": "2.7.6"
  }
 },
 "nbformat": 4,
 "nbformat_minor": 0
}