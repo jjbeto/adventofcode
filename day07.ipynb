{
 "cells": [
  {
   "cell_type": "markdown",
   "metadata": {
    "collapsed": true,
    "pycharm": {
     "name": "#%% md\n"
    }
   },
   "source": [
    "[Day 07](https://adventofcode.com/2020/day/7)\n",
    "\n",
    "### --- Part One ---"
   ]
  },
  {
   "cell_type": "code",
   "execution_count": 1,
   "outputs": [
    {
     "name": "stdout",
     "output_type": "stream",
     "text": [
      "Answer: 119\n"
     ]
    }
   ],
   "source": [
    "import re\n",
    "\n",
    "lines = open('day07.data').read().split('.\\n')\n",
    "re_bag = '([a-z ]+) bags? contain [\\\\w ]+'\n",
    "re_list = '(\\\\d+)[ ]?([ a-z]+) bags?'\n",
    "\n",
    "bags_all = set()\n",
    "bags = {}\n",
    "for line in lines:\n",
    "    main_bag = re.findall(re_bag, line)[0]\n",
    "    list_of_bags = [pair[1] for pair in re.findall(re_list, line)]\n",
    "    bags[main_bag] = list_of_bags\n",
    "    bags_all.update(list_of_bags + [main_bag])\n",
    "\n",
    "\n",
    "def fit_iterator(bag, target):\n",
    "    if bag in bags[target]:\n",
    "        return 1\n",
    "    for next_target in bags[target]:\n",
    "        contains_bag = fit_iterator(bag, next_target)\n",
    "        if contains_bag:\n",
    "            return contains_bag\n",
    "    return 0\n",
    "\n",
    "\n",
    "def fit(bag):\n",
    "    count = 0\n",
    "    for each in bags_all:\n",
    "        count += fit_iterator(bag, each)\n",
    "    return count\n",
    "\n",
    "print(f'Answer: {fit(\"shiny gold\")}')\n"
   ],
   "metadata": {
    "collapsed": false,
    "pycharm": {
     "name": "#%%\n"
    }
   }
  },
  {
   "cell_type": "markdown",
   "source": [
    "### --- Part Two ---"
   ],
   "metadata": {
    "collapsed": false
   }
  },
  {
   "cell_type": "code",
   "execution_count": 2,
   "outputs": [
    {
     "name": "stdout",
     "output_type": "stream",
     "text": [
      "Answer: 155802\n"
     ]
    }
   ],
   "source": [
    "bags_complete = {}\n",
    "for line in lines:\n",
    "    bags_complete[re.findall(re_bag, line)[0]] = [pair for pair in re.findall(re_list, line)]\n",
    "\n",
    "\n",
    "def count_iterator(bag):\n",
    "    return sum([count_iterator(pair[1]) * int(pair[0]) + int(pair[0]) for pair in bags_complete[bag]])\n",
    "\n",
    "print(f'Answer: {count_iterator(\"shiny gold\")}')"
   ],
   "metadata": {
    "collapsed": false,
    "pycharm": {
     "name": "#%%\n"
    }
   }
  }
 ],
 "metadata": {
  "kernelspec": {
   "display_name": "Python 3",
   "language": "python",
   "name": "python3"
  },
  "language_info": {
   "codemirror_mode": {
    "name": "ipython",
    "version": 2
   },
   "file_extension": ".py",
   "mimetype": "text/x-python",
   "name": "python",
   "nbconvert_exporter": "python",
   "pygments_lexer": "ipython2",
   "version": "2.7.6"
  }
 },
 "nbformat": 4,
 "nbformat_minor": 0
}