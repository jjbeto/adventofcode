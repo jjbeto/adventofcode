{
 "cells": [
  {
   "cell_type": "markdown",
   "metadata": {
    "collapsed": true,
    "pycharm": {
     "name": "#%% md\n"
    }
   },
   "source": [
    "[Day 10](https://adventofcode.com/2020/day/10)\n",
    "\n",
    "### --- Part One ---"
   ]
  },
  {
   "cell_type": "code",
   "execution_count": 1,
   "outputs": [
    {
     "name": "stdout",
     "output_type": "stream",
     "text": [
      "Answer: 2812\n"
     ]
    }
   ],
   "source": [
    "from collections import defaultdict\n",
    "\n",
    "numbers = [int(n) for n in open('day10.data').read().splitlines()]\n",
    "numbers = sorted(numbers + [0, max(numbers) + 3])\n",
    "\n",
    "jolt_diff = defaultdict(int)\n",
    "for i, n in enumerate(numbers):\n",
    "    if i > 0:\n",
    "        jolt_diff[n - numbers[i - 1]] += 1\n",
    "\n",
    "print(f'Answer: {jolt_diff[1] * jolt_diff[3]}')"
   ],
   "metadata": {
    "collapsed": false,
    "pycharm": {
     "name": "#%%\n"
    }
   }
  },
  {
   "cell_type": "markdown",
   "source": [
    "### --- Part Two ---"
   ],
   "metadata": {
    "collapsed": false
   }
  },
  {
   "cell_type": "code",
   "execution_count": 2,
   "outputs": [
    {
     "name": "stdout",
     "output_type": "stream",
     "text": [
      "Answer: 386869246296064\n"
     ]
    }
   ],
   "source": [
    "class Node:\n",
    "    def __init__(self):\n",
    "        self.parents = []\n",
    "        self.children = []\n",
    "        self.accum = 0\n",
    "\n",
    "\n",
    "numbers = [int(n) for n in open('day10.data').read().splitlines()]\n",
    "numbers = sorted(numbers + [0, max(numbers) + 3], reverse=True)\n",
    "lines = len(numbers)\n",
    "nodes = defaultdict(Node)\n",
    "\n",
    "\n",
    "def add_relation(node, current_i, delta):\n",
    "    if current_i + delta > lines - 1:\n",
    "        return\n",
    "    if numbers[current_i] <= numbers[current_i + delta] + 3:\n",
    "        next_node = nodes[numbers[current_i + delta]]\n",
    "        next_node.parents.append(node)\n",
    "        node.children.append(next_node)\n",
    "\n",
    "\n",
    "for i, n in enumerate(numbers):\n",
    "    _node = nodes[n]\n",
    "    add_relation(_node, i, +1)\n",
    "    add_relation(_node, i, +2)\n",
    "    add_relation(_node, i, +3)\n",
    "\n",
    "nodes[max(numbers)].accum = 1\n",
    "for _node in [nodes[n] for n in numbers]:\n",
    "    for _parent in _node.parents:\n",
    "        _node.accum += _parent.accum\n",
    "\n",
    "print(f'Answer: {nodes[0].accum}')"
   ],
   "metadata": {
    "collapsed": false,
    "pycharm": {
     "name": "#%%\n"
    }
   }
  }
 ],
 "metadata": {
  "kernelspec": {
   "display_name": "Python 3",
   "language": "python",
   "name": "python3"
  },
  "language_info": {
   "codemirror_mode": {
    "name": "ipython",
    "version": 2
   },
   "file_extension": ".py",
   "mimetype": "text/x-python",
   "name": "python",
   "nbconvert_exporter": "python",
   "pygments_lexer": "ipython2",
   "version": "2.7.6"
  }
 },
 "nbformat": 4,
 "nbformat_minor": 0
}