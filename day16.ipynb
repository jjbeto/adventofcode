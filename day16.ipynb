{
 "cells": [
  {
   "cell_type": "markdown",
   "metadata": {
    "collapsed": true,
    "pycharm": {
     "name": "#%% md\n"
    }
   },
   "source": [
    "[Day 16](https://adventofcode.com/2020/day/16)\n",
    "\n",
    "### --- Part One ---"
   ]
  },
  {
   "cell_type": "code",
   "execution_count": 1,
   "outputs": [
    {
     "name": "stdout",
     "output_type": "stream",
     "text": [
      "Answer: 28884\n"
     ]
    }
   ],
   "source": [
    "blocks = open('day16.data').read().split('\\n\\n')\n",
    "accepted = {}\n",
    "for line in [_l for _l in blocks[0].split('\\n')]:\n",
    "    \"\"\"Transforms 2 ranges into a flat list of integer: 1-2 or 4-6 -> [1, 2, 4, 5, 6]\"\"\"\n",
    "    data = line.split(': ')\n",
    "    accepted[data[0]] = sum(((list(range(*[int(n) + i for i, n in enumerate(_range.split('-'))])))\n",
    "                             for _range in data[1].split(' or ')), [])\n",
    "\n",
    "def find_error(ticket: str):\n",
    "    for number in [int(n) for n in ticket.split(',')]:\n",
    "        if not any(number in acceptable for acceptable in accepted.values()):\n",
    "            return number\n",
    "    return None\n",
    "\n",
    "tickets = list([(line, find_error(line)) for line in [_l for _l in blocks[2].split('\\n')[1:]]])\n",
    "part_1 = sum([t[1] for t in tickets if t[1]])\n",
    "\n",
    "print(f\"Answer: {part_1}\")"
   ],
   "metadata": {
    "collapsed": false,
    "pycharm": {
     "name": "#%%\n"
    }
   }
  },
  {
   "cell_type": "markdown",
   "source": [
    "### --- Part Two ---"
   ],
   "metadata": {
    "collapsed": false
   }
  },
  {
   "cell_type": "code",
   "execution_count": 2,
   "outputs": [
    {
     "name": "stdout",
     "output_type": "stream",
     "text": [
      "Answer: 1001849322119\n"
     ]
    }
   ],
   "source": [
    "def part_2():\n",
    "    \"\"\"associate all positions to all fields\"\"\"\n",
    "    positions = {k: list([i for i in range(len(accepted))]) for k in accepted}  # initially all is accepted\n",
    "    for valid in [t[0] for t in tickets if t[1] is None]:\n",
    "        for i, value in enumerate([int(n) for n in valid.split(',')]):\n",
    "            [positions[field].remove(i) for field, acceptable in accepted.items() if value not in acceptable]\n",
    "\n",
    "    \"\"\"remove positions that do not fit by rule on each field\"\"\"\n",
    "    used_positions = set()\n",
    "    fields = {}\n",
    "    for field, values in sorted(positions.items(), key=lambda entry: len(entry[1])):  # sort by number of positions\n",
    "        for position in [_p for _p in values if _p not in used_positions]:\n",
    "            fields[position] = field\n",
    "            used_positions.add(position)\n",
    "\n",
    "    \"\"\"multiply just the encountered fields that starts with 'departure'\"\"\"\n",
    "    departure_data = 1\n",
    "    for position, field in [(_p, _f) for _p, _f in fields.items() if _f.startswith('departure')]:\n",
    "        departure_data *= next(int(each) for i, each in enumerate(blocks[1].split(',')) if i == position)\n",
    "\n",
    "    return departure_data\n",
    "\n",
    "print(f\"Answer: {part_2()}\")"
   ],
   "metadata": {
    "collapsed": false,
    "pycharm": {
     "name": "#%%\n"
    }
   }
  }
 ],
 "metadata": {
  "kernelspec": {
   "display_name": "Python 3",
   "language": "python",
   "name": "python3"
  },
  "language_info": {
   "codemirror_mode": {
    "name": "ipython",
    "version": 2
   },
   "file_extension": ".py",
   "mimetype": "text/x-python",
   "name": "python",
   "nbconvert_exporter": "python",
   "pygments_lexer": "ipython2",
   "version": "2.7.6"
  }
 },
 "nbformat": 4,
 "nbformat_minor": 0
}