{
 "cells": [
  {
   "cell_type": "markdown",
   "metadata": {
    "collapsed": true,
    "pycharm": {
     "name": "#%% md\n"
    }
   },
   "source": [
    "[Day 06](https://adventofcode.com/2020/day/6)\n",
    "\n",
    "### --- Part One ---"
   ]
  },
  {
   "cell_type": "code",
   "execution_count": 1,
   "outputs": [
    {
     "name": "stdout",
     "output_type": "stream",
     "text": [
      "Answer: 6259\n"
     ]
    }
   ],
   "source": [
    "lines = open('day06.data').read().split('\\n\\n')\n",
    "\n",
    "acceptable = 'abcdefghijklmnopqrstuvwxyz'\n",
    "groups = [len(set([letter for letter in line if letter in acceptable])) for line in lines]\n",
    "print(f'Answer: {sum(groups)}')"
   ],
   "metadata": {
    "collapsed": false,
    "pycharm": {
     "name": "#%%\n"
    }
   }
  },
  {
   "cell_type": "markdown",
   "source": [
    "### --- Part Two ---"
   ],
   "metadata": {
    "collapsed": false
   }
  },
  {
   "cell_type": "code",
   "execution_count": 2,
   "outputs": [
    {
     "name": "stdout",
     "output_type": "stream",
     "text": [
      "Answer: 3178\n"
     ]
    }
   ],
   "source": [
    "everyone_yes = []\n",
    "for line in lines:\n",
    "    group = line.split()\n",
    "    result = set(group[0])\n",
    "    for person in group[1:]:\n",
    "        result = [letter for letter in result if letter in person]\n",
    "    everyone_yes.append(len(result))\n",
    "\n",
    "print(f'Answer: {sum(everyone_yes)}')"
   ],
   "metadata": {
    "collapsed": false,
    "pycharm": {
     "name": "#%%\n"
    }
   }
  }
 ],
 "metadata": {
  "kernelspec": {
   "display_name": "Python 3",
   "language": "python",
   "name": "python3"
  },
  "language_info": {
   "codemirror_mode": {
    "name": "ipython",
    "version": 2
   },
   "file_extension": ".py",
   "mimetype": "text/x-python",
   "name": "python",
   "nbconvert_exporter": "python",
   "pygments_lexer": "ipython2",
   "version": "2.7.6"
  }
 },
 "nbformat": 4,
 "nbformat_minor": 0
}